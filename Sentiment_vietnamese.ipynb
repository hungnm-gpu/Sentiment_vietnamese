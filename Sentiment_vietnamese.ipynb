{
  "cells": [
    {
      "cell_type": "code",
      "execution_count": null,
      "metadata": {
        "id": "-QuAjpJPCsYt"
      },
      "outputs": [],
      "source": [
        "import pandas as pd\n",
        "\n",
        "from sklearn.model_selection import train_test_split\n",
        "import numpy as np\n",
        "from sklearn.metrics import confusion_matrix\n",
        "\n",
        "from sklearn.feature_extraction.text import TfidfTransformer\n",
        "from sklearn.feature_extraction.text import CountVectorizer\n",
        "from sklearn.metrics import accuracy_score"
      ]
    },
    {
      "cell_type": "code",
      "source": [
        ""
      ],
      "metadata": {
        "id": "52lrQRIH5hUT"
      },
      "execution_count": null,
      "outputs": []
    },
    {
      "cell_type": "code",
      "execution_count": null,
      "metadata": {
        "id": "CcRIVeV_DMVW",
        "colab": {
          "base_uri": "https://localhost:8080/"
        },
        "outputId": "ed98bc5b-842f-4254-dd24-e841389291f8"
      },
      "outputs": [
        {
          "output_type": "stream",
          "name": "stdout",
          "text": [
            "Drive already mounted at /content/drive; to attempt to forcibly remount, call drive.mount(\"/content/drive\", force_remount=True).\n"
          ]
        }
      ],
      "source": [
        "from google.colab import drive\n",
        "drive.mount('/content/drive')"
      ]
    },
    {
      "cell_type": "markdown",
      "metadata": {
        "id": "Ge-07IY-Ipc7"
      },
      "source": [
        "\n",
        "# Prepare data"
      ]
    },
    {
      "cell_type": "code",
      "source": [
        "link_pos = \"/content/drive/MyDrive/Thư mục không có tiêu đề/data_train/train/pos\"\n",
        "link_neg = \"/content/drive/MyDrive/Thư mục không có tiêu đề/data_train/train/neg\""
      ],
      "metadata": {
        "id": "p4B5mmXiAO5x"
      },
      "execution_count": null,
      "outputs": []
    },
    {
      "cell_type": "markdown",
      "metadata": {
        "id": "R4f08nnS0Fq1"
      },
      "source": [
        "## read csv"
      ]
    },
    {
      "cell_type": "code",
      "execution_count": null,
      "metadata": {
        "id": "LF-_yCHODHgk"
      },
      "outputs": [],
      "source": [
        "df = pd.read_csv('/content/drive/MyDrive/Sentiment_analysis_vietnamese/data - data.csv', index_col=-1)"
      ]
    },
    {
      "cell_type": "code",
      "execution_count": null,
      "metadata": {
        "id": "uJN2kEXEDWMA",
        "colab": {
          "base_uri": "https://localhost:8080/"
        },
        "outputId": "a9b7c4a0-976d-433f-88b5-94a38338f525"
      },
      "outputs": [
        {
          "output_type": "execute_result",
          "data": {
            "text/plain": [
              "<bound method NDFrame.head of                                                comment label  rate\n",
              "NaN                                     Áo bao đẹp ạ!!   POS     5\n",
              "NaN                                        Tuyệt vời !   POS     5\n",
              "NaN                         2day ao khong giong trong.   NEG     1\n",
              "NaN                        Mùi thơm,bôi lên da mềm da.   POS     5\n",
              "NaN                                  Vải đẹp, dày dặn.   POS     5\n",
              "..                                                 ...   ...   ...\n",
              "NaN                                   Không đáng tiền.   NEG     1\n",
              "NaN                                      Quần rất đẹp.   POS     5\n",
              "NaN                            Hàng đẹp đúng giá tiền.   POS     5\n",
              "NaN                                   Chất vải khá ổn.   POS     4\n",
              "NaN  áo rất ok nhé , vải mịn , len cao cổ này phối ...   POS     5\n",
              "\n",
              "[31460 rows x 3 columns]>"
            ]
          },
          "metadata": {},
          "execution_count": 20
        }
      ],
      "source": [
        "df.head"
      ]
    },
    {
      "cell_type": "code",
      "execution_count": null,
      "metadata": {
        "colab": {
          "base_uri": "https://localhost:8080/"
        },
        "id": "atCz7_dbDlrF",
        "outputId": "08244fac-1491-4586-bef1-0fd8c07266b7"
      },
      "outputs": [
        {
          "output_type": "stream",
          "name": "stdout",
          "text": [
            "Áo bao đẹp ạ!!\n",
            "(31460,)\n",
            "POS\n",
            "(31460,)\n"
          ]
        }
      ],
      "source": [
        "X = np.array(df.iloc[:, 0])\n",
        "y = np.array(df.iloc[:, 1])\n",
        "print(X[0])\n",
        "print(X.shape)\n",
        "print(y[0])\n",
        "print(y.shape)"
      ]
    },
    {
      "cell_type": "code",
      "source": [
        "data_label = pd.DataFrame(y, columns=['label']).groupby('label').size()\n",
        "data_label.plot.pie(figsize=(15, 15), autopct=\"%.2f%%\", fontsize=12)"
      ],
      "metadata": {
        "colab": {
          "base_uri": "https://localhost:8080/",
          "height": 863
        },
        "id": "WPuoTw1QJOLK",
        "outputId": "7a2ffe34-722e-49f8-da29-a1e33beb1039"
      },
      "execution_count": null,
      "outputs": [
        {
          "output_type": "execute_result",
          "data": {
            "text/plain": [
              "<matplotlib.axes._subplots.AxesSubplot at 0x7f6fd28b4cd0>"
            ]
          },
          "metadata": {},
          "execution_count": 7
        },
        {
          "output_type": "display_data",
          "data": {
            "text/plain": [
              "<Figure size 1080x1080 with 1 Axes>"
            ],
            "image/png": "[encoded data removed]"
          },
          "metadata": {}
        }
      ]
    },
    {
      "cell_type": "code",
      "source": [
        "# print(y)\n",
        "# x_pos = X[y == 'POS']\n",
        "# y_pos = y[y == 'POS']\n",
        "# print(y_pos.shape)\n",
        "# print(x_pos.shape)\n",
        "\n",
        "# x_neg = X[y == 'NEG']\n",
        "# y_neg = y[y == 'NEG']\n",
        "\n",
        "# x_neu = X[y == 'NEU']\n",
        "# y_neu = y[y == 'NEU']\n",
        "\n",
        "# l = x_neu.shape[0]\n",
        "\n",
        "# x_neg = x_neg[:l]\n",
        "# y_neg = y_neg[:l]\n",
        "\n",
        "# x_pos = x_pos[:l]\n",
        "# y_pos = y_pos[:l]\n",
        "\n",
        "# print(x_neu.shape[0])\n",
        "# print(x_pos.shape[0])\n",
        "# print(x_neg.shape[0])\n",
        "\n",
        "# X_main = np.append(x_neu, x_neg)\n",
        "# X_main = np.append(X_main, x_pos)\n",
        "# print(X_main.shape)\n",
        "\n",
        "# y_main = np.append(y_neu, y_neg)\n",
        "# y_main = np.append(y_main, y_pos)\n",
        "# print(y_main.shape)\n",
        "\n",
        "# print(X_main)\n",
        "# print(y_main)"
      ],
      "metadata": {
        "id": "qocZRcla1EIi"
      },
      "execution_count": null,
      "outputs": []
    },
    {
      "cell_type": "markdown",
      "metadata": {
        "id": "znv6HzsFq9Zx"
      },
      "source": [
        "## Tách từ"
      ]
    },
    {
      "cell_type": "code",
      "execution_count": null,
      "metadata": {
        "colab": {
          "base_uri": "https://localhost:8080/"
        },
        "id": "WwGdq8rlrLzz",
        "outputId": "a8db3b4d-78c1-4113-9103-c62129688c47"
      },
      "outputs": [
        {
          "output_type": "stream",
          "name": "stdout",
          "text": [
            "Requirement already satisfied: py4j in /usr/local/lib/python3.7/dist-packages (0.10.9.5)\n",
            "fatal: destination path 'VnCoreNLP' already exists and is not an empty directory.\n",
            "Requirement already satisfied: vncorenlp in /usr/local/lib/python3.7/dist-packages (1.0.3)\n",
            "Requirement already satisfied: requests in /usr/local/lib/python3.7/dist-packages (from vncorenlp) (2.23.0)\n",
            "Requirement already satisfied: idna<3,>=2.5 in /usr/local/lib/python3.7/dist-packages (from requests->vncorenlp) (2.10)\n",
            "Requirement already satisfied: urllib3!=1.25.0,!=1.25.1,<1.26,>=1.21.1 in /usr/local/lib/python3.7/dist-packages (from requests->vncorenlp) (1.24.3)\n",
            "Requirement already satisfied: chardet<4,>=3.0.2 in /usr/local/lib/python3.7/dist-packages (from requests->vncorenlp) (3.0.4)\n",
            "Requirement already satisfied: certifi>=2017.4.17 in /usr/local/lib/python3.7/dist-packages (from requests->vncorenlp) (2021.10.8)\n"
          ]
        }
      ],
      "source": [
        "!pip install py4j\n",
        "!git clone https://github.com/vncorenlp/VnCoreNLP.git\n",
        "!pip install vncorenlp\n",
        "import sys\n",
        "sys.path.append('./VnCoreNLP')\n",
        "from vncorenlp import VnCoreNLP\n",
        "\n"
      ]
    },
    {
      "cell_type": "code",
      "execution_count": null,
      "metadata": {
        "id": "pod6-J19ruVR"
      },
      "outputs": [],
      "source": [
        "vncorenlp = VnCoreNLP(\"VnCoreNLP/VnCoreNLP-1.1.1.jar\", annotators=\"wseg\", max_heap_size='-Xmx500m')\n"
      ]
    },
    {
      "cell_type": "code",
      "execution_count": null,
      "metadata": {
        "colab": {
          "base_uri": "https://localhost:8080/"
        },
        "id": "jFc6bfQMsVdu",
        "outputId": "3649a6f0-0d2b-4508-bd43-89131872b063"
      },
      "outputs": [
        {
          "output_type": "stream",
          "name": "stdout",
          "text": [
            "10\n",
            "[['Áo', 'bao', 'đẹp', 'ạ', '!'], ['Tuyệt_vời', '!'], ['2day', 'ao', 'khong', 'giong', 'trong', '.'], ['Mùi', 'thơm', ',', 'bôi', 'lên', 'da', 'mềm', 'da', '.'], ['Vải', 'đẹp', ',', 'dày_dặn', '.'], ['Hàng', 'rất', 'đẹp', ',', 'rất_chi_là', 'ưng_ý', '.'], ['Chất_lượng', 'sản_phẩm', 'tốt', ',', 'date', 'dài', '.'], ['Ăn_nói', 'và', 'thái_độ', 'phục_vụ', 'tốt', '.'], ['Đóng_gói', 'sản_phẩm', 'chắc_chắn', '.'], ['tất', 'sờn', 'hết', 'ca', 'chưa', 'dùng', 'mà', 'vay', 'r', '.']]\n"
          ]
        }
      ],
      "source": [
        "list = []\n",
        "for i in range(10):\n",
        "  tmp = vncorenlp.tokenize(X[i])\n",
        "  list.append(tmp[0])\n",
        "\n",
        "print(len(list))\n",
        "print(list[:10])"
      ]
    },
    {
      "cell_type": "markdown",
      "metadata": {
        "id": "bG73GSs4Cr2f"
      },
      "source": [
        "## n_gram(n = 3)"
      ]
    },
    {
      "cell_type": "code",
      "execution_count": null,
      "metadata": {
        "id": "8rLlEZYNRxIi"
      },
      "outputs": [],
      "source": [
        "def n_gram(list, n = 2):\n",
        "  main_list = []\n",
        "  for text in list:\n",
        "    l = len(text)\n",
        "    l = l - 1 if ( text[l-1] == '.' or text[l-1] == '!') else (l) # loại dấu câu nếu có ra khỏi câu\n",
        "    if(l <= 1): \n",
        "      main_list.append(text[0])\n",
        "      continue\n",
        "    str_n = \"\"\n",
        "    for i in range(1, n+1):\n",
        "      # list_n = []  # dùng để lưu danh sách các string có n từ nối nhau trong 1 câu\n",
        "      for j in range( l-i+1 ): \n",
        "        str = text[j]\n",
        "        for k in range(1, i):\n",
        "          str = str + \"_\" + text[j+k]\n",
        "        str_n  = str_n + \" \" + str\n",
        "    main_list.append(str_n)\n",
        "  return np.array(main_list)"
      ]
    },
    {
      "cell_type": "code",
      "execution_count": null,
      "metadata": {
        "colab": {
          "base_uri": "https://localhost:8080/"
        },
        "id": "wAPm_k8yVOHr",
        "outputId": "ee10bbe7-d466-40e0-d966-4867b8529a81"
      },
      "outputs": [
        {
          "output_type": "stream",
          "name": "stdout",
          "text": [
            "31460\n",
            "31460\n",
            " Áo bao đẹp ạ\n"
          ]
        }
      ],
      "source": [
        "main_list = n_gram(list, 1)\n",
        "print(len(main_list))\n",
        "print(len(y))\n",
        "print(main_list[0])"
      ]
    },
    {
      "cell_type": "markdown",
      "source": [
        "## Train_test"
      ],
      "metadata": {
        "id": "_W1gJeitLTEk"
      }
    },
    {
      "cell_type": "code",
      "source": [
        "X_train, X_test, y_train,  y_test = train_test_split(main_list, y, random_state = 1, test_size=0.1)\n",
        "print(X_test[2], y_test[2])"
      ],
      "metadata": {
        "id": "rYwvr08sfntD",
        "colab": {
          "base_uri": "https://localhost:8080/"
        },
        "outputId": "fb794f7a-e160-4742-f60d-c80b6fab5e30"
      },
      "execution_count": null,
      "outputs": [
        {
          "output_type": "stream",
          "name": "stdout",
          "text": [
            " Chất_lượng tạm được NEU\n"
          ]
        }
      ]
    },
    {
      "cell_type": "code",
      "source": [
        "print(X_train)"
      ],
      "metadata": {
        "colab": {
          "base_uri": "https://localhost:8080/"
        },
        "id": "ZrSiWGfnXluU",
        "outputId": "aaece8cb-ad3d-419e-d336-f22792785549"
      },
      "execution_count": null,
      "outputs": [
        {
          "output_type": "stream",
          "name": "stdout",
          "text": [
            "[' Lần nào mua hàng cũng rất ưng' ' Áo của sh siêu đẹp i hình 100% lun'\n",
            " ' Chất vải thun đơn_giản , mỏng' ...\n",
            " ' Xem như là test : ( ( chắc muốn mua áo dày phải đắt tiền hơn'\n",
            " ' Ban_đầu mình nghĩ là_ren mỏng , nhưng nhận đc thì thấy_ren đẹp hơn mình tưởng_tượng'\n",
            " ' Len mịn , dầy vừa ko dầy quá , giữ ấm tốt']\n"
          ]
        }
      ]
    },
    {
      "cell_type": "markdown",
      "source": [
        "# Naive bayes"
      ],
      "metadata": {
        "id": "7IYk_TjWLNr0"
      }
    },
    {
      "cell_type": "code",
      "source": [
        "X_train_pos = X_train[y_train == \"POS\"]\n",
        "X_train_neg = X_train[y_train == \"NEG\"]\n",
        "X_train_neu = X_train[y_train == \"NEU\"]"
      ],
      "metadata": {
        "id": "7AgjiXlBKOkq"
      },
      "execution_count": null,
      "outputs": []
    },
    {
      "cell_type": "code",
      "source": [
        "print(X_train_pos[6])\n",
        "print(X_train_neg[0])\n",
        "print(X_train_neu[0])\n"
      ],
      "metadata": {
        "colab": {
          "base_uri": "https://localhost:8080/"
        },
        "id": "9sVyALhpM0rr",
        "outputId": "3127af8c-0a19-4d00-ed5b-5db7757ab23a"
      },
      "execution_count": null,
      "outputs": [
        {
          "output_type": "stream",
          "name": "stdout",
          "text": [
            " Đẹp xuất_sắc\n",
            " Chất vải thun đơn_giản , mỏng\n",
            " Vải mỏng_tanh đã thế áo còn ko có cúc\n"
          ]
        }
      ]
    },
    {
      "cell_type": "code",
      "execution_count": null,
      "metadata": {
        "id": "CzJLfpwMtX30"
      },
      "outputs": [],
      "source": [
        "# vectorizer = CountVectorizer()\n",
        "# vectorizer.fit(X_train)\n",
        "# # vectorizer.fit()\n",
        "\n",
        "# print(len(vectorizer.vocabulary_))\n",
        "# vector = vectorizer.transform(X_train)\n",
        "# print(vector)\n",
        "# print(y.shape)"
      ]
    },
    {
      "cell_type": "code",
      "source": [
        "from collections import Counter\n",
        "#input danh sách các câu, output dict gồm từ và xác suất của từ\n",
        "def get_probability(list):\n",
        "  test_list = list\n",
        "  joined = \" \".join(ele for ele in test_list)\n",
        "  mappd = Counter(joined.split())\n",
        "  total_val = sum(mappd.values())\n",
        "  res = {key: val / total_val for key,\n",
        "    val in mappd.items()}\n",
        "  return res\n"
      ],
      "metadata": {
        "id": "YCB_gnjtasfN"
      },
      "execution_count": null,
      "outputs": []
    },
    {
      "cell_type": "code",
      "source": [
        "p_pos = get_probability(X_train_pos)\n",
        "# print(p_pos)\n",
        "p_neg = get_probability(X_train_neg)\n",
        "# print(p_neg)\n",
        "p_neu = get_probability(X_train_neu)\n",
        "print(p_neu)\n",
        "\n",
        "total = len(y)\n",
        "y_list = y.tolist()\n",
        "P_pos = y_list.count('POS') / total\n",
        "P_neg = y_list.count('NEG') / total\n",
        "P_neu = y_list.count('NEU') / total"
      ],
      "metadata": {
        "colab": {
          "base_uri": "https://localhost:8080/"
        },
        "id": "jxK48FjudDqo",
        "outputId": "c6d48350-a887-4409-aa5d-d5ed0de55634"
      },
      "execution_count": null,
      "outputs": [
        {
          "output_type": "stream",
          "name": "stdout",
          "text": [
            "{'Vải': 0.003959291788651889, 'mỏng_tanh': 2.7882336539802036e-05, 'đã': 0.0017565872020075283, 'thế': 0.0003067057019378224, 'áo': 0.008057995260002788, 'còn': 0.002397880942422975, 'ko': 0.008894465356196849, 'có': 0.007026348808030113, 'cúc': 0.0002230586923184163, 'Áo': 0.0076676425484455595, 'vẫn': 0.002342116269343371, 'tốt': 0.005353408615641991, 'nhưng': 0.015418932106510526, 'sai': 0.0010316464519726752, 'mẫu': 0.0012825874808308937, 'không': 0.007333054509967935, 'biết': 0.002202704586644361, 'do': 0.0009758817788930712, 'shop': 0.011125052279381013, 'nhầm_lẫn': 5.576467307960407e-05, 'hay': 0.0006691760769552489, 'hết': 0.0012268228077512895, 'hàng': 0.014415167991077652, 'lấy': 0.000864352432733863, 'khác': 0.0018959988847065384, 'thay': 0.0002230586923184163, 'vào': 0.0013662344904502998, 'mà': 0.005632231981040011, 'hỏi': 0.0004461173846368326, 'ý_kiến': 5.576467307960407e-05, 'gì': 0.0011431757981318835, 'cả': 0.0008922347692736652, 'Chất': 0.003457409730935452, 'cũng': 0.004489056182908128, 'đẹp': 0.013216227519866165, 'quần': 0.002119057577024955, 'hơi': 0.01617175519308518, 'ngắn': 0.0020354105674055484, 'Túi': 0.0006691760769552489, 'dày': 0.000864352432733863, 'hơn': 0.004879408894465356, 'thì': 0.008866583019657048, 'ổn': 0.003122821692457828, 'Chất_lượng': 0.008838700683117245, 'sản_phẩm': 0.01137599330823923, 'tuyệt_vời': 0.0017565872020075283, 'Đóng_gói': 0.0037919977694130767, 'rất': 0.008448347971560017, 'và': 0.005883173009898229, 'chắc': 0.0013104698173706957, 'chắn.mjnh': 2.7882336539802036e-05, 'dat': 0.00013941168269901018, '1': 0.005297643942562387, 'cai': 0.0002230586923184163, 'mau': 0.00033458803847762444, 'xanh': 0.0010037641154328732, 'den': 0.00016729401923881222, 'mak': 8.364700961940611e-05, 'lai': 0.00019517635577861425, 'gjao': 2.7882336539802036e-05, 'Hàng': 0.0034852920674752546, 'may': 0.0025651749616617875, 'gia_công': 2.7882336539802036e-05, 'Ko': 0.000752823086574655, 'dùng': 0.0012825874808308937, 'được': 0.011794228356336261, 'Mỗi_tội': 0.0004461173846368326, 'Vans': 2.7882336539802036e-05, 'bên': 0.0014777638366095078, 'này': 0.002453645615502579, 'ít': 0.0005855290673358427, 'màu': 0.0077791718946047675, 'Giao': 0.002537292625121985, 'size': 0.006273525721455458, 'cỡ': 0.0003903527115572285, 's': 0.0006134114038756447, 'thành': 0.00036247037501742645, 'l': 0.00027882336539802036, 'với': 0.0075561132022863515, 'm': 0.0011431757981318835, 'chất': 0.0037362330963334727, 'vải': 0.007333054509967935, 'như': 0.005994702356057437, 'nilon': 0.00027882336539802036, 'nhiều': 0.002425763278962777, 'chỗ': 0.0005855290673358427, 'lỗi': 0.0014777638366095078, 'rẻ': 0.0011710581346716855, 'chịu': 0.00011152934615920815, 'thôi': 0.0018959988847065384, 'Size_M': 8.364700961940611e-05, 'Hơi': 0.0009758817788930712, 'bị': 0.007109995817649519, 'chật': 0.0014498815000697058, 'rồi': 0.0018959988847065384, 'Tuy_nhiên': 0.0006412937404154469, 'legging': 8.364700961940611e-05, 'phần': 0.0009758817788930712, 'gấu': 8.364700961940611e-05, 'lại': 0.004433291509828524, 'k': 0.008030112923462986, 'bó': 0.00033458803847762444, 'chân': 0.0006970584134950509, 'cho': 0.005130349923323575, 'lắm': 0.004990938240624564, 'Đã': 0.0005855290673358427, 'nhận': 0.0019517635577861424, 'Nhưng': 0.0029555276732190156, 'tặng': 0.0006970584134950509, 'thêm': 0.0011710581346716855, 'mặt_nạ': 2.7882336539802036e-05, 'nữa': 0.002091175240485153, 'chứ': 0.0014219991635299038, 'tks': 2.7882336539802036e-05, 'Điện_thoại': 2.7882336539802036e-05, 'mình': 0.0076397602119057575, 'đặt': 0.002342116269343371, 'trắng': 0.0013104698173706957, 'giao': 0.011152934615920814, 'đen': 0.002146939913564757, 'Hình': 0.0003067057019378224, 'giống': 0.005018820577164366, 'trong': 0.0027603513174404015, 'ảnh': 0.00150564617314931, 'Mình': 0.0026767043078209955, 'chát': 0.00011152934615920815, 'chậm': 0.0014498815000697058, 'hài_lòng': 0.0004739997211766346, 'vs': 0.0013941168269901018, 'cách': 0.00033458803847762444, 'đóng_gói': 0.000808587759654259, 'sp': 0.001728704865467726, '..': 0.0010316464519726752, 'nhỏ': 0.0037919977694130767, 'rộng': 0.004712114875226544, ',': 0.03080998187648125, 'mỏng': 0.00630140805799526, 'Mới': 0.00016729401923881222, 'bóc': 8.364700961940611e-05, 'hi_hi': 2.7882336539802036e-05, 'Mà': 0.0004182350480970305, 'phải': 0.0025651749616617875, 'pin': 0.0002230586923184163, 'a': 0.00019517635577861425, 'đâu': 0.000864352432733863, 'nhé': 0.00164505785584832, 'to': 0.002174822250104559, 'gấp': 0.0003067057019378224, 'rưỡi': 2.7882336539802036e-05, '2a': 2.7882336539802036e-05, 'Màu_sắc': 0.00011152934615920815, 'kiểu_dáng': 0.00019517635577861425, 'chi': 0.00013941168269901018, 'mặc': 0.0077791718946047675, 'đươc': 0.00011152934615920815, 'tới': 0.0006412937404154469, '60': 8.364700961940611e-05, 'kg': 0.0007249407500348529, 'moi': 0.00019517635577861425, 'người': 0.0011431757981318835, 'Size': 0.0009758817788930712, 'quá': 0.005632231981040011, 'Thiếu': 5.576467307960407e-05, 'cái': 0.0035689390770946607, 'lót': 0.00033458803847762444, 'giày': 0.0011710581346716855, 'Đáng_lẽ': 2.7882336539802036e-05, '4': 0.0004739997211766346, 'sao': 0.002537292625121985, 'vì': 0.001533528509689112, 'mô_tả': 0.0003903527115572285, 'nhanh': 0.005520702634880803, 'chiều': 0.00016729401923881222, '24/9': 2.7882336539802036e-05, 'trưa': 8.364700961940611e-05, '25/8': 2.7882336539802036e-05, 'check': 0.00019517635577861425, 'chính': 0.00016729401923881222, 'hãng': 0.0002230586923184163, 'Tạm': 0.0012547051442910915, 'Nên': 0.0005018820577164366, 'hôm_nay': 0.00019517635577861425, 'lên': 0.001617175519308518, 'đánh_giá': 0.0005576467307960407, 'Chất_liệu': 0.0006970584134950509, 'đường': 0.0010595287885124774, 'chỉ': 0.0028439983270598075, 'Chấp_nhận': 5.576467307960407e-05, 'Đeo': 5.576467307960407e-05, 'tức': 5.576467307960407e-05, 'mắt': 0.00013941168269901018, 'Mặc': 0.0006134114038756447, 'thoải_mái': 0.0006134114038756447, 'Màu': 0.001672940192388122, 'già': 0.00013941168269901018, 'K': 0.0010037641154328732, 'ưng': 0.0005576467307960407, 'tẹo': 8.364700961940611e-05, 'nào': 0.002230586923184163, 'Nhưng_mà': 0.00011152934615920815, 'Mong': 0.0004739997211766346, 'bạn': 0.001533528509689112, 'rút': 0.00016729401923881222, 'kinh_nghiệm': 0.00013941168269901018, 'lần': 0.0017565872020075283, 'sau': 0.001700822528927924, 'tiền_nào_của_nấy': 0.0002509410288582183, 'vậy': 0.0013104698173706957, 'Nhận': 0.00013941168269901018, 'xước': 0.00016729401923881222, 'Tôi': 0.00016729401923881222, 'là': 0.00616199637529625, 'cực_kì': 2.7882336539802036e-05, 'kỹ_tính': 2.7882336539802036e-05, 'khi': 0.0020354105674055484, 'mua': 0.005130349923323575, 'online': 8.364700961940611e-05, 'Nói_chung': 0.000808587759654259, 'chất_lượng': 0.002397880942422975, 'so': 0.0037919977694130767, 'giá': 0.005855290673358427, 'tiền': 0.005325526279102189, 'Sản_phẩm': 0.001728704865467726, 'tầm': 0.0006134114038756447, 'Em': 0.00011152934615920815, 'buồn': 0.00033458803847762444, 'Bình': 0.00011152934615920815, 'đựng': 0.00013941168269901018, 'lục_lạc': 2.7882336539802036e-05, 'méo_mó': 5.576467307960407e-05, 'Khác': 8.364700961940611e-05, 'hình': 0.008727171336958037, 'chút': 0.0013104698173706957, 'Nếu': 0.0003067057019378224, 'đuôi': 5.576467307960407e-05, 'tôm': 2.7882336539802036e-05, 'dài': 0.0014498815000697058, 'xíu': 0.000864352432733863, 'sang': 0.0002230586923184163, 'thích': 0.0011152934615920815, 'tiếc': 0.00036247037501742645, 'sanh': 2.7882336539802036e-05, 'bé': 0.0011989404712114875, 'xong': 0.0003903527115572285, 'mập': 0.00019517635577861425, 'vừa': 0.0026767043078209955, ':': 0.00301129234629862, '(': 0.0017844695385473303, 'thất_vọng': 0.0003903527115572285, 'túi': 0.0010316464519726752, 'giả': 0.00019517635577861425, '...': 0.00150564617314931, 'tạm': 0.008281053952321205, 'Đen': 5.576467307960407e-05, 'đỏ': 0.000836470096194061, 'quên': 0.0002230586923184163, 'đi.nhưng': 2.7882336539802036e-05, 'ksao': 0.00011152934615920815, '😊': 2.7882336539802036e-05, 'sửa': 0.0004461173846368326, 'ok': 0.006050467029137042, 'Shop': 0.005102467586783773, 'cần': 0.0005855290673358427, 'để': 0.0017565872020075283, 'nguyên': 0.00019517635577861425, 'bao_bì': 0.00019517635577861425, 'vỏ': 8.364700961940611e-05, 'hộp': 0.0009201171058134672, 'nhe': 0.00019517635577861425, 'Rất': 0.0012268228077512895, 'cảm_ơn': 0.0002230586923184163, 'Sợ': 0.00011152934615920815, 'sơ_hở': 2.7882336539802036e-05, 'sẽ': 0.002146939913564757, 'lộ': 0.0003903527115572285, 'ngực': 0.0008922347692736652, 'chắc_chắn': 0.0027882336539802035, 'Sim': 5.576467307960407e-05, 'đúng': 0.002258469259723965, 'miêu_tả': 5.576467307960407e-05, 'Đồ': 0.00013941168269901018, 'dc': 0.0020354105674055484, 'public': 2.7882336539802036e-05, 'Ok': 0.000780705423114457, '59k': 2.7882336539802036e-05, 'giải_thích': 5.576467307960407e-05, 'đc': 0.004767879548306148, '?': 0.000864352432733863, 'Thanks': 0.0003067057019378224, '.': 0.0025651749616617875, 'freesize': 5.576467307960407e-05, 'nên': 0.006329290394535062, 'lưu_ý': 0.0003067057019378224, 'OK': 0.0006134114038756447, 'Săn': 5.576467307960407e-05, 'deal': 5.576467307960407e-05, '1k': 2.7882336539802036e-05, 'ngòi_bút': 2.7882336539802036e-05, 'mực': 0.00011152934615920815, 'bay': 2.7882336539802036e-05, 'từng': 8.364700961940611e-05, 'mảng': 5.576467307960407e-05, 'tuy': 0.00036247037501742645, 'thời_gian': 0.0006970584134950509, 'hành': 8.364700961940611e-05, 'lâu': 0.00164505785584832, 'Như': 0.0002509410288582183, 'trẻ_con': 8.364700961940611e-05, 'chắn.chất': 2.7882336539802036e-05, 'bt': 0.0005576467307960407, 'Dùng': 0.0003067057019378224, 'mới': 0.002091175240485153, 'Bị': 0.00016729401923881222, 'bình_thường': 0.0009758817788930712, 'Áo_lót': 5.576467307960407e-05, 'xù': 0.00019517635577861425, 'lông': 0.0002230586923184163, 'vừa_vặn': 0.00013941168269901018, 'Mùi': 0.0002509410288582183, 'nhẹ': 0.0003903527115572285, 'Dù': 8.364700961940611e-05, '50': 0.00013941168269901018, 'Góp_ý': 5.576467307960407e-05, 'đóng_hộp': 5.576467307960407e-05, 'carton': 5.576467307960407e-05, 'Thời_gian': 0.004544820855987732, 'nghĩ': 0.0005297643942562387, 'túi_tiền': 0.00011152934615920815, 'fom': 0.00013941168269901018, 'Có': 0.0006412937404154469, 'thỏi_son': 2.7882336539802036e-05, 'to_đùng': 5.576467307960407e-05, 'y': 0.0013662344904502998, 'dáng': 0.000808587759654259, 'đáng': 0.0013104698173706957, 'Ch': 2.7882336539802036e-05, 'sử': 2.7882336539802036e-05, 'dụng😂😂': 2.7882336539802036e-05, 'Bình_thường': 0.00011152934615920815, 'Đúng': 0.0002230586923184163, 'theo': 0.0003903527115572285, 'vàng': 0.0005576467307960407, 'Thỏi_son': 2.7882336539802036e-05, 'được.Quảng': 2.7882336539802036e-05, 'cáo': 2.7882336539802036e-05, '100%': 5.576467307960407e-05, 'cao_su': 0.00011152934615920815, 'thiên_nhiên': 2.7882336539802036e-05, 'mác': 0.00019517635577861425, '80%': 2.7882336539802036e-05, 'nylon': 8.364700961940611e-05, 'em': 0.000836470096194061, 'chưa': 0.002091175240485153, 'hiểu': 0.00027882336539802036, 'Ừm': 2.7882336539802036e-05, 'mất': 0.0009201171058134672, 'niềm': 2.7882336539802036e-05, 'tin': 0.00011152934615920815, 'Không': 0.0011710581346716855, 'hoàn': 0.00013941168269901018, 'đầy_đủ': 8.364700961940611e-05, 'Lần': 0.0003903527115572285, 'đầu': 0.0006970584134950509, 'q.ao': 2.7882336539802036e-05, 'trên': 0.0011152934615920815, 'shopee': 0.0003067057019378224, 'lúc': 0.0006134114038756447, 'thấy': 0.0017844695385473303, 'lo': 8.364700961940611e-05, 'mk': 0.0003903527115572285, '3': 0.00164505785584832, 'bộ': 0.0008922347692736652, 'liền': 5.576467307960407e-05, 'ra': 0.002146939913564757, 'j': 0.00019517635577861425, 'phí': 0.00036247037501742645, 'Hiện_tại': 2.7882336539802036e-05, 'nghe': 0.0002230586923184163, 'rõ': 0.0004461173846368326, 'Hở': 2.7882336539802036e-05, 'xẻ': 5.576467307960407e-05, 'sâu': 0.00011152934615920815, 'cùng': 0.0003067057019378224, 'áo_lót': 8.364700961940611e-05, 'thông_thường': 2.7882336539802036e-05, '^': 0.0005576467307960407, 'Hic': 0.00016729401923881222, 'Sp': 0.0013383521539104977, 'tuyệt': 0.00016729401923881222, 'bán': 0.0006412937404154469, 'hang': 0.0003903527115572285, 'nhiệt_tình': 0.0010316464519726752, 'Mac': 5.576467307960407e-05, 'len': 0.0005855290673358427, 'u': 2.7882336539802036e-05, '40': 0.00011152934615920815, 'có_điều': 0.0005018820577164366, 'các': 0.0008922347692736652, 'bn': 5.576467307960407e-05, 'nữ': 0.00011152934615920815, 'ốm': 2.7882336539802036e-05, 'from': 0.00011152934615920815, 'nó': 0.000836470096194061, 'rách': 0.0010874111250522794, 'một': 0.0009201171058134672, '*': 0.00027882336539802036, 'lỗ': 0.0002230586923184163, 'Vẫn': 5.576467307960407e-05, 'ủng_hộ': 0.0006134114038756447, '5': 0.0005855290673358427, 'hi_vọng': 0.00016729401923881222, 'góp_ý': 0.00013941168269901018, 'của': 0.0028718806635996096, 'ng': 0.0005018820577164366, 'tiêu_dùng': 2.7882336539802036e-05, 'trung_bình': 0.00013941168269901018, 'phục_vụ': 0.0028718806635996096, 'nude': 0.00011152934615920815, 'Nhắn_tin': 5.576467307960407e-05, 'shoop': 2.7882336539802036e-05, 'phản_hồi': 0.00016729401923881222, 'Dat': 5.576467307960407e-05, 'dai': 0.00019517635577861425, 'ngan': 5.576467307960407e-05, 'co_giãn': 0.0004461173846368326, 'form': 0.001728704865467726, 'thừa': 0.0003903527115572285, 'nóng': 0.000864352432733863, 'thun': 0.0004182350480970305, 'lạnh': 2.7882336539802036e-05, 'nỉ': 8.364700961940611e-05, 'phù_hợp': 0.0013104698173706957, '29.000': 2.7882336539802036e-05, 'đ': 5.576467307960407e-05, 'Tiền_nào_của_nấy': 0.0002509410288582183, 'thui': 0.0002230586923184163, 'phai': 0.00036247037501742645, 'sáng': 0.0004182350480970305, 'oke': 0.0006412937404154469, 'yk': 2.7882336539802036e-05, 'yêu_cầu': 0.00013941168269901018, 'Hình_như': 5.576467307960407e-05, 'cắt': 0.0002509410288582183, 'in': 0.0007249407500348529, 'vức': 2.7882336539802036e-05, 'đi': 0.0014777638366095078, 'Cỡ': 5.576467307960407e-05, 'Vãi': 0.0002509410288582183, 'co': 0.0005018820577164366, '19': 2.7882336539802036e-05, 'chai': 0.00033458803847762444, 'dính': 0.0004182350480970305, 'bẩn': 0.0005297643942562387, 'lớn': 0.00036247037501742645, 'Nỉ': 2.7882336539802036e-05, 'Mua': 0.0013662344904502998, 'đơn': 0.0003903527115572285, 'thứ': 0.0003067057019378224, 'n': 0.00016729401923881222, 'Rộng': 0.00019517635577861425, 'pai': 2.7882336539802036e-05, '58kg': 0.00011152934615920815, 'kém': 0.0006134114038756447, 'méo': 0.0002509410288582183, 'Lưu_ý': 5.576467307960407e-05, 'những': 0.00033458803847762444, 'Lấy': 0.00011152934615920815, 'e': 0.0006970584134950509, 'tại': 0.00016729401923881222, 'chất_liệu': 0.0004739997211766346, 'xuyên': 2.7882336539802036e-05, 'thấu': 5.576467307960407e-05, 'đó': 0.000864352432733863, 'Chỗ': 2.7882336539802036e-05, 'ống_quần': 2.7882336539802036e-05, 'vết': 0.0003067057019378224, 'dơ': 0.0003067057019378224, 'hiện_tại': 2.7882336539802036e-05, 'Mau': 0.00011152934615920815, 'ao': 0.0003903527115572285, 'nay': 0.0003067057019378224, 'nho': 0.00033458803847762444, 'qua': 0.000864352432733863, 'minh': 0.00033458803847762444, 'mac': 0.00019517635577861425, 'vua': 0.00016729401923881222, 'Được': 0.00011152934615920815, 'tất': 0.00013941168269901018, 'được.mong.': 2.7882336539802036e-05, 'nói_chung': 0.000752823086574655, 'về': 0.0010595287885124774, 'mang': 0.000864352432733863, '2': 0.003039174682838422, 'ngày': 0.0006691760769552489, 'tả': 8.364700961940611e-05, 'dày_dặn': 0.000864352432733863, 'mịn': 0.0005855290673358427, 'Máy': 0.00011152934615920815, 'chơi': 0.0002230586923184163, 'lám': 2.7882336539802036e-05, 'màn_hình': 5.576467307960407e-05, 'lău': 2.7882336539802036e-05, 'mãi': 0.00011152934615920815, 'xốp': 0.00013941168269901018, 'Đẹp': 0.0005855290673358427, 'too': 8.364700961940611e-05, 'Chưa': 0.000780705423114457, 'kết_luận': 2.7882336539802036e-05, 'Khăn': 0.00011152934615920815, 'mềm': 0.0010037641154328732, 'thấm': 0.0002230586923184163, 'hút': 8.364700961940611e-05, 'Lay': 2.7882336539802036e-05, 'nhầm': 0.0011989404712114875, 'Còn': 0.0005018820577164366, 'dây': 0.0010037641154328732, 'kéo': 0.0003067057019378224, 'Tam': 0.00019517635577861425, 'duoc': 0.00033458803847762444, 'khong': 0.00016729401923881222, 'giong': 0.0002509410288582183, 'hinh': 0.0005855290673358427, 'lam': 0.0002509410288582183, 'cổ': 0.0006970584134950509, 'tim': 8.364700961940611e-05, 'ống': 0.00033458803847762444, 'tay': 0.0013662344904502998, 'lửng': 5.576467307960407e-05, 'chính_xác': 8.364700961940611e-05, 'Đường': 0.0005297643942562387, 'lm': 0.00016729401923881222, 'nhũ': 5.576467307960407e-05, 'lấp_lánh': 2.7882336539802036e-05, 'ạ': 0.0020354105674055484, 'mong': 0.00033458803847762444, 'chú_ý': 0.0002230586923184163, 'gói': 0.0006691760769552489, 'kỹ': 0.00036247037501742645, 'xấu': 0.0009758817788930712, 'đang': 0.00027882336539802036, 'chạy': 0.0002509410288582183, 'win7': 2.7882336539802036e-05, 'cài': 0.00027882336539802036, 'drive': 5.576467307960407e-05, 'win10': 2.7882336539802036e-05, 'rộng_rãi': 2.7882336539802036e-05, 'Khuy': 2.7882336539802036e-05, 'gồm': 2.7882336539802036e-05, 'loại': 0.0002230586923184163, '6cm': 2.7882336539802036e-05, '-3': 2.7882336539802036e-05, 'cái': 0.00019517635577861425, 'cm': 0.00016729401923881222, '-4': 2.7882336539802036e-05, 'lương': 8.364700961940611e-05, 'tương_đương': 0.00011152934615920815, 'giá_thành': 0.00013941168269901018, '16': 2.7882336539802036e-05, 'môi': 8.364700961940611e-05, 'nhu': 0.0003903527115572285, 'hong': 5.576467307960407e-05, 'zay': 2.7882336539802036e-05, 'nhưng_mà': 0.00036247037501742645, 'Giày': 0.0005855290673358427, 'thường': 0.00019517635577861425, '38': 0.0002230586923184163, 'đôi': 0.0005018820577164366, 'nayd': 2.7882336539802036e-05, 'kịch': 2.7882336539802036e-05, 'khó_chịu': 0.00027882336539802036, 'Form': 0.0006691760769552489, 'mỗi': 0.0005018820577164366, 'Măjc': 2.7882336539802036e-05, 'cứ': 0.00033458803847762444, 'tụt': 2.7882336539802036e-05, 'ý': 0.0004182350480970305, '20k': 8.364700961940611e-05, 'mã': 0.0003067057019378224, 'có_vẻ': 0.0004461173846368326, 'lanh': 5.576467307960407e-05, 'dễ': 0.0008922347692736652, 'nếp': 0.00019517635577861425, 'hy_vọng': 0.00011152934615920815, 'để_ý': 0.0002230586923184163, 'gửi': 0.0014219991635299038, 'hồng': 0.0006691760769552489, 'pha': 8.364700961940611e-05, 'cam': 0.0002230586923184163, 'Tuy': 0.00036247037501742645, 'có_lẽ': 8.364700961940611e-05, 'tẩy': 2.7882336539802036e-05, 'giấy': 0.0002230586923184163, 'à': 0.0002230586923184163, 'dưới': 0.0004182350480970305, '40kg': 0.00016729401923881222, 'E': 0.0002509410288582183, 'hàg': 0.00019517635577861425, 'con': 0.0005018820577164366, 'té': 2.7882336539802036e-05, 'đập': 5.576467307960407e-05, 'sót': 5.576467307960407e-05, 'rồii': 2.7882336539802036e-05, 'Màu_son': 2.7882336539802036e-05, 'nhỉnh': 2.7882336539802036e-05, '08': 2.7882336539802036e-05, 'bảng_màu': 2.7882336539802036e-05, 'đăng': 0.00019517635577861425, 'cuối': 8.364700961940611e-05, ')': 0.0036247037501742647, 'Vừa': 0.00036247037501742645, 'khít': 0.00013941168269901018, 'Giá_cả': 0.000752823086574655, 'chấp_nhận': 0.001589293182768716, 'Đặt': 0.0006134114038756447, 'nâu': 0.00027882336539802036, 'đậm': 0.0005576467307960407, 'L.': 0.0002509410288582183, 'từ': 0.0005297643942562387, 'giờ': 0.00033458803847762444, 'khách': 0.0005855290673358427, 'ruột': 2.7882336539802036e-05, 'Ao': 0.00027882336539802036, 'vai': 0.0006134114038756447, 'mem': 5.576467307960407e-05, 'min': 8.364700961940611e-05, 'hình_ảnh': 0.00016729401923881222, 'Vì': 0.00027882336539802036, 'nhìn': 0.0010874111250522794, 'cảm_giác': 0.0004461173846368326, 'nha': 0.0010316464519726752, 'Mỏng': 0.00011152934615920815, 'sử_dụng': 0.0005576467307960407, 'kết_nối': 5.576467307960407e-05, 'điện_thoại': 5.576467307960407e-05, 'như_thế_nào': 5.576467307960407e-05, 'chuẩn': 0.000864352432733863, 'r': 0.00027882336539802036, 'kh': 0.0002509410288582183, 'số': 0.0004182350480970305, 'bỏ': 0.0002509410288582183, 'đều': 0.0005576467307960407, 'đáng_giá': 5.576467307960407e-05, 'mấy': 0.0009758817788930712, '42kg': 2.7882336539802036e-05, 'mặt': 0.0004461173846368326, 'Kiểu_dáng': 0.00016729401923881222, 'màu_sắc': 0.00019517635577861425, 'hề': 0.00011152934615920815, 'tối': 0.0004182350480970305, 'nắng': 5.576467307960407e-05, 'bao': 0.0002509410288582183, 'đến': 0.00036247037501742645, 'luôn': 0.0011152934615920815, '❤': 8.364700961940611e-05, 'Sd': 2.7882336539802036e-05, 'báo': 0.0003067057019378224, 'kết_quả': 5.576467307960407e-05, 'cán': 5.576467307960407e-05, 'vợt': 2.7882336539802036e-05, 'lệch': 0.0002230586923184163, 'Có_điều': 0.0003903527115572285, 'đáng_kể': 5.576467307960407e-05, 'vòi': 2.7882336539802036e-05, 'nhà': 0.0003903527115572285, 'tháo': 5.576467307960407e-05, 'lắp': 8.364700961940611e-05, 'dù_sao': 0.00011152934615920815, '=': 0.00013941168269901018, '\"': 0.0002509410288582183, 'thơm': 0.00027882336539802036, 'nhìu': 8.364700961940611e-05, 'tinh_dầu': 2.7882336539802036e-05, 'no-no.': 2.7882336539802036e-05, 'chắn.gối': 2.7882336539802036e-05, 'căng': 5.576467307960407e-05, 'cụng': 2.7882336539802036e-05, 'Giá': 0.0004739997211766346, '89k': 2.7882336539802036e-05, 'đắt': 0.00033458803847762444, '69k': 2.7882336539802036e-05, 'mini': 8.364700961940611e-05, 'gọn': 0.0002230586923184163, 'dễ_thương': 0.0002509410288582183, 'Chúc': 0.00033458803847762444, 'năm': 0.00011152934615920815, 'nam': 0.0002509410288582183, 'Rate': 2.7882336539802036e-05, 'rep': 0.0003067057019378224, 'inbox': 8.364700961940611e-05, 'huỷ': 0.00011152934615920815, 'share': 2.7882336539802036e-05, 'bớt': 2.7882336539802036e-05, '🙂': 2.7882336539802036e-05, 'túi_bóng': 2.7882336539802036e-05, 'cũ': 0.0003067057019378224, 'vvvvvai': 2.7882336539802036e-05, 'Bt': 5.576467307960407e-05, 'tỉ_lệ_thuận': 2.7882336539802036e-05, 'ở': 0.0017565872020075283, 'hẳn': 0.0002230586923184163, 'hai': 0.0004739997211766346, 'hối': 2.7882336539802036e-05, 'Chua': 2.7882336539802036e-05, 'nhan': 0.00011152934615920815, 'măc': 8.364700961940611e-05, 'dễ_chịu': 0.00013941168269901018, 'Guddd': 2.7882336539802036e-05, '65k': 5.576467307960407e-05, 'bền': 0.00019517635577861425, 'cg': 2.7882336539802036e-05, 'màu_da': 8.364700961940611e-05, '2xl': 2.7882336539802036e-05, '60kg': 0.00013941168269901018, 'đổ': 0.0002230586923184163, 'Bỏ': 2.7882336539802036e-05, 'triệu': 2.7882336539802036e-05, 'bạc': 5.576467307960407e-05, 'khác_biệt': 2.7882336539802036e-05, 'thật': 0.0005297643942562387, 'cẩn_thận': 0.0006691760769552489, 'mã_vạch': 2.7882336539802036e-05, 'Chuột': 2.7882336539802036e-05, 'dép': 8.364700961940611e-05, 'haha😍😍': 2.7882336539802036e-05, 'váy': 0.0009479994423532692, 'Kể': 2.7882336539802036e-05, 'ước_lượng': 2.7882336539802036e-05, 'bao_nhiêu': 8.364700961940611e-05, 'Pin': 2.7882336539802036e-05, '5c': 2.7882336539802036e-05, 'cua': 0.00027882336539802036, '1280': 2.7882336539802036e-05, 'được_cái': 5.576467307960407e-05, 'nhân_viên': 8.364700961940611e-05, 'trả_lời': 0.0004182350480970305, 'nhẹ_nhàng': 2.7882336539802036e-05, 'lịch_sự': 2.7882336539802036e-05, 'M.': 0.00027882336539802036, 'Váy': 0.0006412937404154469, 'đằng': 0.00016729401923881222, 'Đặc': 2.7882336539802036e-05, '7': 0.00016729401923881222, '308k': 2.7882336539802036e-05, 'nhưg': 0.0003067057019378224, 'tíh': 2.7882336539802036e-05, 'ship': 0.0006412937404154469, 'cao': 0.0013383521539104977, '72': 2.7882336539802036e-05, 'k😏': 2.7882336539802036e-05, 'lộn_xộn': 8.364700961940611e-05, 'mùi': 0.0006691760769552489, 'sự': 0.00013941168269901018, 'lựa_chọn': 2.7882336539802036e-05, 'hic': 0.0003067057019378224, 'mùi_son': 2.7882336539802036e-05, 'chicholic': 2.7882336539802036e-05, 'Bạn': 0.0004182350480970305, '1m65': 0.00011152934615920815, 'sinh': 8.364700961940611e-05, 'để_dành': 2.7882336539802036e-05, '1m61': 2.7882336539802036e-05, 'nỗi': 5.576467307960407e-05, 'máy': 0.0002230586923184163, 'mik': 0.00011152934615920815, 'driver': 2.7882336539802036e-05, 'Ngực': 2.7882336539802036e-05, 'bản': 8.364700961940611e-05, 'lưng': 0.0002509410288582183, '😂': 0.0005297643942562387, 'bầu': 0.0002230586923184163, 'dư': 5.576467307960407e-05, 'May': 0.0002230586923184163, 'Cảm_ơn': 0.0006691760769552489, 'cải_thiện': 0.00011152934615920815, 'chiếc': 0.0006134114038756447, 'cứng': 0.0010316464519726752, 'oversize': 5.576467307960407e-05, '48': 2.7882336539802036e-05, 'Đôi': 5.576467307960407e-05, 'giat': 2.7882336539802036e-05, 'xám': 0.00019517635577861425, 'gót': 5.576467307960407e-05, 'lá': 0.00011152934615920815, 'một_tí': 2.7882336539802036e-05, 'y_như': 0.0002509410288582183, 'Cám_ơn': 0.00019517635577861425, 'Chỉ': 0.0005297643942562387, 'giảm': 0.0003903527115572285, 'đón': 2.7882336539802036e-05, 'Tết': 2.7882336539802036e-05, 'd': 8.364700961940611e-05, 'đẹp.Hơi': 2.7882336539802036e-05, 'áo.Đặt': 2.7882336539802036e-05, 'nhau': 0.0005855290673358427, 'cmt': 2.7882336539802036e-05, 'PC': 2.7882336539802036e-05, 'cáp': 2.7882336539802036e-05, 'Hang': 0.0002509410288582183, 'dong': 8.364700961940611e-05, 'ki': 8.364700961940611e-05, 'nhanh.nhung': 2.7882336539802036e-05, 'san': 2.7882336539802036e-05, 'phẩm': 2.7882336539802036e-05, 'bi': 0.00036247037501742645, 'nếu': 0.0005576467307960407, 'đừng': 0.00016729401923881222, 'dán': 0.0003067057019378224, 'làm': 0.000780705423114457, 'má_hồng': 2.7882336539802036e-05, 'Robot': 2.7882336539802036e-05, 'Quần': 0.0013104698173706957, 'tập': 5.576467307960407e-05, 'Tien': 0.00011152934615920815, 'nao': 0.00019517635577861425, 'Mọi': 8.364700961940611e-05, 'hoàn_hảo': 8.364700961940611e-05, 'gặp': 0.00011152934615920815, 'ny': 2.7882336539802036e-05, 'chia_tay': 5.576467307960407e-05, 'lớp': 0.0003067057019378224, 'Tầm': 2.7882336539802036e-05, 'bịch': 5.576467307960407e-05, 'bể': 0.00011152934615920815, 'com': 8.364700961940611e-05, 'vun': 2.7882336539802036e-05, 'nguyen': 2.7882336539802036e-05, 'khá': 0.002369998605883173, 'chữ': 0.00036247037501742645, 'xinh': 0.00033458803847762444, 'tí.shop': 2.7882336539802036e-05, 'ghi': 0.000780705423114457, '9': 5.576467307960407e-05, 'tấc': 2.7882336539802036e-05, '85cm': 2.7882336539802036e-05, 'b': 5.576467307960407e-05, 'Phần_ren': 2.7882336539802036e-05, 'co_dãn': 0.00027882336539802036, 'mát': 0.0007249407500348529, 'bằng': 0.0005018820577164366, 'ni': 2.7882336539802036e-05, 'spf': 2.7882336539802036e-05, 'box': 0.00016729401923881222, 'Nhiều': 5.576467307960407e-05, 'nạc': 2.7882336539802036e-05, 'giá_cả': 0.00027882336539802036, 'NV': 2.7882336539802036e-05, 'chấp': 2.7882336539802036e-05, 'nhânn': 2.7882336539802036e-05, 'Sẽ': 0.0002230586923184163, 'Tội': 2.7882336539802036e-05, 'lì': 8.364700961940611e-05, 'nghĩa': 2.7882336539802036e-05, 'á': 0.00011152934615920815, 'lau': 0.00016729401923881222, '😂😂': 5.576467307960407e-05, 'nhã_ý': 2.7882336539802036e-05, 'đổi': 0.0010316464519726752, 'tuy_nhiên': 0.0007249407500348529, 'đĩa': 2.7882336539802036e-05, 'cất': 2.7882336539802036e-05, 'thiếu': 0.0009201171058134672, 'bút': 8.364700961940611e-05, 'ơi': 0.0003067057019378224, 'Khi': 0.00019517635577861425, 'muốn': 0.0004739997211766346, 'trả': 0.0006412937404154469, 'xác_nhận': 2.7882336539802036e-05, 'thế_này': 0.00016729401923881222, 'nói': 0.0006970584134950509, 'kia': 0.00019517635577861425, 'L': 0.0006412937404154469, 'tương_xứng': 8.364700961940611e-05, 'đáp': 2.7882336539802036e-05, 'bụng': 0.0004182350480970305, 'tuột': 0.00027882336539802036, 'bất_tiện': 0.00011152934615920815, 'hứa': 8.364700961940611e-05, 'M': 0.0011152934615920815, '54kg': 8.364700961940611e-05, 'cúi': 2.7882336539802036e-05, 'xuống': 0.00019517635577861425, 'hở': 8.364700961940611e-05, 'hsd': 2.7882336539802036e-05, 'Tạm_ĐK': 2.7882336539802036e-05, 'soi': 5.576467307960407e-05, 'khoảng': 0.00016729401923881222, '10': 0.00013941168269901018, 'phút': 5.576467307960407e-05, 'vắt_sổ': 5.576467307960407e-05, 'trần': 2.7882336539802036e-05, 'da': 0.0005297643942562387, 'hợp': 0.0005018820577164366, 'liên_hệ': 0.00019517635577861425, 'giúp': 8.364700961940611e-05, 'Sặc_sỡ': 2.7882336539802036e-05, 'tư_vấn': 0.000780705423114457, 'dãn': 5.576467307960407e-05, 'tien': 0.00011152934615920815, 'Trông': 2.7882336539802036e-05, 'thô': 0.0007249407500348529, 'Thích_hợp': 5.576467307960407e-05, 'nháp': 2.7882336539802036e-05, 'vẽ': 2.7882336539802036e-05, 'thư_giãn': 2.7882336539802036e-05, 'Mẫu_mã': 2.7882336539802036e-05, 'thi': 0.0004461173846368326, 'thua': 5.576467307960407e-05, 'chó': 8.364700961940611e-05, 'tui': 0.00013941168269901018, 'đt': 0.00013941168269901018, 'nt': 0.00016729401923881222, 'trước': 0.000836470096194061, 'nói_chuyện': 5.576467307960407e-05, 'yêu': 2.7882336539802036e-05, '....': 0.0002509410288582183, 'mong_đợi': 0.0005018820577164366, 'xem_lại': 0.00011152934615920815, 'kho': 8.364700961940611e-05, 'mèo': 0.00013941168269901018, 'gập': 5.576467307960407e-05, 'gãy': 0.00013941168269901018, '45kg': 0.0002509410288582183, 'kích': 0.0003067057019378224, 'Tay': 8.364700961940611e-05, 'xem': 0.00033458803847762444, 'sz': 0.000864352432733863, 'S': 0.0005297643942562387, 'đối_chứng': 2.7882336539802036e-05, 'vậy_mà': 0.00011152934615920815, 'tí': 0.0008922347692736652, 'Các': 0.00011152934615920815, 'chọn': 0.000864352432733863, 'tăng': 0.00019517635577861425, 'nút': 0.0002230586923184163, 'thử': 0.0005576467307960407, 'an_toàn': 5.576467307960407e-05, 'Chọn': 0.00011152934615920815, '3,6': 2.7882336539802036e-05, '5,7': 2.7882336539802036e-05, 'kèm': 0.0003067057019378224, 'buộc': 0.00011152934615920815, 'tóc': 0.0003067057019378224, 'cổ_tay': 8.364700961940611e-05, 'sống_lưng': 2.7882336539802036e-05, '2phân': 2.7882336539802036e-05, 'chỉ_tội': 2.7882336539802036e-05, 'o': 8.364700961940611e-05, 'trc': 0.0003903527115572285, 'nham_nhở': 2.7882336539802036e-05, 'Tiền': 0.0006412937404154469, '99k': 8.364700961940611e-05, 'v': 0.0002509410288582183, 'dám': 0.00016729401923881222, 'Fom': 8.364700961940611e-05, 'áo': 0.00013941168269901018, 'nhỏ': 8.364700961940611e-05, 'Chat': 0.0003067057019378224, 'lượng': 0.00019517635577861425, 'Ncl': 5.576467307960407e-05, 'chấm': 8.364700961940611e-05, 'Chắc': 0.00016729401923881222, 'đem': 5.576467307960407e-05, 'y_chang': 8.364700961940611e-05, 'nội_dung': 2.7882336539802036e-05, 'quảng_cáo': 0.0003067057019378224, 'ngứa': 0.00013941168269901018, 'chỉnh': 8.364700961940611e-05, '3xl': 2.7882336539802036e-05, 'lộn': 0.00016729401923881222, 'tùm_lum': 5.576467307960407e-05, 'Nhìn': 0.0002230586923184163, 'San': 0.00019517635577861425, 'pham': 0.00016729401923881222, 'tam': 0.0003903527115572285, 'công_tắc': 2.7882336539802036e-05, 'video': 8.364700961940611e-05, 'đai': 5.576467307960407e-05, 'áo_rộng': 0.00011152934615920815, 'mong_muốn': 8.364700961940611e-05, 'quay': 0.00019517635577861425, 'máy_giặt': 5.576467307960407e-05, 'nối': 2.7882336539802036e-05, 'dão': 8.364700961940611e-05, 'đanh': 5.576467307960407e-05, 'cây': 0.0002230586923184163, 'treo': 0.00011152934615920815, 'đồ': 0.0006691760769552489, 'Hết': 5.576467307960407e-05, 'cherry': 2.7882336539802036e-05, 'gọi': 0.00027882336539802036, 'bảo': 0.00027882336539802036, 'tự': 0.0003067057019378224, '👍🏻': 2.7882336539802036e-05, 'chuyển': 0.00016729401923881222, 'dưa_hấu': 2.7882336539802036e-05, 'mền': 5.576467307960407e-05, 'Ý_kiến': 2.7882336539802036e-05, 'cá_nhân': 2.7882336539802036e-05, 'classic': 2.7882336539802036e-05, 'kiểu': 0.0005855290673358427, 'fr': 2.7882336539802036e-05, 'Cập_nhật': 2.7882336539802036e-05, 'chua': 0.00013941168269901018, 'Sáng': 5.576467307960407e-05, 'mĩ_phẩm': 2.7882336539802036e-05, 'like': 8.364700961940611e-05, 'ôm': 0.0006412937404154469, 'bon_chen': 5.576467307960407e-05, '1c': 8.364700961940611e-05, 'thật_sự': 0.00011152934615920815, 'đây': 0.00016729401923881222, 'hộ': 8.364700961940611e-05, 'nv': 5.576467307960407e-05, 'kb': 2.7882336539802036e-05, 'ns': 2.7882336539802036e-05, 'ntn': 0.0002230586923184163, 'đủ': 0.0002509410288582183, 'im_lặng': 5.576467307960407e-05, 'xảy': 5.576467307960407e-05, 'thươngf': 2.7882336539802036e-05, 'M7': 2.7882336539802036e-05, 'mat': 2.7882336539802036e-05, 'cut': 2.7882336539802036e-05, 'dk': 0.0002230586923184163, 'nhăn': 0.0005855290673358427, 'kim': 2.7882336539802036e-05, 'mũi': 0.00011152934615920815, 'đầm': 2.7882336539802036e-05, 'ngoài': 0.0011152934615920815, '36': 0.00036247037501742645, '37': 0.00016729401923881222, '1m50': 5.576467307960407e-05, 'qa': 0.00016729401923881222, 'gối': 0.00011152934615920815, '5p': 2.7882336539802036e-05, 'sữa': 0.0002509410288582183, 'thành_công': 8.364700961940611e-05, 'kinh_doanh': 2.7882336539802036e-05, 'ta': 0.0002509410288582183, 'Sorry': 2.7882336539802036e-05, 'tên': 0.00011152934615920815, 'kiện': 2.7882336539802036e-05, 'dị': 5.576467307960407e-05, 'shipper': 0.00016729401923881222, 'dã_man': 5.576467307960407e-05, 'quà': 0.00033458803847762444, 'liệt': 2.7882336539802036e-05, 'núm': 2.7882336539802036e-05, 'lên_xuống': 2.7882336539802036e-05, 'màn': 5.576467307960407e-05, 'hình.nói': 2.7882336539802036e-05, 'chung': 0.00011152934615920815, 'ảnh_hưởng': 8.364700961940611e-05, 'Dán': 5.576467307960407e-05, 'khó': 0.0004461173846368326, 'nhung': 0.0006134114038756447, 'goi': 2.7882336539802036e-05, 'can': 2.7882336539802036e-05, 'than': 8.364700961940611e-05, 'sach': 2.7882336539802036e-05, 'no': 5.576467307960407e-05, 'bj': 5.576467307960407e-05, 'mop': 2.7882336539802036e-05, 'meo': 2.7882336539802036e-05, 'het': 8.364700961940611e-05, 'ui': 2.7882336539802036e-05, 'tai': 8.364700961940611e-05, 'thỏ': 2.7882336539802036e-05, 'cute': 0.00013941168269901018, 'Kẹp': 5.576467307960407e-05, 'nch': 2.7882336539802036e-05, '+': 5.576467307960407e-05, 'V1': 2.7882336539802036e-05, '85': 2.7882336539802036e-05, 'order': 0.00011152934615920815, 'bàn_phím': 2.7882336539802036e-05, 'Tại': 0.00011152934615920815, 'Cứ': 8.364700961940611e-05, 'đèn_xanh': 2.7882336539802036e-05, 'đèn_đỏ': 2.7882336539802036e-05, 'chưa_thể': 5.576467307960407e-05, 'đồ_bộ': 2.7882336539802036e-05, 'kimono': 2.7882336539802036e-05, 'Loại': 8.364700961940611e-05, 'nè': 0.00027882336539802036, 'Đi': 0.00013941168269901018, 'học': 2.7882336539802036e-05, 'combo': 0.00013941168269901018, 'giảm_giá': 0.0002230586923184163, 'ăn': 0.00033458803847762444, 'Oke': 5.576467307960407e-05, 'nhak': 5.576467307960407e-05, 'Giá': 5.576467307960407e-05, 'tý': 2.7882336539802036e-05, 'Yêu': 2.7882336539802036e-05, 'shoppp': 2.7882336539802036e-05, 'voucher': 8.364700961940611e-05, 'thế_nào': 0.00027882336539802036, 'thanh_toán': 8.364700961940611e-05, 'trực_tiếp': 2.7882336539802036e-05, 'tính': 0.0002230586923184163, '111k': 2.7882336539802036e-05, 'lun': 0.00027882336539802036, 'đáng_lý': 2.7882336539802036e-05, '60k': 5.576467307960407e-05, 'Cúc': 5.576467307960407e-05, 'bọc': 0.0002230586923184163, 'loại': 0.0006691760769552489, 'đk': 0.00019517635577861425, 'Tks': 5.576467307960407e-05, 'chât': 5.576467307960407e-05, 'Ai': 0.0003067057019378224, 'khuyết_điểm': 8.364700961940611e-05, 'kiềm': 2.7882336539802036e-05, 'Khoá': 8.364700961940611e-05, 'hỏng': 8.364700961940611e-05, 'đất': 0.00011152934615920815, 'thực_tế': 0.00013941168269901018, 'dặn': 5.576467307960407e-05, 'Gối': 5.576467307960407e-05, 'hợp_lý': 0.00013941168269901018, 'Đế': 2.7882336539802036e-05, 'eo': 0.00027882336539802036, 'duoc.giao': 2.7882336539802036e-05, 'cham.gui': 2.7882336539802036e-05, 'dung': 0.00013941168269901018, 'tem': 0.0002230586923184163, 'Bụng': 2.7882336539802036e-05, 'dịp': 2.7882336539802036e-05, 'ktra': 0.00011152934615920815, 'Xẹp_lép': 2.7882336539802036e-05, 'súc': 5.576467307960407e-05, 'ưa_nhìn': 2.7882336539802036e-05, 'Gửi': 0.00019517635577861425, 'Kiểu': 0.00011152934615920815, 'So': 0.0002230586923184163, 'mức': 0.00019517635577861425, 'đuoc': 8.364700961940611e-05, 'thông_báo': 2.7882336539802036e-05, 'ngươi': 2.7882336539802036e-05, 'chắn.ưng': 2.7882336539802036e-05, 'Chát': 5.576467307960407e-05, 'Đầm': 5.576467307960407e-05, 'qá': 0.00011152934615920815, '1sz': 2.7882336539802036e-05, 'Rẻ': 0.00011152934615920815, 'mầu': 0.00011152934615920815, 'lâu_dài': 5.576467307960407e-05, 'chẳng': 0.00013941168269901018, 'như_vậy': 0.00013941168269901018, 'kỳ_vọng': 8.364700961940611e-05, 'Xài': 0.00016729401923881222, 'Trắng': 5.576467307960407e-05, 'bự': 0.00027882336539802036, 'Ngọt': 2.7882336539802036e-05, 'xuất': 8.364700961940611e-05, 'đặc_biệt': 5.576467307960407e-05, 'tay_áo': 0.0004182350480970305, 'Mấy': 5.576467307960407e-05, 'trăm_ngàn': 2.7882336539802036e-05, 'biếu': 2.7882336539802036e-05, 'test': 0.00013941168269901018, 'Đáng': 0.0004182350480970305, 'đồng_tiền': 0.00019517635577861425, 'khui': 5.576467307960407e-05, 'giặt': 0.000836470096194061, 'Phí': 5.576467307960407e-05, '30': 8.364700961940611e-05, '/': 0.0003903527115572285, 'Cơ_mà': 0.00011152934615920815, 'tôi': 0.00011152934615920815, 'ngày_mai': 2.7882336539802036e-05, 'flash': 0.00011152934615920815, 'sale': 0.00019517635577861425, '😥': 2.7882336539802036e-05, 'tốt_lành': 2.7882336539802036e-05, 'Phom': 8.364700961940611e-05, 'bố': 8.364700961940611e-05, 'giá.Bạn': 2.7882336539802036e-05, 'mông': 0.00027882336539802036, 'chênh': 2.7882336539802036e-05, 'ngăn_kéo': 2.7882336539802036e-05, 'khoá': 0.0002230586923184163, 'luong': 0.00019517635577861425, 'tot': 8.364700961940611e-05, '1xxl': 2.7882336539802036e-05, 'xl': 0.00027882336539802036, 'xxl': 8.364700961940611e-05, 'vẫn': 8.364700961940611e-05, 'đánh': 5.576467307960407e-05, 'liều': 2.7882336539802036e-05, 'Chất': 0.00011152934615920815, 'vải': 0.00013941168269901018, 'mềm': 5.576467307960407e-05, 'mại': 2.7882336539802036e-05, 'mặc': 0.00019517635577861425, 'thoải': 5.576467307960407e-05, 'mái': 5.576467307960407e-05, 'chỉ': 2.7882336539802036e-05, 'sợ': 2.7882336539802036e-05, 'bị': 8.364700961940611e-05, 'xù': 2.7882336539802036e-05, 'đỡ': 8.364700961940611e-05, 'giữ': 0.0002509410288582183, 'nhỏ_nhắn': 8.364700961940611e-05, 'hoặc': 0.0002509410288582183, 'gầy': 0.00019517635577861425, 'hình_mẫu': 0.00019517635577861425, '😭': 0.00013941168269901018, '😑😑': 5.576467307960407e-05, 'ngửi': 5.576467307960407e-05, 'sợ': 0.00019517635577861425, 'nửa': 8.364700961940611e-05, 'M6': 2.7882336539802036e-05, 'review': 8.364700961940611e-05, 'mỗi_tội': 0.0005018820577164366, 'lằng_nhằng': 5.576467307960407e-05, 'mọi': 0.00019517635577861425, 'sizze': 2.7882336539802036e-05, 'bthg': 8.364700961940611e-05, 'trông': 0.00019517635577861425, 'Ống': 8.364700961940611e-05, '❤️': 0.00011152934615920815, 'Điểm': 8.364700961940611e-05, 'trừ': 0.00036247037501742645, 'duy_nhất': 5.576467307960407e-05, 'là_son': 2.7882336539802036e-05, 'nước_hoa': 5.576467307960407e-05, 'thích_son': 2.7882336539802036e-05, '😢': 8.364700961940611e-05, 'hôm_qua': 0.00013941168269901018, 'bán.Không': 2.7882336539802036e-05, 'ma': 0.0004182350480970305, '50kg': 0.00011152934615920815, 'Phải': 0.0002509410288582183, 'đợi': 0.00019517635577861425, 'nạp': 5.576467307960407e-05, 'Bán': 8.364700961940611e-05, 'Miếng': 5.576467307960407e-05, 'lột': 2.7882336539802036e-05, 'ấy': 0.0002230586923184163, 'đấy': 0.0004739997211766346, 'Cho': 0.00013941168269901018, 'cuộc': 2.7882336539802036e-05, 'tình': 2.7882336539802036e-05, 'huhu': 0.0002230586923184163, 'độ': 0.00019517635577861425, 'cuộn': 2.7882336539802036e-05, 'Đây': 0.00013941168269901018, 'nỡ': 2.7882336539802036e-05, 'rate': 2.7882336539802036e-05, 'thấp': 0.00013941168269901018, 'cố': 2.7882336539802036e-05, 'Buồn': 8.364700961940611e-05, '47kg': 8.364700961940611e-05, 'khung': 5.576467307960407e-05, 'tưởng_tượng': 0.00016729401923881222, 'thích_hợp': 0.00016729401923881222, 'trở': 0.00016729401923881222, 'khuôi': 2.7882336539802036e-05, 'đẹp.chỉ': 2.7882336539802036e-05, 'trẻ_em': 5.576467307960407e-05, 'lựa.con': 2.7882336539802036e-05, '24kg': 2.7882336539802036e-05, 'kêu': 0.00011152934615920815, 'trừ_hao': 0.00013941168269901018, '25kg': 2.7882336539802036e-05, '22kg': 2.7882336539802036e-05, 'thôi.còn': 2.7882336539802036e-05, 'Với': 0.0003067057019378224, '100k': 8.364700961940611e-05, 'và_ren': 2.7882336539802036e-05, 'lời': 5.576467307960407e-05, 'Ở': 2.7882336539802036e-05, 'vệt': 8.364700961940611e-05, 'cơ_mà': 0.00019517635577861425, 'sạch': 0.00016729401923881222, 'áo_gió': 2.7882336539802036e-05, 'oki': 0.00011152934615920815, '_Son': 0.00011152934615920815, 'Balo': 0.00011152934615920815, 'Quét': 2.7882336539802036e-05, 'tìm': 8.364700961940611e-05, 'QR': 2.7882336539802036e-05, 'of': 2.7882336539802036e-05, 'sf': 2.7882336539802036e-05, 'Y': 0.00011152934615920815, 'ba_lô': 2.7882336539802036e-05, 'tiên': 8.364700961940611e-05, 'nắp': 8.364700961940611e-05, 'ai': 0.0004182350480970305, 'sơ': 0.00013941168269901018, 'đến_nỗi': 8.364700961940611e-05, 'thẩm_mỹ': 5.576467307960407e-05, 'số_đo': 5.576467307960407e-05, 'thêu': 8.364700961940611e-05, 'toàn': 0.00011152934615920815, 'day': 0.00013941168269901018, 'ưng_ý': 0.0002230586923184163, 'dương': 5.576467307960407e-05, 'body': 5.576467307960407e-05, 'Shopee': 2.7882336539802036e-05, 'cập_nhật': 5.576467307960407e-05, 'vụ': 2.7882336539802036e-05, 'niêm_phong': 2.7882336539802036e-05, 'Ra': 2.7882336539802036e-05, 'quày': 2.7882336539802036e-05, 'kem': 0.00033458803847762444, 'bắt': 5.576467307960407e-05, 'easy': 5.576467307960407e-05, 'sấu': 2.7882336539802036e-05, 'kinh': 5.576467307960407e-05, 'zip': 2.7882336539802036e-05, 'chống': 0.00016729401923881222, 'ẩm': 5.576467307960407e-05, 'muỗng': 2.7882336539802036e-05, 'thèmmmmmmm': 2.7882336539802036e-05, 'ai_ngờ': 5.576467307960407e-05, 'cám': 8.364700961940611e-05, 'nghen': 5.576467307960407e-05, 'giật': 5.576467307960407e-05, 'mạnh': 0.00013941168269901018, 'đuợc': 8.364700961940611e-05, 'mày': 5.576467307960407e-05, 'đơ': 8.364700961940611e-05, 'thái': 5.576467307960407e-05, '2mm': 2.7882336539802036e-05, 'chun': 0.00011152934615920815, 'bo': 0.00019517635577861425, 'vỡ': 0.0002509410288582183, 'móp': 0.00027882336539802036, 'cầm': 0.0002230586923184163, 'luôn.mì': 2.7882336539802036e-05, 'nát': 0.00016729401923881222, 'Bánh': 5.576467307960407e-05, 'ngon': 0.00019517635577861425, 'tốt.nhưng': 2.7882336539802036e-05, 'cột': 2.7882336539802036e-05, 'Nước': 2.7882336539802036e-05, 'kì': 8.364700961940611e-05, 'phiếu': 5.576467307960407e-05, 'bảo_hành': 0.00011152934615920815, 'mai_mốt': 2.7882336539802036e-05, 'trục_trặc': 2.7882336539802036e-05, 'móc': 5.576467307960407e-05, 'ấn': 2.7882336539802036e-05, 'mạng': 5.576467307960407e-05, 'mút': 0.00019517635577861425, 'Mút': 2.7882336539802036e-05, 'nâng': 0.00013941168269901018, 'Qua': 2.7882336539802036e-05, 'vu': 5.576467307960407e-05, '34': 8.364700961940611e-05, 'thoi': 5.576467307960407e-05, 'bụi': 8.364700961940611e-05, 'cơn': 2.7882336539802036e-05, 'gió': 2.7882336539802036e-05, 'Nhỏ': 8.364700961940611e-05, 'hình😖😖😖': 2.7882336539802036e-05, 'phom': 0.00016729401923881222, 'thoii': 2.7882336539802036e-05, 'voan': 0.00013941168269901018, 'tiếp_tục': 0.00013941168269901018, 'mùa': 0.00013941168269901018, 'hè': 8.364700961940611e-05, 'Minh': 0.00019517635577861425, 'tiếp': 0.00019517635577861425, 'fail': 2.7882336539802036e-05, 'Cái': 0.00016729401923881222, 'dug': 2.7882336539802036e-05, 'Vay': 2.7882336539802036e-05, 'hoi': 0.0005018820577164366, 'Ngan': 2.7882336539802036e-05, ',_ren': 2.7882336539802036e-05, '41': 8.364700961940611e-05, 'đơn_giản': 2.7882336539802036e-05, 'nhat': 2.7882336539802036e-05, 'Okey': 2.7882336539802036e-05, '35-40': 2.7882336539802036e-05, 'chả': 0.00011152934615920815, 'pít': 2.7882336539802036e-05, 'thân': 0.00013941168269901018, 'béo': 8.364700961940611e-05, '55kg': 0.00019517635577861425, 'Hài_lòng': 0.00011152934615920815, 'Sau': 0.00011152934615920815, 'là_lượt': 2.7882336539802036e-05, 'phẳng_phiu': 2.7882336539802036e-05, 'Nhầm': 5.576467307960407e-05, 'chút_xíu': 0.00011152934615920815, 'nhân': 5.576467307960407e-05, 'Nhung': 0.0002230586923184163, 'xai': 5.576467307960407e-05, 'cung': 0.0002509410288582183, 'on': 0.00013941168269901018, 'giá_như': 0.00016729401923881222, 'feedback': 5.576467307960407e-05, '15': 0.00011152934615920815, 'đá': 0.00011152934615920815, 'cơ': 2.7882336539802036e-05, '3kg': 2.7882336539802036e-05, 'ak': 0.0003067057019378224, 'Ô': 2.7882336539802036e-05, 'Đệm': 5.576467307960407e-05, 'chặt': 0.00013941168269901018, 'Gui': 5.576467307960407e-05, 'tệ': 5.576467307960407e-05, 'nùi': 2.7882336539802036e-05, 'giẻ': 2.7882336539802036e-05, 'voi': 0.00033458803847762444, 'gia': 0.00013941168269901018, 'tiền': 5.576467307960407e-05, 'fai': 5.576467307960407e-05, 'trả': 2.7882336539802036e-05, 'jo': 2.7882336539802036e-05, 'bột': 5.576467307960407e-05, 'Tiếc': 8.364700961940611e-05, 'lỡ': 8.364700961940611e-05, 'trai': 5.576467307960407e-05, 'cá': 0.00016729401923881222, 'Rửa': 2.7882336539802036e-05, 'Vậy_mà': 2.7882336539802036e-05, 'bò': 2.7882336539802036e-05, 'skin': 2.7882336539802036e-05, 'tỉ_lệ': 2.7882336539802036e-05, 'đế': 0.0002230586923184163, 'bung': 0.0003067057019378224, 'keo': 0.0003903527115572285, 'lưới': 5.576467307960407e-05, 'Cũng': 0.0005855290673358427, 'Ngày_nay': 2.7882336539802036e-05, '33': 2.7882336539802036e-05, 'Hãy': 2.7882336539802036e-05, 'tâm': 0.00011152934615920815, 'good': 0.00011152934615920815, 'pro': 2.7882336539802036e-05, 'Ghi': 5.576467307960407e-05, 'hề_hấn': 2.7882336539802036e-05, 'Vận_chuyển': 5.576467307960407e-05, 'khiến': 2.7882336539802036e-05, 'nhăn_nhúm': 2.7882336539802036e-05, 'có_thể': 0.0003903527115572285, 'yên_tâm': 5.576467307960407e-05, 'xài': 0.00027882336539802036, 'Cổ': 0.0002509410288582183, 'cagidan': 2.7882336539802036e-05, 'Mô_tả': 2.7882336539802036e-05, 'dành': 0.00013941168269901018, 'Thực_ra': 2.7882336539802036e-05, 'ban_đầu': 2.7882336539802036e-05, 'kì_vọng': 2.7882336539802036e-05, 'trôi': 2.7882336539802036e-05, 'điện': 0.00016729401923881222, 'c': 8.364700961940611e-05, 'khớp': 2.7882336539802036e-05, 'tốt😒😒😒': 2.7882336539802036e-05, 'mh': 8.364700961940611e-05, 'Đóng': 5.576467307960407e-05, 'ví': 8.364700961940611e-05, 'nilong': 5.576467307960407e-05, 'thương_hiệu': 2.7882336539802036e-05, 'trung_gian': 2.7882336539802036e-05, 'vời.nhưng': 2.7882336539802036e-05, 'À': 2.7882336539802036e-05, 'đếm': 2.7882336539802036e-05, 'thắt': 8.364700961940611e-05, 'nhắn_tin': 0.0002230586923184163, 'nhất': 0.00019517635577861425, 'mặc_dù': 0.00016729401923881222, 'm63': 5.576467307960407e-05, 'nặng': 0.00027882336539802036, 'dạ': 5.576467307960407e-05, 'mõng': 8.364700961940611e-05, 'trễ': 0.00011152934615920815, 'khỏi': 0.00013941168269901018, 'lăn_tăn': 2.7882336539802036e-05, 'SP': 8.364700961940611e-05, 'mỏngvải': 2.7882336539802036e-05, '8': 0.00013941168269901018, 'tông': 2.7882336539802036e-05, 'tím': 8.364700961940611e-05, '😂😂😂': 8.364700961940611e-05, 'Dòng': 2.7882336539802036e-05, 'nhoè': 5.576467307960407e-05, 'kĩ': 0.0003903527115572285, 'nới': 5.576467307960407e-05, 'sào': 2.7882336539802036e-05, 'chiên': 2.7882336539802036e-05, 'rán': 5.576467307960407e-05, 'hoàn_toàn': 0.00011152934615920815, '46kí': 2.7882336539802036e-05, 'khôg': 5.576467307960407e-05, 'From': 5.576467307960407e-05, 'Mình': 5.576467307960407e-05, 'vừa': 5.576467307960407e-05, 'còn': 5.576467307960407e-05, 'đổi': 8.364700961940611e-05, 'cuối_cùng': 8.364700961940611e-05, '😥😥': 2.7882336539802036e-05, 'rông': 0.00011152934615920815, 'tồi': 2.7882336539802036e-05, 'tàm_tạm': 5.576467307960407e-05, 'rũ': 2.7882336539802036e-05, 'Bộ': 0.00019517635577861425, 'Time': 2.7882336539802036e-05, 'thắt_lưng': 2.7882336539802036e-05, 'khó_khăn': 0.00013941168269901018, 'tóm_lại': 2.7882336539802036e-05, 'thíchhhhhh': 2.7882336539802036e-05, 'Chả': 2.7882336539802036e-05, 'Mk': 0.00011152934615920815, 'mn': 0.00013941168269901018, 'rêu': 0.00011152934615920815, '😁': 2.7882336539802036e-05, 'mốp': 2.7882336539802036e-05, 'vui': 8.364700961940611e-05, '2000₫': 2.7882336539802036e-05, 'kiểm_tra': 0.0004461173846368326, 'đau': 0.00019517635577861425, 'chat': 0.00016729401923881222, 'luông': 2.7882336539802036e-05, 'bóng': 0.0002230586923184163, 'Quảng_cáo': 2.7882336539802036e-05, 'freeship': 5.576467307960407e-05, 'kaki': 8.364700961940611e-05, 'cộc': 0.00013941168269901018, 'cánh_tay': 0.00013941168269901018, '1m52': 2.7882336539802036e-05, 'cảm_thấy': 5.576467307960407e-05, '1sire': 2.7882336539802036e-05, 'ha': 2.7882336539802036e-05, 'ủi': 2.7882336539802036e-05, 'tưởng': 0.00033458803847762444, 'Tem': 2.7882336539802036e-05, 'nhạt': 0.00013941168269901018, 'gốc': 5.576467307960407e-05, 'kẹp': 5.576467307960407e-05, 'hạt': 0.00011152934615920815, 'giộng': 2.7882336539802036e-05, 'lẫn': 2.7882336539802036e-05, 'Tặng': 5.576467307960407e-05, 'Quá': 0.00013941168269901018, 'Áo_rộng': 0.0002230586923184163, 'Đặt_hàng': 5.576467307960407e-05, '32': 5.576467307960407e-05, 'Kem': 8.364700961940611e-05, 'Sao': 0.00019517635577861425, 'dep.nhung': 2.7882336539802036e-05, 'lieu': 2.7882336539802036e-05, 'va': 0.00016729401923881222, 'nong': 2.7882336539802036e-05, 'Ngày': 2.7882336539802036e-05, '39': 8.364700961940611e-05, '55k': 5.576467307960407e-05, '50k': 8.364700961940611e-05, 'bong': 8.364700961940611e-05, 'mảnh': 8.364700961940611e-05, 'sơn': 5.576467307960407e-05, 'độc': 2.7882336539802036e-05, 'ư': 2.7882336539802036e-05, 'Chiều': 2.7882336539802036e-05, 'lót': 2.7882336539802036e-05, 'thực': 2.7882336539802036e-05, 'tế': 2.7882336539802036e-05, 'là': 2.7882336539802036e-05, '2.6': 2.7882336539802036e-05, 'chứ': 5.576467307960407e-05, 'kp': 2.7882336539802036e-05, '4cm': 2.7882336539802036e-05, 'vị': 2.7882336539802036e-05, 'giải_quyết': 5.576467307960407e-05, 'tương_đối': 0.00013941168269901018, '<': 0.00019517635577861425, 'đệp': 2.7882336539802036e-05, 'Pó': 2.7882336539802036e-05, 'Để': 8.364700961940611e-05, 'Còi': 2.7882336539802036e-05, 'xa': 8.364700961940611e-05, 'khách_hàng': 0.0002509410288582183, 'sau_này': 5.576467307960407e-05, 'còi': 2.7882336539802036e-05, 'móng': 5.576467307960407e-05, 'Quả': 8.364700961940611e-05, 'bè_bè': 2.7882336539802036e-05, 'làm_ăn': 8.364700961940611e-05, 'cơ_hội': 2.7882336539802036e-05, 'Mức': 2.7882336539802036e-05, 'phải_chăng': 5.576467307960407e-05, 'cực': 0.00013941168269901018, 'giãn': 0.00019517635577861425, 'hổng': 2.7882336539802036e-05, 'vạch': 8.364700961940611e-05, 'ti': 2.7882336539802036e-05, 'Vai': 0.00019517635577861425, 'cong': 5.576467307960407e-05, 'seal': 5.576467307960407e-05, 'ngại': 0.00013941168269901018, 'điện_tử': 5.576467307960407e-05, 'hên': 2.7882336539802036e-05, 'xui': 2.7882336539802036e-05, 'lùn': 0.00011152934615920815, 'quá_khổ': 2.7882336539802036e-05, 'ah': 0.00019517635577861425, 'gần': 0.0002230586923184163, 'ngón': 8.364700961940611e-05, 'sát': 0.00013941168269901018, 'áy': 2.7882336539802036e-05, '56': 2.7882336539802036e-05, 'Giờ': 0.00016729401923881222, 'đề': 2.7882336539802036e-05, 'Hàng': 0.00011152934615920815, 'Tóc': 2.7882336539802036e-05, 'M50': 2.7882336539802036e-05, 'm55': 2.7882336539802036e-05, 'Sờ': 2.7882336539802036e-05, 'Hộp': 0.0003067057019378224, 'tấm': 0.00011152934615920815, 'ram': 2.7882336539802036e-05, 'nhug': 0.00013941168269901018, 'hog': 2.7882336539802036e-05, 'dep': 0.0004739997211766346, 'hih.noi': 2.7882336539802036e-05, 'chug': 5.576467307960407e-05, 'phan': 5.576467307960407e-05, 'tram': 2.7882336539802036e-05, 'trog': 8.364700961940611e-05, 'hih': 5.576467307960407e-05, 'chuột': 8.364700961940611e-05, 'điểm': 0.00016729401923881222, 'thi_đua': 2.7882336539802036e-05, 'lương_tâm': 2.7882336539802036e-05, 'hix': 8.364700961940611e-05, 'cân': 0.00016729401923881222, 'dây_lưng': 2.7882336539802036e-05, 'cửa_hàng': 2.7882336539802036e-05, 'địa_phương': 2.7882336539802036e-05, 'hiệu_quả': 8.364700961940611e-05, 'rõ_rệt': 2.7882336539802036e-05, 'mẹ': 0.00013941168269901018, 'm65': 5.576467307960407e-05, 'XL': 0.00019517635577861425, 'siêu': 0.0002509410288582183, 'consider': 2.7882336539802036e-05, 'Nice': 2.7882336539802036e-05, 'style': 5.576467307960407e-05, 'but': 8.364700961940611e-05, 'the': 5.576467307960407e-05, 'fabric': 2.7882336539802036e-05, 'is': 0.00019517635577861425, 'hard': 2.7882336539802036e-05, 'and': 5.576467307960407e-05, 'ửinkled': 2.7882336539802036e-05, 'feel': 2.7882336539802036e-05, 'hot': 2.7882336539802036e-05, 'wear': 2.7882336539802036e-05, 'it': 8.364700961940611e-05, 'Đủ': 5.576467307960407e-05, '12': 5.576467307960407e-05, 'tháng': 0.0002230586923184163, 'chủ': 0.0003067057019378224, 'Tốt': 8.364700961940611e-05, 'nạ': 5.576467307960407e-05, 'nhảy': 2.7882336539802036e-05, 'Nay': 5.576467307960407e-05, '62': 8.364700961940611e-05, 'nhanh.đồ': 2.7882336539802036e-05, 'bơ': 2.7882336539802036e-05, 'trách_nhiệm': 5.576467307960407e-05, 'công_việc': 2.7882336539802036e-05, '-': 0.00027882336539802036, 'Giặt': 0.00011152934615920815, 'khuyên': 5.576467307960407e-05, 'trách': 5.576467307960407e-05, 'lem': 0.00016729401923881222, 'pick': 2.7882336539802036e-05, 'gảy': 2.7882336539802036e-05, 'lượng': 0.00013941168269901018, 'sản': 5.576467307960407e-05, 'phẩm': 8.364700961940611e-05, 'tạm': 2.7882336539802036e-05, 'được': 5.576467307960407e-05, 'chất': 0.00019517635577861425, 'aó': 2.7882336539802036e-05, 'mỏng': 0.00011152934615920815, 'nhão': 2.7882336539802036e-05, 'dáng': 2.7882336539802036e-05, 'cộc': 2.7882336539802036e-05, 'Hợp': 0.00011152934615920815, 'tiện': 2.7882336539802036e-05, 'Thinh': 2.7882336539802036e-05, 'thoang': 5.576467307960407e-05, '499k': 2.7882336539802036e-05, 'bình': 0.00013941168269901018, 'chay': 2.7882336539802036e-05, 'chan': 5.576467307960407e-05, 'Khô': 5.576467307960407e-05, 'gà': 5.576467307960407e-05, 'ngọt': 2.7882336539802036e-05, 'trầy_xước': 2.7882336539802036e-05, 'cũ_kĩ': 2.7882336539802036e-05, 'In': 5.576467307960407e-05, 'quá.cao': 2.7882336539802036e-05, 'm45': 2.7882336539802036e-05, 'đep': 8.364700961940611e-05, 'vô': 0.00013941168269901018, 'Xấu': 2.7882336539802036e-05, 'đưa': 0.00027882336539802036, 'rõ_ràng': 8.364700961940611e-05, 'xứng': 5.576467307960407e-05, '1m62': 5.576467307960407e-05, 'Nhug': 8.364700961940611e-05, '3sao': 8.364700961940611e-05, 'cho4': 2.7882336539802036e-05, 'miếng': 0.00016729401923881222, 'mask': 2.7882336539802036e-05, 'Ống_chân': 2.7882336539802036e-05, 'đô': 8.364700961940611e-05, 'khôngnhư': 2.7882336539802036e-05, 'Mai_mốt': 2.7882336539802036e-05, 'canh': 5.576467307960407e-05, '×': 2.7882336539802036e-05, 'thất_lạc': 2.7882336539802036e-05, 'vận_chuyển': 0.00036247037501742645, 'tổng': 8.364700961940611e-05, '200k': 5.576467307960407e-05, '47k': 2.7882336539802036e-05, '13k': 2.7882336539802036e-05, 'tốn': 2.7882336539802036e-05, 'giơ': 2.7882336539802036e-05, 'hẹn': 2.7882336539802036e-05, 'cám_ơn': 5.576467307960407e-05, 'Sản': 8.364700961940611e-05, 'p': 0.00011152934615920815, 'Yếm': 5.576467307960407e-05, 'binh': 8.364700961940611e-05, 'sua': 2.7882336539802036e-05, 'Lâu_dài': 2.7882336539802036e-05, '😅': 2.7882336539802036e-05, 'cay': 0.00027882336539802036, 'lọ': 2.7882336539802036e-05, 'khô': 0.00019517635577861425, 'bôi': 5.576467307960407e-05, 'Hazzzzzzzzz': 2.7882336539802036e-05, 'nước': 8.364700961940611e-05, 'xả': 8.364700961940611e-05, 'lưng_chừng': 2.7882336539802036e-05, '1,8': 2.7882336539802036e-05, 'kai': 2.7882336539802036e-05, 'quần': 0.00016729401923881222, 'thì': 0.00011152934615920815, 'dày': 8.364700961940611e-05, '52kg': 0.00013941168269901018, 'thùng_thình': 8.364700961940611e-05, 'Mong_muốn': 2.7882336539802036e-05, 'biết': 5.576467307960407e-05, 'thế': 5.576467307960407e-05, 'nào': 8.364700961940611e-05, 'Phù_hợp': 0.00036247037501742645, 'vân': 5.576467307960407e-05, 'Hình_ảnh': 5.576467307960407e-05, 'nét': 0.0002230586923184163, 'Hi': 8.364700961940611e-05, 'ôk': 2.7882336539802036e-05, 'chục': 5.576467307960407e-05, 'Mặc_dù': 5.576467307960407e-05, 'thực_sự': 8.364700961940611e-05, 'nhàu': 8.364700961940611e-05, 'dù': 0.00019517635577861425, 'phẳng': 5.576467307960407e-05, 'vưaf': 2.7882336539802036e-05, 'kn': 2.7882336539802036e-05, 'sim': 5.576467307960407e-05, 'bấm': 5.576467307960407e-05, 'mún': 2.7882336539802036e-05, 'https://facebook.com/hoangyenngan.': 2.7882336539802036e-05, 'mỏng_mảnh': 2.7882336539802036e-05, 'thuong': 5.576467307960407e-05, 'cạp': 2.7882336539802036e-05, 'Mẫu': 0.0002230586923184163, 'khuy': 0.00013941168269901018, 'la': 8.364700961940611e-05, 'đen_thui': 8.364700961940611e-05, 'tuong.shop': 2.7882336539802036e-05, 'pv': 2.7882336539802036e-05, 'nhiet': 2.7882336539802036e-05, 'tinh': 2.7882336539802036e-05, 'Ủng_hộ': 0.00016729401923881222, 'Dài': 2.7882336539802036e-05, 'rốn': 2.7882336539802036e-05, 'Nem': 2.7882336539802036e-05, 'đam': 2.7882336539802036e-05, 'đa': 2.7882336539802036e-05, 'xi': 2.7882336539802036e-05, 'nua': 8.364700961940611e-05, 'thieu': 5.576467307960407e-05, 'nấm': 2.7882336539802036e-05, 'tiếng': 0.00016729401923881222, 'thẻ': 0.00013941168269901018, 'chụp': 0.0003067057019378224, 'chết': 5.576467307960407e-05, 'tuyệt_đối': 2.7882336539802036e-05, 'rửa': 8.364700961940611e-05, 'bọt': 2.7882336539802036e-05, 'Và': 8.364700961940611e-05, '1m55': 8.364700961940611e-05, 'hôm': 0.0002509410288582183, 'cà_phê': 2.7882336539802036e-05, 'ạ.giao': 2.7882336539802036e-05, 'thư': 2.7882336539802036e-05, 'linh_tinh': 2.7882336539802036e-05, 'dạo': 2.7882336539802036e-05, '90%': 2.7882336539802036e-05, 'uống': 0.00016729401923881222, 'mệt': 0.00011152934615920815, 'buồn_nôn': 2.7882336539802036e-05, 'đẹp.đóng': 2.7882336539802036e-05, 'Trong': 0.00033458803847762444, 'hình_dáng': 2.7882336539802036e-05, 'đặt_hàng': 0.0002509410288582183, '29/10/2018': 2.7882336539802036e-05, '05/11': 2.7882336539802036e-05, 'hệ_thống': 5.576467307960407e-05, 'áo_dài': 2.7882336539802036e-05, 'crt': 2.7882336539802036e-05, 'Lúc': 0.00011152934615920815, 'găng_tay': 5.576467307960407e-05, 'sơ_mi': 0.00013941168269901018, 'kieu': 2.7882336539802036e-05, 'dang': 2.7882336539802036e-05, '1cai': 2.7882336539802036e-05, 'sezi': 2.7882336539802036e-05, 'đieu': 2.7882336539802036e-05, 'Thơm': 2.7882336539802036e-05, 'cafe': 2.7882336539802036e-05, 'quai': 0.00019517635577861425, 'nhăn.Sau': 2.7882336539802036e-05, 'ngầu': 2.7882336539802036e-05, 'vl': 5.576467307960407e-05, 'ae': 2.7882336539802036e-05, 'hihi': 0.00013941168269901018, 'Xếp': 2.7882336539802036e-05, 'ép': 2.7882336539802036e-05, 'Yêu_thương': 2.7882336539802036e-05, 'ổn.nhưng': 2.7882336539802036e-05, 'đầu_tiên': 8.364700961940611e-05, 'Bận': 2.7882336539802036e-05, 'tn': 8.364700961940611e-05, 'khâu': 0.00011152934615920815, 'vòng': 0.00011152934615920815, 'dầy_dặn': 5.576467307960407e-05, 'hệt': 2.7882336539802036e-05, 'sờ': 0.00013941168269901018, 'rão': 5.576467307960407e-05, 'phi': 2.7882336539802036e-05, 'rât': 2.7882336539802036e-05, 'bù': 0.00019517635577861425, 'trơn_tru': 2.7882336539802036e-05, 'rơi': 5.576467307960407e-05, 'lắc': 5.576467307960407e-05, 'Thun': 8.364700961940611e-05, 'Hạt': 5.576467307960407e-05, 'hư': 0.00011152934615920815, 'Phản_hồi': 5.576467307960407e-05, 'tự_nhiên': 5.576467307960407e-05, '🤦🏻♀️🤦🏻♀️🤦🏻♀️🤦🏻♀️': 2.7882336539802036e-05, 'phân_loại': 2.7882336539802036e-05, '58ky': 2.7882336539802036e-05, 'ngà': 2.7882336539802036e-05, 'chị': 0.0002509410288582183, 'Dáng': 0.00011152934615920815, 'Gia_công': 2.7882336539802036e-05, 'không_thể': 0.00016729401923881222, 'quá_thể': 2.7882336539802036e-05, 'đông': 5.576467307960407e-05, 'Date': 5.576467307960407e-05, 'sd': 8.364700961940611e-05, 'nhỏ_con': 2.7882336539802036e-05, 'trở_lại': 2.7882336539802036e-05, 'khắc_phục': 2.7882336539802036e-05, 'Cái_L': 2.7882336539802036e-05, 'bèo_nhèo': 2.7882336539802036e-05, 'Chăn': 2.7882336539802036e-05, 'ngang': 0.00011152934615920815, 'đắp': 2.7882336539802036e-05, 'Sửa': 2.7882336539802036e-05, 'fi': 2.7882336539802036e-05, 'vchuyen': 2.7882336539802036e-05, 'tren': 2.7882336539802036e-05, '30k': 5.576467307960407e-05, 'nách': 0.00013941168269901018, '2cai': 2.7882336539802036e-05, 'loài': 2.7882336539802036e-05, 'Hai': 5.576467307960407e-05, 'Tư_vấn': 5.576467307960407e-05, 'dao': 8.364700961940611e-05, 'xỉu': 5.576467307960407e-05, 'Ốp': 2.7882336539802036e-05, 'lắm.mà': 2.7882336539802036e-05, 'pm': 2.7882336539802036e-05, 'bộ_đồ': 8.364700961940611e-05, 'Tóm_lại': 2.7882336539802036e-05, 'bra': 5.576467307960407e-05, 'cứng_cáp': 5.576467307960407e-05, 'bửa': 2.7882336539802036e-05, 'trật': 5.576467307960407e-05, 'adidas': 5.576467307960407e-05, 'logo': 0.00011152934615920815, 'nike': 2.7882336539802036e-05, 'dược': 8.364700961940611e-05, 'xuất_sắc': 8.364700961940611e-05, 'êm': 0.00019517635577861425, 'fullbox': 2.7882336539802036e-05, 'x': 2.7882336539802036e-05, 'nhắn': 0.00013941168269901018, 'CHẬM': 2.7882336539802036e-05, 'rùi': 0.00011152934615920815, 'tương_đồng': 2.7882336539802036e-05, 'Bên': 2.7882336539802036e-05, 'nẹp': 2.7882336539802036e-05, '1cm': 5.576467307960407e-05, 'Đến': 5.576467307960407e-05, '43kg': 5.576467307960407e-05, '1m57': 5.576467307960407e-05, 'dángok': 2.7882336539802036e-05, 'kẻ': 0.0002230586923184163, 'nhg': 5.576467307960407e-05, 'cx': 0.00016729401923881222, 'bắn': 2.7882336539802036e-05, 'KM': 2.7882336539802036e-05, 'trơn': 0.00013941168269901018, 'pùn': 2.7882336539802036e-05, 'woa': 2.7882336539802036e-05, 'Ta': 8.364700961940611e-05, 'í': 0.00016729401923881222, 'đóng_góp': 8.364700961940611e-05, 'Size_XL': 8.364700961940611e-05, '53kg': 8.364700961940611e-05, 'mùng': 5.576467307960407e-05, 'Ổn': 2.7882336539802036e-05, 'Check': 2.7882336539802036e-05, 'code': 0.00013941168269901018, 'Bó_tay': 2.7882336539802036e-05, 'dung_tích': 2.7882336539802036e-05, 'nội_y': 5.576467307960407e-05, 'Và': 2.7882336539802036e-05, 'nhất_là': 5.576467307960407e-05, 'chợ': 0.00011152934615920815, 'time': 0.00013941168269901018, 'Ngọc': 2.7882336539802036e-05, 'tú': 2.7882336539802036e-05, 'ks': 5.576467307960407e-05, 'bắp_tay': 2.7882336539802036e-05, '10kg': 2.7882336539802036e-05, 'bao_giờ': 2.7882336539802036e-05, 'm50': 2.7882336539802036e-05, 'nguyên_chất': 2.7882336539802036e-05, 'lầm': 2.7882336539802036e-05, 'đồ_chơi': 2.7882336539802036e-05, 'Y_hệt': 2.7882336539802036e-05, '502': 2.7882336539802036e-05, '🐘🐘🐘': 2.7882336539802036e-05, 'Good': 2.7882336539802036e-05, 'Sự': 2.7882336539802036e-05, 'dụg': 2.7882336539802036e-05, 'biet': 0.00011152934615920815, 'Bởi': 2.7882336539802036e-05, 'zậy': 2.7882336539802036e-05, 'Lấy_XL': 2.7882336539802036e-05, '@': 0.00013941168269901018, 'bth': 0.00011152934615920815, 'sõng': 2.7882336539802036e-05, 'vời.ghét': 2.7882336539802036e-05, 'nội_thành': 2.7882336539802036e-05, 'HN': 2.7882336539802036e-05, '4-5': 2.7882336539802036e-05, 'mồ_hôi': 0.00011152934615920815, 'Nhìn_chung': 5.576467307960407e-05, 'Sử_dụng': 2.7882336539802036e-05, 'vè': 2.7882336539802036e-05, 'tại_chỗ': 2.7882336539802036e-05, 'tiêu_chuẩn': 5.576467307960407e-05, 'nhanh.vải': 2.7882336539802036e-05, 'fải': 5.576467307960407e-05, 'noi': 5.576467307960407e-05, 'suy_nghĩ': 2.7882336539802036e-05, 'mạnh_dạn': 2.7882336539802036e-05, '😞': 2.7882336539802036e-05, 'Giaoo': 2.7882336539802036e-05, 'nữaa': 2.7882336539802036e-05, 'lắmm': 2.7882336539802036e-05, 'Sz': 8.364700961940611e-05, 'nhưng👇': 2.7882336539802036e-05, 'kính': 2.7882336539802036e-05, 'đeo': 0.0002230586923184163, 'người_lớn': 2.7882336539802036e-05, 'daughter': 2.7882336539802036e-05, 'tuần': 8.364700961940611e-05, 'bụng': 5.576467307960407e-05, 'bự': 2.7882336539802036e-05, 'thu': 0.00019517635577861425, 'những': 2.7882336539802036e-05, 'có': 0.00016729401923881222, 'công': 5.576467307960407e-05, 'dụng': 2.7882336539802036e-05, 'tương': 2.7882336539802036e-05, 'tự': 2.7882336539802036e-05, 'B': 2.7882336539802036e-05, 'lắng_nghe': 2.7882336539802036e-05, 'liẹu': 2.7882336539802036e-05, 'đc.kiểu': 2.7882336539802036e-05, 'Hihi': 0.00016729401923881222, 'nhá': 2.7882336539802036e-05, 'vạt': 5.576467307960407e-05, 'miệng': 2.7882336539802036e-05, 'to.nên': 2.7882336539802036e-05, 'Vỏ': 8.364700961940611e-05, 'nhựa': 0.00011152934615920815, 'vòng_tay': 5.576467307960407e-05, 'Dây': 0.0003067057019378224, 'hiuhiu': 5.576467307960407e-05, 'mạc': 2.7882336539802036e-05, 'bài': 5.576467307960407e-05, 'mét': 2.7882336539802036e-05, 'nặng_tay': 0.00016729401923881222, 'bí': 8.364700961940611e-05, 'onl': 5.576467307960407e-05, 'chu_đáo': 5.576467307960407e-05, 'GHN': 5.576467307960407e-05, 'đẹp_trai': 2.7882336539802036e-05, 'Chủ': 0.00019517635577861425, 'okiiiii': 2.7882336539802036e-05, 'Cặp': 2.7882336539802036e-05, 'cxinh': 2.7882336539802036e-05, 'kết_cấu': 2.7882336539802036e-05, 'cặp': 8.364700961940611e-05, 'tỏng': 2.7882336539802036e-05, 'thể': 0.00011152934615920815, 'Voucher': 5.576467307960407e-05, 'áp_dụng': 2.7882336539802036e-05, 'nêu': 2.7882336539802036e-05, 'pit': 2.7882336539802036e-05, 'bón😔': 2.7882336539802036e-05, '48-50': 2.7882336539802036e-05, 'Chiều': 5.576467307960407e-05, 'cũn_cỡn': 2.7882336539802036e-05, 'phụ_nữ': 2.7882336539802036e-05, 'Đều': 2.7882336539802036e-05, 'Vol_Clay': 2.7882336539802036e-05, '2018': 8.364700961940611e-05, 'kỹ_lưỡng': 2.7882336539802036e-05, 'Ưng_ý': 8.364700961940611e-05, 'date': 0.00016729401923881222, 'Thôi': 2.7882336539802036e-05, 'khôn': 2.7882336539802036e-05, 'lắm😢': 2.7882336539802036e-05, 'xì': 2.7882336539802036e-05, 'lủng': 2.7882336539802036e-05, 'hàng_chợ': 5.576467307960407e-05, 'Đồng_hồ': 5.576467307960407e-05, 'trọng.nhưng': 2.7882336539802036e-05, 'trận': 2.7882336539802036e-05, 'Thi': 5.576467307960407e-05, 'way': 2.7882336539802036e-05, 'shoppi': 2.7882336539802036e-05, 'mượt': 8.364700961940611e-05, 'Nặng': 2.7882336539802036e-05, 'Mn': 5.576467307960407e-05, 'lùi': 5.576467307960407e-05, 'quả': 8.364700961940611e-05, 'Giay': 2.7882336539802036e-05, 'roi': 0.00016729401923881222, 'pk': 2.7882336539802036e-05, 'chon': 5.576467307960407e-05, 'ahuhu': 2.7882336539802036e-05, 'foem': 2.7882336539802036e-05, 'nhái': 5.576467307960407e-05, 'kịp': 2.7882336539802036e-05, 'giầy': 8.364700961940611e-05, 'rớt': 5.576467307960407e-05, 'thẩn': 2.7882336539802036e-05, 'mũ': 0.00011152934615920815, 'đượ': 2.7882336539802036e-05, 'Sỉze_Hơi': 2.7882336539802036e-05, 'đặc.mặc': 2.7882336539802036e-05, 'gê': 2.7882336539802036e-05, 'Nhà': 2.7882336539802036e-05, 'kiến': 5.576467307960407e-05, 'khủng_khiếp': 2.7882336539802036e-05, 'hết_mình': 2.7882336539802036e-05, 'đc.tien': 2.7882336539802036e-05, 'đo': 8.364700961940611e-05, 'sao😁😁😁': 2.7882336539802036e-05, 'Đưa': 2.7882336539802036e-05, 'tl': 5.576467307960407e-05, 'phin': 2.7882336539802036e-05, 'rui': 2.7882336539802036e-05, 'van': 2.7882336539802036e-05, 'hơn_nữa': 2.7882336539802036e-05, 'bitis': 2.7882336539802036e-05, 'hunter': 2.7882336539802036e-05, 'Giầy': 0.00011152934615920815, 'Yên_tâm': 2.7882336539802036e-05, 'm.n.': 2.7882336539802036e-05, 'Bình_Thường': 2.7882336539802036e-05, 'Cái': 2.7882336539802036e-05, 'này': 5.576467307960407e-05, 'với': 0.00013941168269901018, 'tối': 2.7882336539802036e-05, 'màu': 5.576467307960407e-05, 'nhé': 2.7882336539802036e-05, 'các': 2.7882336539802036e-05, 'bạn': 2.7882336539802036e-05, 'dài': 5.576467307960407e-05, 'trắng': 2.7882336539802036e-05, 'đừng': 2.7882336539802036e-05, 'iphone': 5.576467307960407e-05, 'black': 2.7882336539802036e-05, 'plus': 5.576467307960407e-05, '😔😔😔😔': 2.7882336539802036e-05, 'đan': 5.576467307960407e-05, 'nơ': 8.364700961940611e-05, '😣': 2.7882336539802036e-05, 'hài': 5.576467307960407e-05, 'lòng☺☺😍': 2.7882336539802036e-05, 'nước_tiểu': 2.7882336539802036e-05, 'The': 8.364700961940611e-05, 'material': 5.576467307960407e-05, 'also': 2.7882336539802036e-05, 'fair': 2.7882336539802036e-05, 'anough': 2.7882336539802036e-05, 'Phần': 0.00019517635577861425, 'Bảng': 5.576467307960407e-05, 'ô': 2.7882336539802036e-05, 'rộng': 0.00013941168269901018, 'để': 8.364700961940611e-05, 'đùi': 2.7882336539802036e-05, 'hàng': 0.00013941168269901018, 'dù': 2.7882336539802036e-05, 'ngóng': 2.7882336539802036e-05, 'mỏi': 2.7882336539802036e-05, 'cổ': 2.7882336539802036e-05, 'nhiệt': 2.7882336539802036e-05, 'tình': 2.7882336539802036e-05, 'đóng': 5.576467307960407e-05, 'gói': 5.576467307960407e-05, 'chắc': 2.7882336539802036e-05, 'chắn': 2.7882336539802036e-05, 'đẹp': 0.0002509410288582183, 'dùng': 2.7882336539802036e-05, 'giá': 8.364700961940611e-05, 'Bơm': 2.7882336539802036e-05, 'yếu': 5.576467307960407e-05, 'Màu': 5.576467307960407e-05, 'giống': 5.576467307960407e-05, 'hình': 0.00011152934615920815, 'đều': 2.7882336539802036e-05, 'mình': 0.00013941168269901018, 'thích': 2.7882336539802036e-05, 'lắm': 8.364700961940611e-05, 'Tất_cả': 2.7882336539802036e-05, 'điều': 5.576467307960407e-05, 'chieu': 2.7882336539802036e-05, 'dạ_dày': 2.7882336539802036e-05, 'uốn': 2.7882336539802036e-05, 'Kp': 2.7882336539802036e-05, 'da_giày': 2.7882336539802036e-05, 'nhanh_chóng': 5.576467307960407e-05, 'i': 8.364700961940611e-05, 'Trái': 2.7882336539802036e-05, 'lở': 2.7882336539802036e-05, 'mưa': 5.576467307960407e-05, 'xuất_xứ': 2.7882336539802036e-05, 'nhờ': 0.00011152934615920815, '12/2019': 2.7882336539802036e-05, '😉😉': 2.7882336539802036e-05, 'balo': 8.364700961940611e-05, 'loè': 2.7882336539802036e-05, '144k': 2.7882336539802036e-05, 'thoáng': 8.364700961940611e-05, 'chớ': 5.576467307960407e-05, 'tí_xíu': 2.7882336539802036e-05, 'bởi_vì': 2.7882336539802036e-05, '😶😶😶': 2.7882336539802036e-05, 'Ăn': 0.00013941168269901018, 'người_yêu': 2.7882336539802036e-05, 'dự_tính': 2.7882336539802036e-05, 'Đơn': 0.00011152934615920815, '220k': 2.7882336539802036e-05, '123k': 2.7882336539802036e-05, 'nhiệt': 5.576467307960407e-05, 'Thực_phẩm': 2.7882336539802036e-05, 'một_chút': 0.00036247037501742645, 'theu': 2.7882336539802036e-05, 'vá': 5.576467307960407e-05, 'lượg': 2.7882336539802036e-05, 'spham': 2.7882336539802036e-05, 'Ngắn': 5.576467307960407e-05, '1.55': 2.7882336539802036e-05, 'nang': 2.7882336539802036e-05, 'thùng': 2.7882336539802036e-05, 'thình': 2.7882336539802036e-05, 'Lót': 2.7882336539802036e-05, 'Chẳng': 2.7882336539802036e-05, 'iCheck': 2.7882336539802036e-05, 'vay': 0.00011152934615920815, 'oi': 5.576467307960407e-05, 'be': 0.0002230586923184163, 'sẫm': 5.576467307960407e-05, 'Tớ': 2.7882336539802036e-05, 'Nam': 2.7882336539802036e-05, 'live': 2.7882336539802036e-05, 'chốt': 8.364700961940611e-05, 'tớ': 8.364700961940611e-05, 'sắc': 2.7882336539802036e-05, 'buôn': 8.364700961940611e-05, 'Chờ': 2.7882336539802036e-05, '5sao': 2.7882336539802036e-05, 'nc': 5.576467307960407e-05, 'chúc': 2.7882336539802036e-05, 'Xl': 5.576467307960407e-05, 'dìm': 5.576467307960407e-05, 'Đợi': 5.576467307960407e-05, 'vài': 0.00027882336539802036, 'rộng.Chất': 2.7882336539802036e-05, 'gỉ': 5.576467307960407e-05, 'sét': 2.7882336539802036e-05, 'nhanh.nkg': 2.7882336539802036e-05, 'hôi': 0.00013941168269901018, 'trùng': 2.7882336539802036e-05, 'ngày_càng': 2.7882336539802036e-05, 'thuận_lợi': 2.7882336539802036e-05, 'nhé❤❤❤❤❤': 2.7882336539802036e-05, 'trà': 2.7882336539802036e-05, 'nịt': 2.7882336539802036e-05, 'Hểt': 2.7882336539802036e-05, 'sẩy': 2.7882336539802036e-05, 'bả': 2.7882336539802036e-05, 'die': 2.7882336539802036e-05, 'Giúp_đỡ': 2.7882336539802036e-05, 'tạo': 8.364700961940611e-05, 'điều_kiện': 2.7882336539802036e-05, 'thuân': 2.7882336539802036e-05, 'lợi': 2.7882336539802036e-05, 'việc': 0.0002509410288582183, 'job': 2.7882336539802036e-05, 'hợp_lí': 5.576467307960407e-05, 'thứ2': 2.7882336539802036e-05, 'Khá': 8.364700961940611e-05, 'ẹp': 2.7882336539802036e-05, 'củ': 5.576467307960407e-05, 'thanh': 2.7882336539802036e-05, 'anh': 0.00011152934615920815, 'viên': 5.576467307960407e-05, 'nén': 2.7882336539802036e-05, 'ươm': 2.7882336539802036e-05, 'đùi': 0.00019517635577861425, 'ngờ': 2.7882336539802036e-05, 'kĩ_thuật': 2.7882336539802036e-05, 'Tgian': 2.7882336539802036e-05, 'Lm': 2.7882336539802036e-05, 'chờ': 8.364700961940611e-05, 'xót_ruột': 2.7882336539802036e-05, 'lun🤧': 2.7882336539802036e-05, 'câu': 5.576467307960407e-05, 'BT': 2.7882336539802036e-05, 'quan': 0.00016729401923881222, 'uổng': 5.576467307960407e-05, 'Hay': 5.576467307960407e-05, 'chịu_khó': 8.364700961940611e-05, 'kích_cỡ': 5.576467307960407e-05, 'món': 0.00011152934615920815, 'vật_dụng': 2.7882336539802036e-05, 'chén': 2.7882336539802036e-05, 'lựa': 0.00011152934615920815, 'hoài': 2.7882336539802036e-05, 'độn': 2.7882336539802036e-05, 'TK': 2.7882336539802036e-05, '😘': 2.7882336539802036e-05, 'Khong': 2.7882336539802036e-05, 'nau': 2.7882336539802036e-05, 'phẩn': 2.7882336539802036e-05, 'giữa': 0.00013941168269901018, 'mõm': 2.7882336539802036e-05, 'chênh_lệch': 2.7882336539802036e-05, 'hoạt_động': 5.576467307960407e-05, '10k': 2.7882336539802036e-05, 'banh': 2.7882336539802036e-05, 'tận': 0.00011152934615920815, 'Bé_nhỏ': 2.7882336539802036e-05, 'dắt': 5.576467307960407e-05, 'xe': 8.364700961940611e-05, 'nhấc': 2.7882336539802036e-05, 'z': 5.576467307960407e-05, 'Potay': 2.7882336539802036e-05, 'Giá_thành': 5.576467307960407e-05, 'Cai': 2.7882336539802036e-05, 'nhỏ_xíu': 5.576467307960407e-05, 'vích': 2.7882336539802036e-05, 'Hehe': 2.7882336539802036e-05, 'ba': 2.7882336539802036e-05, 'Ơ': 2.7882336539802036e-05, 'Vs': 2.7882336539802036e-05, 'sợi': 0.00011152934615920815, 'lỏng': 0.00011152934615920815, 'lẹ': 5.576467307960407e-05, 'chảo': 2.7882336539802036e-05, 'che_phủ': 5.576467307960407e-05, 'níu': 2.7882336539802036e-05, 'hok': 0.00011152934615920815, 'nhão': 0.00011152934615920815, 'chạm': 2.7882336539802036e-05, 'Đề_nghị': 2.7882336539802036e-05, 'áo_khoác': 5.576467307960407e-05, 'sơmi': 5.576467307960407e-05, 'rảnh': 5.576467307960407e-05, 'Vải': 2.7882336539802036e-05, 'qá': 2.7882336539802036e-05, 'cứng': 5.576467307960407e-05, '👍': 0.00011152934615920815, 'cạp_quần': 8.364700961940611e-05, 'Hoi': 2.7882336539802036e-05, 'han': 2.7882336539802036e-05, 'hông': 5.576467307960407e-05, 'gởi': 2.7882336539802036e-05, 'đc.lấy': 2.7882336539802036e-05, 'xu': 8.364700961940611e-05, 'ly': 5.576467307960407e-05, 'thủng': 0.00011152934615920815, '_': 5.576467307960407e-05, 'Số_đo': 2.7882336539802036e-05, 'mìh': 8.364700961940611e-05, 'tin_tưởng': 2.7882336539802036e-05, 'ban': 0.00013941168269901018, '79k': 2.7882336539802036e-05, 'nen': 5.576467307960407e-05, 'cac': 2.7882336539802036e-05, 'hieu': 2.7882336539802036e-05, 'Mũ': 5.576467307960407e-05, 'àh': 2.7882336539802036e-05, 'gỗ': 8.364700961940611e-05, 'hơ': 2.7882336539802036e-05, 'thẳng': 8.364700961940611e-05, 'Eh': 2.7882336539802036e-05, 'vote': 8.364700961940611e-05, 'vì': 5.576467307960407e-05, 'đồn': 2.7882336539802036e-05, 'nhiều': 2.7882336539802036e-05, 'nơi': 8.364700961940611e-05, 'kém': 2.7882336539802036e-05, 'bắt': 2.7882336539802036e-05, 'khách': 5.576467307960407e-05, 'mới': 5.576467307960407e-05, 'đòi_hỏi': 0.00013941168269901018, 'Bọc': 2.7882336539802036e-05, 'Chụp': 2.7882336539802036e-05, 'che': 8.364700961940611e-05, 'mặt_hàng': 2.7882336539802036e-05, 'tróc': 8.364700961940611e-05, 'moc': 2.7882336539802036e-05, 'ngay': 0.00011152934615920815, 'vuông': 5.576467307960407e-05, 'thuyền': 2.7882336539802036e-05, 'chung_quy': 2.7882336539802036e-05, 'liệu_trình': 2.7882336539802036e-05, 'coban': 2.7882336539802036e-05, 'da_trời': 2.7882336539802036e-05, 'Lau': 2.7882336539802036e-05, 'quen': 0.00011152934615920815, 'Chán': 2.7882336539802036e-05, 'vãi': 0.00013941168269901018, 'momgr': 2.7882336539802036e-05, 'Chữ': 8.364700961940611e-05, 'xếp': 2.7882336539802036e-05, '65kg': 5.576467307960407e-05, '1m6': 8.364700961940611e-05, 'cơ_thể': 5.576467307960407e-05, 'mỏg': 8.364700961940611e-05, 'trắg': 2.7882336539802036e-05, 'nước_ngoài': 8.364700961940611e-05, 'náy': 8.364700961940611e-05, 'xiền': 2.7882336539802036e-05, 'Ahihi': 2.7882336539802036e-05, 'coi.quần': 2.7882336539802036e-05, 'ạ.thanks': 2.7882336539802036e-05, 'shop.nhưng': 2.7882336539802036e-05, 'tg': 8.364700961940611e-05, 'zui': 2.7882336539802036e-05, 'Order': 5.576467307960407e-05, 'chóc': 2.7882336539802036e-05, 'vả': 2.7882336539802036e-05, 'gây': 2.7882336539802036e-05, 'chán': 0.00013941168269901018, 'váy_áo': 2.7882336539802036e-05, 'đợt': 5.576467307960407e-05, 'NSX': 2.7882336539802036e-05, '12/2017': 2.7882336539802036e-05, 'tức_là': 2.7882336539802036e-05, 'kể': 2.7882336539802036e-05, 'sx': 0.00011152934615920815, 'vì_vậy': 2.7882336539802036e-05, 'sales': 2.7882336539802036e-05, 'to_:': 2.7882336539802036e-05, 'Thực_sự': 2.7882336539802036e-05, 'Hjhj': 2.7882336539802036e-05, 'Nhu': 2.7882336539802036e-05, 'vaY': 2.7882336539802036e-05, 'kiến_gió': 2.7882336539802036e-05, 'chui': 0.00011152934615920815, 'tổ': 2.7882336539802036e-05, 'wuan': 2.7882336539802036e-05, 'mih': 2.7882336539802036e-05, 'ngăn': 2.7882336539802036e-05, 'cmnd': 2.7882336539802036e-05, 'vừa_ý': 5.576467307960407e-05, 'okie': 8.364700961940611e-05, 'quấn': 2.7882336539802036e-05, 'Box': 5.576467307960407e-05, \"'\": 2.7882336539802036e-05, 'bóp': 0.00016729401923881222, 'mặc_cả': 2.7882336539802036e-05, 'Màu_da': 8.364700961940611e-05, 'cotton': 5.576467307960407e-05, 'su': 5.576467307960407e-05, 'mỏng_manh': 2.7882336539802036e-05, 'Cung': 2.7882336539802036e-05, 'long_lanh': 2.7882336539802036e-05, 'mất_tiêu': 5.576467307960407e-05, 'thèm': 2.7882336539802036e-05, 'Ngon': 5.576467307960407e-05, 'tạp': 2.7882336539802036e-05, '1quần': 2.7882336539802036e-05, 'Do': 8.364700961940611e-05, 'nhồi': 2.7882336539802036e-05, 'góc': 8.364700961940611e-05, '3s': 5.576467307960407e-05, 'Hải_Phòng': 2.7882336539802036e-05, 'Hà_Nội': 2.7882336539802036e-05, 'I': 2.7882336539802036e-05, 'thường': 2.7882336539802036e-05, '19k': 2.7882336539802036e-05, 'cô': 2.7882336539802036e-05, 'y_tá': 2.7882336539802036e-05, 'Đăng': 2.7882336539802036e-05, 'thàng': 2.7882336539802036e-05, 'binhthuong': 2.7882336539802036e-05, 'thitruong': 2.7882336539802036e-05, 'hỗ_trợ': 5.576467307960407e-05, 'kết': 2.7882336539802036e-05, 'nổi': 8.364700961940611e-05, 'traloi': 2.7882336539802036e-05, 'kích_thước': 0.00011152934615920815, 'gía': 2.7882336539802036e-05, 'hnay': 0.00013941168269901018, 'lằn': 2.7882336539802036e-05, 'To': 2.7882336539802036e-05, 'dầy': 0.00011152934615920815, 'thể': 5.576467307960407e-05, 'lấy': 2.7882336539802036e-05, 'Kích_hoạt': 2.7882336539802036e-05, ';': 0.00011152934615920815, 'Ck': 2.7882336539802036e-05, 'giùm': 5.576467307960407e-05, 'Bóng': 5.576467307960407e-05, 'tại_sao': 8.364700961940611e-05, 'lyoon': 2.7882336539802036e-05, '100': 8.364700961940611e-05, 'seza': 2.7882336539802036e-05, 'tốt.đẹp.': 2.7882336539802036e-05, 'VL😰😰😰😰😰': 2.7882336539802036e-05, 'Gói': 8.364700961940611e-05, 'Về': 8.364700961940611e-05, 'Làm_ăn': 2.7882336539802036e-05, 'đức': 5.576467307960407e-05, 'ch': 2.7882336539802036e-05, 'liều': 5.576467307960407e-05, 'hỉ': 2.7882336539802036e-05, '85k': 2.7882336539802036e-05, 'chắn.nhung': 2.7882336539802036e-05, 'KT': 2.7882336539802036e-05, 'quang': 2.7882336539802036e-05, '25-22': 2.7882336539802036e-05, 'xách': 2.7882336539802036e-05, 'thỳ': 2.7882336539802036e-05, 'ngủ': 8.364700961940611e-05, 'Dặn': 2.7882336539802036e-05, 'Tiền': 2.7882336539802036e-05, 'của': 8.364700961940611e-05, 'đó': 2.7882336539802036e-05, 'cảm': 2.7882336539802036e-05, 'ơn': 2.7882336539802036e-05, 'đi_tiểu': 2.7882336539802036e-05, 'nhấn': 2.7882336539802036e-05, 'băng_dính': 2.7882336539802036e-05, 'tránh': 2.7882336539802036e-05, 'long': 5.576467307960407e-05, '5k': 2.7882336539802036e-05, 'uy_tín': 5.576467307960407e-05, '49kg': 2.7882336539802036e-05, 'cung_cấp': 5.576467307960407e-05, 'chê': 5.576467307960407e-05, 'Thùng': 2.7882336539802036e-05, 'đựng': 5.576467307960407e-05, 'vận': 2.7882336539802036e-05, 'chuyển': 2.7882336539802036e-05, 'đến': 2.7882336539802036e-05, 'xốp': 2.7882336539802036e-05, 'nát': 2.7882336539802036e-05, 'hết': 2.7882336539802036e-05, 'hãy': 5.576467307960407e-05, 'dấu_hiệu': 2.7882336539802036e-05, 'xé': 5.576467307960407e-05, 'tiền_đồ': 2.7882336539802036e-05, 'kiếm': 2.7882336539802036e-05, 'Phần': 2.7882336539802036e-05, 'gen': 8.364700961940611e-05, 'cầm_chắc': 2.7882336539802036e-05, 'khép': 2.7882336539802036e-05, 'ráp': 5.576467307960407e-05, 'song': 2.7882336539802036e-05, 'ạ😍😍': 2.7882336539802036e-05, 'Voi': 2.7882336539802036e-05, 'Lóp': 2.7882336539802036e-05, 'bông': 2.7882336539802036e-05, 'bận': 2.7882336539802036e-05, 'Kẻ': 2.7882336539802036e-05, 'nã': 2.7882336539802036e-05, 'với_lại': 2.7882336539802036e-05, 'cũng_quá_tội': 2.7882336539802036e-05, 'Mẹ': 2.7882336539802036e-05, 'Vải_Áo': 2.7882336539802036e-05, '💓': 2.7882336539802036e-05, 'viết': 2.7882336539802036e-05, 'ghi_chú': 5.576467307960407e-05, 'giáo': 5.576467307960407e-05, 'đóng': 0.00016729401923881222, 'sơ_sài': 0.00011152934615920815, 'nồng': 2.7882336539802036e-05, 'Trên': 0.00011152934615920815, 'thực': 0.00011152934615920815, 'choét': 2.7882336539802036e-05, 'Da': 2.7882336539802036e-05, 'Tay_áo': 0.00019517635577861425, 'nhanh.Nhưng': 2.7882336539802036e-05, 'chổ': 0.00013941168269901018, 'trầy': 5.576467307960407e-05, 'dúm': 5.576467307960407e-05, 'label': 2.7882336539802036e-05, 'Mỹ': 5.576467307960407e-05, 'ep': 2.7882336539802036e-05, 'thick': 2.7882336539802036e-05, 'mai': 2.7882336539802036e-05, 'jk': 2.7882336539802036e-05, 'đạp': 2.7882336539802036e-05, 'sẻ': 2.7882336539802036e-05, 'pi': 2.7882336539802036e-05, 'ok👍👌': 2.7882336539802036e-05, 'giới_thiệu': 5.576467307960407e-05, 'bạn_bè': 2.7882336539802036e-05, 'tạ': 2.7882336539802036e-05, 'Bản_quốc_tế': 2.7882336539802036e-05, 'Đầu': 2.7882336539802036e-05, 'chân_ren': 5.576467307960407e-05, '61kg': 2.7882336539802036e-05, 'XXL': 2.7882336539802036e-05, 'những_ai': 2.7882336539802036e-05, 'nhạy_cảm': 5.576467307960407e-05, 'dài🙈': 2.7882336539802036e-05, 'siu': 2.7882336539802036e-05, 'Đàn': 2.7882336539802036e-05, 'đàn': 5.576467307960407e-05, 'âm': 5.576467307960407e-05, 'môg': 2.7882336539802036e-05, 'Bộ_đồ': 2.7882336539802036e-05, 'Kb': 2.7882336539802036e-05, 'chủ_yếu': 2.7882336539802036e-05, 'mắc': 0.00011152934615920815, 'chuyên_nghiệp': 2.7882336539802036e-05, 'Cơ': 2.7882336539802036e-05, 'nhé😂': 2.7882336539802036e-05, 'xí': 8.364700961940611e-05, 'Len': 8.364700961940611e-05, 'luing': 2.7882336539802036e-05, 'thím': 2.7882336539802036e-05, '1,7': 2.7882336539802036e-05, '1/3': 2.7882336539802036e-05, 'ố': 2.7882336539802036e-05, 'ngi': 2.7882336539802036e-05, 'Chứ': 2.7882336539802036e-05, 'dặn': 2.7882336539802036e-05, 'khác': 5.576467307960407e-05, 'rồi': 2.7882336539802036e-05, 'mo': 5.576467307960407e-05, 'chu': 8.364700961940611e-05, 'tro': 2.7882336539802036e-05, 'Ly': 2.7882336539802036e-05, 'toan': 2.7882336539802036e-05, 'Đêm': 2.7882336539802036e-05, 'bill': 5.576467307960407e-05, 'HSD': 2.7882336539802036e-05, '25/11': 2.7882336539802036e-05, 'Mây': 2.7882336539802036e-05, 'băn_khoăn': 2.7882336539802036e-05, '45': 5.576467307960407e-05, 'sài': 5.576467307960407e-05, 'tiền.nên': 2.7882336539802036e-05, 'hết.sử': 2.7882336539802036e-05, 'dụng': 2.7882336539802036e-05, 'liệu': 2.7882336539802036e-05, 'bú': 8.364700961940611e-05, 'nông': 2.7882336539802036e-05, 'Chân': 8.364700961940611e-05, 'tầng': 2.7882336539802036e-05, 'karo': 2.7882336539802036e-05, '❤❤❤': 2.7882336539802036e-05, 'mẫu_mã': 8.364700961940611e-05, 'nhớ': 5.576467307960407e-05, '💋': 5.576467307960407e-05, 'tổng_thể': 2.7882336539802036e-05, 'chuẩn_bị': 5.576467307960407e-05, 'hjc': 2.7882336539802036e-05, 'lẻ': 2.7882336539802036e-05, 'phảma': 2.7882336539802036e-05, 'nhình': 2.7882336539802036e-05, 'sản_xuất': 0.00011152934615920815, 'phậm': 2.7882336539802036e-05, 'bơm': 2.7882336539802036e-05, 'xoq': 2.7882336539802036e-05, 'gương': 8.364700961940611e-05, 'Bát': 2.7882336539802036e-05, 'Quần_áo': 2.7882336539802036e-05, 'thoải': 8.364700961940611e-05, 'máiiii': 2.7882336539802036e-05, 'dín': 2.7882336539802036e-05, 'tăm_hơi': 2.7882336539802036e-05, 'điều_chỉnh': 8.364700961940611e-05, 'Nạp': 2.7882336539802036e-05, 'GREEN': 2.7882336539802036e-05, '1984': 2.7882336539802036e-05, 'chuyen': 2.7882336539802036e-05, 'phu': 2.7882336539802036e-05, 'kien': 2.7882336539802036e-05, 'Dành': 2.7882336539802036e-05, 'mướt': 5.576467307960407e-05, '46kg': 2.7882336539802036e-05, 'Hảo': 2.7882336539802036e-05, 'Tròn': 2.7882336539802036e-05, 'Thôi_thì': 2.7882336539802036e-05, '72k': 5.576467307960407e-05, 'Mội': 2.7882336539802036e-05, 'tội': 8.364700961940611e-05, 'Chắc_chắn': 2.7882336539802036e-05, 'chất_ren': 2.7882336539802036e-05, 'Lại': 0.00011152934615920815, 'Nt': 5.576467307960407e-05, '$': 5.576467307960407e-05, 'xinh.Mỗi': 2.7882336539802036e-05, '🤭': 2.7882336539802036e-05, 'riêu': 2.7882336539802036e-05, 'Đổi': 5.576467307960407e-05, 'mất_công': 8.364700961940611e-05, 'đành': 5.576467307960407e-05, 'giải_đáp': 2.7882336539802036e-05, 'áo_phông': 5.576467307960407e-05, 'Sai': 5.576467307960407e-05, 'đung': 5.576467307960407e-05, 'Đành': 2.7882336539802036e-05, '~': 0.00013941168269901018, '70': 5.576467307960407e-05, 'thường.tiền': 2.7882336539802036e-05, 'ấy.k': 2.7882336539802036e-05, 'một_ít': 2.7882336539802036e-05, 'rong': 2.7882336539802036e-05, 'địng': 2.7882336539802036e-05, 'bét': 2.7882336539802036e-05, 'inb': 2.7882336539802036e-05, 'Mực': 2.7882336539802036e-05, 'iron': 2.7882336539802036e-05, 'man': 2.7882336539802036e-05, 'Phân_phát': 2.7882336539802036e-05, 'họ': 5.576467307960407e-05, 'xịt': 5.576467307960407e-05, 'Bra': 2.7882336539802036e-05, 'Bao_bì': 5.576467307960407e-05, 'Hình_thức': 2.7882336539802036e-05, 'Tính': 2.7882336539802036e-05, 'sản': 0.00011152934615920815, 'phầm': 5.576467307960407e-05, 'mắc_công': 2.7882336539802036e-05, 'gho': 2.7882336539802036e-05, 'Chuông': 2.7882336539802036e-05, 'cửa': 2.7882336539802036e-05, 'very': 2.7882336539802036e-05, 'wud': 2.7882336539802036e-05, 'Max': 2.7882336539802036e-05, 'hàn_quốc': 2.7882336539802036e-05, 'rẻ': 2.7882336539802036e-05, 'Sz_M': 2.7882336539802036e-05, 'quớ': 2.7882336539802036e-05, 'thai': 2.7882336539802036e-05, 'lan': 2.7882336539802036e-05, 'Trung_Quốc': 2.7882336539802036e-05, 'Feedback': 5.576467307960407e-05, 'nà': 2.7882336539802036e-05, '\\\\': 2.7882336539802036e-05, 'vừa_mới': 2.7882336539802036e-05, 'mata': 2.7882336539802036e-05, 'tiêu': 2.7882336539802036e-05, 'bàn': 2.7882336539802036e-05, 'Thấy': 5.576467307960407e-05, 'mặc_định': 2.7882336539802036e-05, 'lẽ_ra': 2.7882336539802036e-05, 'ổn': 2.7882336539802036e-05, 'màu.chán': 2.7882336539802036e-05, 'tổng_quan': 2.7882336539802036e-05, 'Thảm': 2.7882336539802036e-05, 'Song': 2.7882336539802036e-05, '10.2017': 2.7882336539802036e-05, 'Cùng': 5.576467307960407e-05, 'nh': 2.7882336539802036e-05, 'dẹp': 5.576467307960407e-05, 'bám': 0.00013941168269901018, 'gọn_gàng': 8.364700961940611e-05, '70kg': 8.364700961940611e-05, 'kkk': 2.7882336539802036e-05, 'lens': 5.576467307960407e-05, 'sony': 2.7882336539802036e-05, 'Giống': 0.0002230586923184163, 'Mỗi': 8.364700961940611e-05, 'tắt': 2.7882336539802036e-05, 'android': 2.7882336539802036e-05, 'mở': 0.00019517635577861425, 'hy': 5.576467307960407e-05, 'gựt': 2.7882336539802036e-05, 'Hy_vọng': 0.00011152934615920815, 'đầu': 8.364700961940611e-05, 'tháo': 2.7882336539802036e-05, 'rời': 2.7882336539802036e-05, 'cùng': 2.7882336539802036e-05, 'tiện': 2.7882336539802036e-05, 'lưu': 2.7882336539802036e-05, 'ý': 2.7882336539802036e-05, 'nhớ': 2.7882336539802036e-05, 'cặp': 2.7882336539802036e-05, 'ngọc': 2.7882336539802036e-05, 'gắn': 2.7882336539802036e-05, 'ghim': 2.7882336539802036e-05, 'Moi': 5.576467307960407e-05, 'nhin': 5.576467307960407e-05, 'Phía': 2.7882336539802036e-05, 'lổi': 2.7882336539802036e-05, 'sắc_sảo': 2.7882336539802036e-05, 'sh': 5.576467307960407e-05, 'tôt': 2.7882336539802036e-05, 'gui': 5.576467307960407e-05, 'hack': 2.7882336539802036e-05, 'zie': 2.7882336539802036e-05, 'sop': 2.7882336539802036e-05, 'My': 2.7882336539802036e-05, 'pretty': 2.7882336539802036e-05, 'small': 2.7882336539802036e-05, '32A': 2.7882336539802036e-05, 'buying': 2.7882336539802036e-05, 'always': 2.7882336539802036e-05, 'problem': 2.7882336539802036e-05, 'w': 2.7882336539802036e-05, 'me': 2.7882336539802036e-05, 'Siêng': 2.7882336539802036e-05, 'giành': 2.7882336539802036e-05, 'tuổi': 0.00011152934615920815, 'Bàn': 2.7882336539802036e-05, 'mẻ': 2.7882336539802036e-05, 'đứa': 2.7882336539802036e-05, 'dây_thun': 2.7882336539802036e-05, 'side': 2.7882336539802036e-05, '😀': 2.7882336539802036e-05, 'đồng_ý': 2.7882336539802036e-05, 'loằng_ngoằng': 2.7882336539802036e-05, 't': 8.364700961940611e-05, 'g': 5.576467307960407e-05, 'MỎNG': 2.7882336539802036e-05, 'DÃ_MAN': 2.7882336539802036e-05, 'Mất': 2.7882336539802036e-05, 'ngu': 2.7882336539802036e-05, '🤣🤣🤣': 2.7882336539802036e-05, 'Huỷ': 2.7882336539802036e-05, 'Ram': 2.7882336539802036e-05, 'Nv': 2.7882336539802036e-05, 'quá.lại': 2.7882336539802036e-05, 'Nhưq': 2.7882336539802036e-05, 'trắq': 5.576467307960407e-05, 'hoá_đơn': 2.7882336539802036e-05, 'cty': 2.7882336539802036e-05, 'mờ': 8.364700961940611e-05, 'phóng': 2.7882336539802036e-05, 'chăn': 8.364700961940611e-05, 'nhét': 2.7882336539802036e-05, 'phồng': 2.7882336539802036e-05, 'Độ': 5.576467307960407e-05, 'thảm': 8.364700961940611e-05, 'giồng': 2.7882336539802036e-05, 'số_lượng': 2.7882336539802036e-05, '6': 2.7882336539802036e-05, 'bổ_sung': 2.7882336539802036e-05, 'khac': 5.576467307960407e-05, '❤️❤️': 2.7882336539802036e-05, 'Xần': 2.7882336539802036e-05, 'má': 5.576467307960407e-05, 'rát': 8.364700961940611e-05, 'mất_lòng': 2.7882336539802036e-05, 'thân_thiết': 2.7882336539802036e-05, 'Uy_tín': 2.7882336539802036e-05, '2XL': 5.576467307960407e-05, 'nái': 2.7882336539802036e-05, 'hốt': 2.7882336539802036e-05, 'Lên': 8.364700961940611e-05, 'cần_thiết': 2.7882336539802036e-05, 'nhà_bếp': 2.7882336539802036e-05, 'Ship': 0.00011152934615920815, '43': 5.576467307960407e-05, 'từa': 2.7882336539802036e-05, 'lưa': 2.7882336539802036e-05, 'Một': 8.364700961940611e-05, 'coi': 8.364700961940611e-05, 'khóa': 2.7882336539802036e-05, 'hu': 2.7882336539802036e-05, 'Lạp': 2.7882336539802036e-05, 'sườn': 2.7882336539802036e-05, 'mặn': 5.576467307960407e-05, 'cơm': 2.7882336539802036e-05, 'Okie': 2.7882336539802036e-05, 'cân_nhắc': 0.00013941168269901018, 'Xem': 8.364700961940611e-05, 'Trả': 2.7882336539802036e-05, 'phiền_phức': 2.7882336539802036e-05, 'ký': 5.576467307960407e-05, 'xướt': 2.7882336539802036e-05, 'tùm': 2.7882336539802036e-05, 'lùm': 2.7882336539802036e-05, 'lắm.nên': 2.7882336539802036e-05, 'vest': 2.7882336539802036e-05, 'ok.hợp': 2.7882336539802036e-05, 'chut.giao': 2.7882336539802036e-05, 'đuọc': 2.7882336539802036e-05, 'tròn': 5.576467307960407e-05, 'Thông_thường': 2.7882336539802036e-05, 'gội': 2.7882336539802036e-05, 'nghi_ngờ': 2.7882336539802036e-05, 'doi': 5.576467307960407e-05, 'tra': 5.576467307960407e-05, 'khg': 2.7882336539802036e-05, 'Bao': 2.7882336539802036e-05, 'te': 2.7882336539802036e-05, 'vui_vẻ': 2.7882336539802036e-05, 'thân_thiện': 2.7882336539802036e-05, 'nhỉ': 8.364700961940611e-05, 'So_sánh': 2.7882336539802036e-05, 'Goon_Slim': 2.7882336539802036e-05, 'qcao': 5.576467307960407e-05, 'Mặt': 2.7882336539802036e-05, 'im': 2.7882336539802036e-05, 'cấm': 2.7882336539802036e-05, 'nón': 2.7882336539802036e-05, 'Bật': 2.7882336539802036e-05, 'thiết_kế': 2.7882336539802036e-05, 'cá_tính': 2.7882336539802036e-05, 'szie': 8.364700961940611e-05, 'up': 2.7882336539802036e-05, 'so_sánh': 5.576467307960407e-05, 'tốt.tuy': 2.7882336539802036e-05, 'nhiên': 2.7882336539802036e-05, 'giẫn': 2.7882336539802036e-05, 'Lỗi': 2.7882336539802036e-05, 'Khó': 2.7882336539802036e-05, 'tà': 2.7882336539802036e-05, 'săn': 2.7882336539802036e-05, 'tiện_lợi': 2.7882336539802036e-05, '35k': 2.7882336539802036e-05, 'đêm': 2.7882336539802036e-05, 'Fair': 2.7882336539802036e-05, 'product': 2.7882336539802036e-05, 'quality': 5.576467307960407e-05, 'Kiểu': 2.7882336539802036e-05, 'Đánh_giá': 5.576467307960407e-05, '75%': 2.7882336539802036e-05, 'phát_đạt': 2.7882336539802036e-05, 'hường': 2.7882336539802036e-05, 'mot': 8.364700961940611e-05, 'ben': 2.7882336539802036e-05, 'thang': 2.7882336539802036e-05, 'deu': 2.7882336539802036e-05, 'Gặp': 2.7882336539802036e-05, 'sz.vải': 2.7882336539802036e-05, 'tương_ứng': 5.576467307960407e-05, 'rộg': 2.7882336539802036e-05, 'case': 2.7882336539802036e-05, 'xiaomi': 2.7882336539802036e-05, 'm5': 2.7882336539802036e-05, 'Mầu': 2.7882336539802036e-05, 'Nó': 2.7882336539802036e-05, 'LeoShop': 2.7882336539802036e-05, 'Huhu': 5.576467307960407e-05, 'mỏngg': 2.7882336539802036e-05, 'nắn': 2.7882336539802036e-05, 'bục': 8.364700961940611e-05, 'mỏng_dính': 5.576467307960407e-05, 'tầu': 2.7882336539802036e-05, 'coton': 2.7882336539802036e-05, 'Vừa_ý': 2.7882336539802036e-05, 'Ngăn': 2.7882336539802036e-05, 'tê': 8.364700961940611e-05, 'la8j': 2.7882336539802036e-05, 'V': 5.576467307960407e-05, 'nhẽ': 2.7882336539802036e-05, 'cá_mập': 2.7882336539802036e-05, 'Từ': 5.576467307960407e-05, '7/9': 2.7882336539802036e-05, '22': 2.7882336539802036e-05, 'đồng_nghĩa': 2.7882336539802036e-05, 'mong_manh': 5.576467307960407e-05, 'tgian': 2.7882336539802036e-05, 'gieo': 2.7882336539802036e-05, 'note': 2.7882336539802036e-05, 'sọc': 8.364700961940611e-05, 'dth': 5.576467307960407e-05, 'Bản': 2.7882336539802036e-05, 'thiêu': 2.7882336539802036e-05, 'mât': 2.7882336539802036e-05, 'vang': 2.7882336539802036e-05, 'rôi': 2.7882336539802036e-05, 'thẩm_mĩ': 2.7882336539802036e-05, 'TẠm': 2.7882336539802036e-05, 'khéo': 5.576467307960407e-05, 'ăngten': 2.7882336539802036e-05, 'phòng': 5.576467307960407e-05, 'tín_hiệu': 2.7882336539802036e-05, 'ưu_tiên': 2.7882336539802036e-05, 'card': 5.576467307960407e-05, 'chất_son': 2.7882336539802036e-05, 'Hình_mẫu': 2.7882336539802036e-05, '42': 5.576467307960407e-05, 'Giải_quyết': 2.7882336539802036e-05, 'Chảo': 2.7882336539802036e-05, 'mạ': 5.576467307960407e-05, 'nưa': 2.7882336539802036e-05, 'app': 8.364700961940611e-05, 'Trung': 2.7882336539802036e-05, 'tiền.mk': 2.7882336539802036e-05, 'lúc_nào': 2.7882336539802036e-05, 'đòi': 5.576467307960407e-05, 'thùng': 0.00011152934615920815, 'vớ': 2.7882336539802036e-05, 'linh_kiện': 2.7882336539802036e-05, 'nóng.nhưng': 2.7882336539802036e-05, '80': 2.7882336539802036e-05, 'dễ_coi': 2.7882336539802036e-05, 'bít': 8.364700961940611e-05, 'mần': 5.576467307960407e-05, 'thuốc_nhuộm': 2.7882336539802036e-05, 'nhượng': 2.7882336539802036e-05, 'ưu_đãi': 2.7882336539802036e-05, 'Bản_lề': 2.7882336539802036e-05, 'ngoại_cỡ': 2.7882336539802036e-05, 'vn': 2.7882336539802036e-05, 'Ngoài': 2.7882336539802036e-05, 'kiểm': 2.7882336539802036e-05, 'Thật': 2.7882336539802036e-05, 'cô_đồng_nghiệp': 2.7882336539802036e-05, 'đính': 2.7882336539802036e-05, 'phù': 2.7882336539802036e-05, 'hợp': 2.7882336539802036e-05, 'Nói': 0.00013941168269901018, 'củng': 5.576467307960407e-05, 'sự_cố': 2.7882336539802036e-05, 'trao_đổi': 2.7882336539802036e-05, 'hổ': 2.7882336539802036e-05, 'trợ_thì': 2.7882336539802036e-05, 'mệt_mỏi': 2.7882336539802036e-05, 'ẩu': 0.00013941168269901018, 'xổ': 5.576467307960407e-05, '106.000': 2.7882336539802036e-05, 'ad': 2.7882336539802036e-05, 'luyện': 2.7882336539802036e-05, '°': 2.7882336539802036e-05, 'cug': 5.576467307960407e-05, 'bjk': 2.7882336539802036e-05, 'diễn_tả': 2.7882336539802036e-05, 'm52': 5.576467307960407e-05, 'ih': 2.7882336539802036e-05, 'pn': 2.7882336539802036e-05, '1sp': 2.7882336539802036e-05, 'quần_lót': 2.7882336539802036e-05, 'mjnh': 2.7882336539802036e-05, 'ho': 2.7882336539802036e-05, 'gắn': 8.364700961940611e-05, 'hoa': 5.576467307960407e-05, 'đùng': 2.7882336539802036e-05, 'Yêu_cầu': 2.7882336539802036e-05, 'há_hốc': 2.7882336539802036e-05, 'anh.đường': 2.7882336539802036e-05, 'lỗi.chất': 2.7882336539802036e-05, 'liệu': 5.576467307960407e-05, 'Bởi_vì': 2.7882336539802036e-05, 'đẩy': 2.7882336539802036e-05, 'rat': 2.7882336539802036e-05, 'đồng': 2.7882336539802036e-05, 'Tiếng': 2.7882336539802036e-05, 'Là': 2.7882336539802036e-05, 'cạnh_tranh': 2.7882336539802036e-05, 'dài💖💗': 2.7882336539802036e-05, 'nghĩ': 5.576467307960407e-05, 'nhữg': 2.7882336539802036e-05, 'dág': 2.7882336539802036e-05, '51kg': 2.7882336539802036e-05, '44-54': 2.7882336539802036e-05, 'Mẹo': 2.7882336539802036e-05, 'Rep': 2.7882336539802036e-05, 'quốc': 2.7882336539802036e-05, 'Xưởng': 2.7882336539802036e-05, 'Kích_thước': 2.7882336539802036e-05, 'lyly': 2.7882336539802036e-05, 'đun': 2.7882336539802036e-05, 'sen': 5.576467307960407e-05, 'thông_cảm': 2.7882336539802036e-05, 'dòm': 2.7882336539802036e-05, 'LG': 2.7882336539802036e-05, 'Nhưg': 2.7882336539802036e-05, 'chì': 2.7882336539802036e-05, 'vô_cùng': 5.576467307960407e-05, 'khog': 2.7882336539802036e-05, 'Huhuhu': 2.7882336539802036e-05, 'vạy': 2.7882336539802036e-05, 'qias': 2.7882336539802036e-05, 'thông_tin': 5.576467307960407e-05, 'thực_hiện': 2.7882336539802036e-05, 'nhị': 2.7882336539802036e-05, 'Bề_ngoài': 2.7882336539802036e-05, 'Coi': 2.7882336539802036e-05, 'nấy': 0.00013941168269901018, 'ghê': 0.00016729401923881222, 'mềnh': 2.7882336539802036e-05, 'visa': 2.7882336539802036e-05, 'USA': 2.7882336539802036e-05, 'nghi': 5.576467307960407e-05, 'VN': 2.7882336539802036e-05, 'cổ😌': 2.7882336539802036e-05, 'hì': 2.7882336539802036e-05, '😄': 2.7882336539802036e-05, 'nôg': 2.7882336539802036e-05, 'trơ_trọi': 2.7882336539802036e-05, 'tý': 0.00013941168269901018, 'Rôi': 2.7882336539802036e-05, 'vnxk': 2.7882336539802036e-05, 'rọc': 2.7882336539802036e-05, 'phá': 2.7882336539802036e-05, 'quan_tâm': 2.7882336539802036e-05, 'Lắm': 2.7882336539802036e-05, 'aiize': 2.7882336539802036e-05, 'vặn': 5.576467307960407e-05, 'nghiêng': 5.576467307960407e-05, 'nhuyễn': 2.7882336539802036e-05, 'Ống_tay_áo': 2.7882336539802036e-05, 'đăng_ký': 2.7882336539802036e-05, 'Lock': 2.7882336539802036e-05, '👍🏻👍🏻👍🏻': 2.7882336539802036e-05, 'Ngày_tháng': 2.7882336539802036e-05, 'chứa': 2.7882336539802036e-05, 'ipad': 2.7882336539802036e-05, 'Con': 8.364700961940611e-05, 'Hom': 2.7882336539802036e-05, 'rày': 2.7882336539802036e-05, 'đánh': 5.576467307960407e-05, 've': 5.576467307960407e-05, 'de': 5.576467307960407e-05, 'Bức_xúc': 2.7882336539802036e-05, 'bọn': 2.7882336539802036e-05, 'shoppe': 2.7882336539802036e-05, 'vớ_vẩn': 2.7882336539802036e-05, 'ấm': 5.576467307960407e-05, '😔😡': 2.7882336539802036e-05, 'Lâu_lâu': 2.7882336539802036e-05, 'riêng': 8.364700961940611e-05, 'trắng_ngà': 2.7882336539802036e-05, 'Ban_đầu': 2.7882336539802036e-05, 'rã': 2.7882336539802036e-05, 'tươi': 0.00011152934615920815, 'thở': 2.7882336539802036e-05, 'hơu': 2.7882336539802036e-05, 'Lan': 2.7882336539802036e-05, 'rut': 2.7882336539802036e-05, 'nghiem': 2.7882336539802036e-05, 'tích_luỹ': 2.7882336539802036e-05, 'naoc': 2.7882336539802036e-05, 'cọ': 5.576467307960407e-05, 'nồi': 5.576467307960407e-05, 'làm_sao': 2.7882336539802036e-05, 'thía': 2.7882336539802036e-05, 'choé': 2.7882336539802036e-05, 'neon': 2.7882336539802036e-05, 'Vừa': 2.7882336539802036e-05, 'rin': 2.7882336539802036e-05, 'lần': 2.7882336539802036e-05, 'phải': 8.364700961940611e-05, 'sửa': 2.7882336539802036e-05, 'dống': 2.7882336539802036e-05, 'thịt': 5.576467307960407e-05, 'hả': 2.7882336539802036e-05, '58': 5.576467307960407e-05, 'được.hơi': 2.7882336539802036e-05, 'sứoc': 2.7882336539802036e-05, 'toạt': 2.7882336539802036e-05, 'Quần_jean': 2.7882336539802036e-05, '70-71': 2.7882336539802036e-05, '75': 2.7882336539802036e-05, 'ngoai': 2.7882336539802036e-05, 'Dạo': 2.7882336539802036e-05, 'mng': 2.7882336539802036e-05, 'phân_vân': 5.576467307960407e-05, 'phù': 2.7882336539802036e-05, 'hơpj': 2.7882336539802036e-05, 'But': 2.7882336539802036e-05, '👍👍': 2.7882336539802036e-05, 'Những': 2.7882336539802036e-05, 'ních': 5.576467307960407e-05, 'Haizz': 2.7882336539802036e-05, 'mix': 2.7882336539802036e-05, '1_son': 2.7882336539802036e-05, '😊😊': 2.7882336539802036e-05, 'Orthe': 2.7882336539802036e-05, 'admin': 2.7882336539802036e-05, 'Quần_đùi': 2.7882336539802036e-05, 'kkkkk': 2.7882336539802036e-05, 'ới': 2.7882336539802036e-05, 'Hơn': 2.7882336539802036e-05, 'Giáo': 2.7882336539802036e-05, 'quạt': 2.7882336539802036e-05, 'bé_con': 2.7882336539802036e-05, 'mốc': 2.7882336539802036e-05, 'kinh_khủng': 2.7882336539802036e-05, 'gái': 5.576467307960407e-05, 'ngồi': 0.00011152934615920815, 'bịa': 2.7882336539802036e-05, 'chuyện': 5.576467307960407e-05, 'Nhé': 2.7882336539802036e-05, 'lấy.Mặc': 2.7882336539802036e-05, 'bó.Bụng': 2.7882336539802036e-05, 'đặt': 5.576467307960407e-05, 'hãy': 2.7882336539802036e-05, 'lớn': 2.7882336539802036e-05, 'chút': 8.364700961940611e-05, 'ngố': 2.7882336539802036e-05, '16/10': 2.7882336539802036e-05, 'rằng': 8.364700961940611e-05, 'Cug': 2.7882336539802036e-05, 'Đó': 5.576467307960407e-05, 'nhận_xét': 2.7882336539802036e-05, 'phủ': 2.7882336539802036e-05, 'buôn_bán': 5.576467307960407e-05, 'may_mắn': 2.7882336539802036e-05, 'chắn.Nhưng': 2.7882336539802036e-05, 'minhg': 2.7882336539802036e-05, 'vans': 5.576467307960407e-05, 'rộ': 2.7882336539802036e-05, 'y_hệt': 2.7882336539802036e-05, 'pải': 2.7882336539802036e-05, '😐': 2.7882336539802036e-05, 'high': 2.7882336539802036e-05, 'big': 2.7882336539802036e-05, 'đl': 2.7882336539802036e-05, 'xót': 2.7882336539802036e-05, 'khj': 2.7882336539802036e-05, 'doa': 2.7882336539802036e-05, 'được.bột': 2.7882336539802036e-05, 'sạm': 2.7882336539802036e-05, 'Dam': 2.7882336539802036e-05, 'Quần': 2.7882336539802036e-05, 'kĩ_lưỡng': 2.7882336539802036e-05, 'nẩy': 5.576467307960407e-05, 'Gà': 5.576467307960407e-05, 'đoạn': 5.576467307960407e-05, 'thuốc': 2.7882336539802036e-05, 'rận': 2.7882336539802036e-05, 'thần_kì': 2.7882336539802036e-05, '20': 5.576467307960407e-05, 'set': 2.7882336539802036e-05, 'rít': 2.7882336539802036e-05, 'giup': 2.7882336539802036e-05, 'nhe....do': 2.7882336539802036e-05, 'di': 2.7882336539802036e-05, 'nha_trang': 2.7882336539802036e-05, 'lắm❤❤❤': 2.7882336539802036e-05, 'dings': 2.7882336539802036e-05, 'to_nhỏ': 2.7882336539802036e-05, 'Dung': 2.7882336539802036e-05, 'khach': 2.7882336539802036e-05, 'yeu': 2.7882336539802036e-05, 'cau.ok.': 2.7882336539802036e-05, 'ạh': 2.7882336539802036e-05, 'phản': 2.7882336539802036e-05, 'hòi': 2.7882336539802036e-05, 'sớm': 5.576467307960407e-05, 'thành_ra': 2.7882336539802036e-05, 'Vì': 2.7882336539802036e-05, 'Áo_khoác': 2.7882336539802036e-05, 'Quảng_Châu_Trung_Niên': 2.7882336539802036e-05, 'quẹt': 2.7882336539802036e-05, 'áp': 2.7882336539802036e-05, 'Béo': 2.7882336539802036e-05, 'mỡ': 2.7882336539802036e-05, 'Hôm': 2.7882336539802036e-05, 'zo': 2.7882336539802036e-05, 'ol': 2.7882336539802036e-05, 'đinh': 2.7882336539802036e-05, 'sirius': 2.7882336539802036e-05, 'lu_bu': 2.7882336539802036e-05, 'đi_đồng': 2.7882336539802036e-05, 'đở': 2.7882336539802036e-05, 'đệm': 2.7882336539802036e-05, 'giâ': 2.7882336539802036e-05, 'dặmmm': 2.7882336539802036e-05, 'dịch_chuyển': 2.7882336539802036e-05, 'kq': 2.7882336539802036e-05, 'Hên': 5.576467307960407e-05, 'thjk': 2.7882336539802036e-05, 'ngô': 2.7882336539802036e-05, 'khoai': 2.7882336539802036e-05, 'Lsau': 2.7882336539802036e-05, 'Vichy': 2.7882336539802036e-05, 'Tạch': 2.7882336539802036e-05, 'nhìn_chung': 0.00011152934615920815, 'bỡ': 2.7882336539802036e-05, 'vón': 2.7882336539802036e-05, 'cục': 2.7882336539802036e-05, 'Đặt': 2.7882336539802036e-05, 'túi': 5.576467307960407e-05, 'lúc': 2.7882336539802036e-05, 'mở': 2.7882336539802036e-05, 'thấy': 5.576467307960407e-05, 'cả': 5.576467307960407e-05, 'khăn': 5.576467307960407e-05, 'buộc': 5.576467307960407e-05, 'và': 2.7882336539802036e-05, 'ví': 2.7882336539802036e-05, 'mỗi': 2.7882336539802036e-05, 'tội': 2.7882336539802036e-05, 'Binh': 2.7882336539802036e-05, 'Treo': 2.7882336539802036e-05, 'dê': 2.7882336539802036e-05, 'Chứ': 0.00011152934615920815, 'm6': 2.7882336539802036e-05, 'đúng_ra': 2.7882336539802036e-05, 'nhau7': 2.7882336539802036e-05, 'tần': 2.7882336539802036e-05, 'ghé': 2.7882336539802036e-05, '💓💓💓': 2.7882336539802036e-05, 'Ủa': 2.7882336539802036e-05, 'đâu🤣🤣': 2.7882336539802036e-05, 'Khg': 2.7882336539802036e-05, 'Flash': 2.7882336539802036e-05, '64k': 2.7882336539802036e-05, '62k': 2.7882336539802036e-05, 'đểu': 2.7882336539802036e-05, 'Tương_xứng': 2.7882336539802036e-05, 'được.vải': 2.7882336539802036e-05, 'kẹt': 2.7882336539802036e-05, 'nhô': 2.7882336539802036e-05, 'Day': 2.7882336539802036e-05, 'Jb': 2.7882336539802036e-05, 'cuteee': 2.7882336539802036e-05, '2c': 5.576467307960407e-05, 'ợ': 2.7882336539802036e-05, 'mỏq': 2.7882336539802036e-05, 'Rồi': 2.7882336539802036e-05, 'dẹp_tiệm': 2.7882336539802036e-05, 'Mặn': 5.576467307960407e-05, '2kg': 2.7882336539802036e-05, 'xái': 2.7882336539802036e-05, 'đục': 5.576467307960407e-05, 'lăm': 2.7882336539802036e-05, 'ib': 0.00011152934615920815, 'ik': 2.7882336539802036e-05, '40k': 5.576467307960407e-05, 'nhanh.nhưng': 2.7882336539802036e-05, 'kém.chỉ': 2.7882336539802036e-05, 'P': 2.7882336539802036e-05, 'chax': 2.7882336539802036e-05, 'tk': 2.7882336539802036e-05, 'dinh': 5.576467307960407e-05, 'rua': 2.7882336539802036e-05, 'hoac': 2.7882336539802036e-05, 'giac': 2.7882336539802036e-05, 'Hành': 2.7882336539802036e-05, 'lắc_lắc': 2.7882336539802036e-05, '2/3': 2.7882336539802036e-05, 'ngắt': 2.7882336539802036e-05, 'chuẩn_y': 2.7882336539802036e-05, 'Có': 2.7882336539802036e-05, 'váy': 2.7882336539802036e-05, 'cảm_nhận': 2.7882336539802036e-05, 'giá_trị': 5.576467307960407e-05, 'vời.hơi': 2.7882336539802036e-05, 'này😂': 2.7882336539802036e-05, 'tác_dụng': 8.364700961940611e-05, 'lụa': 2.7882336539802036e-05, 'đũi': 5.576467307960407e-05, 'tràn': 2.7882336539802036e-05, 'Vậy': 2.7882336539802036e-05, 'biết_mấy': 2.7882336539802036e-05, 'nàng': 2.7882336539802036e-05, 'bánh_mì': 2.7882336539802036e-05, 'định': 8.364700961940611e-05, 'vch': 2.7882336539802036e-05, 'ọ': 2.7882336539802036e-05, 'Trội': 2.7882336539802036e-05, 'ôi': 2.7882336539802036e-05, 'lỏng_lẻo': 2.7882336539802036e-05, 'chuẩn': 5.576467307960407e-05, '😭😭😭': 5.576467307960407e-05, 'nẻo': 5.576467307960407e-05, 'spa': 2.7882336539802036e-05, 'Thích': 8.364700961940611e-05, 'Hê': 2.7882336539802036e-05, 'hê': 2.7882336539802036e-05, 'Sản': 2.7882336539802036e-05, 'giai': 2.7882336539802036e-05, 'cheap': 2.7882336539802036e-05, 'bựa': 2.7882336539802036e-05, 'hội': 2.7882336539802036e-05, 'cancel': 2.7882336539802036e-05, 'hoạ_tiết': 2.7882336539802036e-05, 'bẹp': 2.7882336539802036e-05, 'nhép': 2.7882336539802036e-05, 'tăg': 2.7882336539802036e-05, '♥': 2.7882336539802036e-05, 'Do_vậy': 2.7882336539802036e-05, 'ăn_uống': 2.7882336539802036e-05, 'Mún': 2.7882336539802036e-05, 'Ảnh': 2.7882336539802036e-05, 'tất_cả': 8.364700961940611e-05, 'bích': 2.7882336539802036e-05, 'Phương': 2.7882336539802036e-05, 'bao_lâu': 2.7882336539802036e-05, 'suy': 2.7882336539802036e-05, 'phảm': 2.7882336539802036e-05, 'SHOP': 2.7882336539802036e-05, 'mua_bán': 2.7882336539802036e-05, 'đuwowcj': 2.7882336539802036e-05, 'đi_đôi': 2.7882336539802036e-05, 'phía': 8.364700961940611e-05, 'vểnh': 2.7882336539802036e-05, '30cm': 2.7882336539802036e-05, '⛤⛤⛤': 2.7882336539802036e-05, 'A': 2.7882336539802036e-05, 'Z.': 2.7882336539802036e-05, 'Củ': 2.7882336539802036e-05, 'ý_định': 5.576467307960407e-05, 'Chia': 2.7882336539802036e-05, 'Nhất_là': 2.7882336539802036e-05, 'âo': 2.7882336539802036e-05, 'nhưnh': 2.7882336539802036e-05, 'viền': 2.7882336539802036e-05, 'đũng': 2.7882336539802036e-05, '>': 5.576467307960407e-05, 'm62': 5.576467307960407e-05, 'hồ': 5.576467307960407e-05, 'hắc': 5.576467307960407e-05, 'cb': 2.7882336539802036e-05, 'Gọi': 2.7882336539802036e-05, 'Công_nghệ': 2.7882336539802036e-05, 'lạ': 2.7882336539802036e-05, 'đẹp.Mình': 2.7882336539802036e-05, 'thị_trường': 2.7882336539802036e-05, 'Hi_vọng': 2.7882336539802036e-05, '😃😃': 2.7882336539802036e-05, 'Làm': 2.7882336539802036e-05, 'hướng_dẫn': 2.7882336539802036e-05, 'sứt': 2.7882336539802036e-05, 'nép': 2.7882336539802036e-05, 'vé': 2.7882336539802036e-05, 'dịch_vụ': 2.7882336539802036e-05, 'xấy': 2.7882336539802036e-05, '1sai': 2.7882336539802036e-05, 'gọng': 2.7882336539802036e-05, 'Mog': 2.7882336539802036e-05, 'đườg': 2.7882336539802036e-05, '☺️': 2.7882336539802036e-05, 'siết': 2.7882336539802036e-05, 'Rút': 2.7882336539802036e-05, 'dứi': 2.7882336539802036e-05, 'chúng': 2.7882336539802036e-05, 'chi_tiết': 2.7882336539802036e-05, 'Đáng_giá': 2.7882336539802036e-05, 'Nữ_OK': 2.7882336539802036e-05, '48kg': 8.364700961940611e-05, 'web': 2.7882336539802036e-05, 'Xiaomi': 2.7882336539802036e-05, 'zin': 5.576467307960407e-05, 'Cố_gắng': 2.7882336539802036e-05, 'Lúc': 2.7882336539802036e-05, 'về': 2.7882336539802036e-05, 'thất': 5.576467307960407e-05, 'vọng': 5.576467307960407e-05, 'nhìn': 8.364700961940611e-05, 'khá': 2.7882336539802036e-05, 'xấu': 2.7882336539802036e-05, 'à': 2.7882336539802036e-05, 'đương_nhiên': 2.7882336539802036e-05, 'nó': 2.7882336539802036e-05, 'tì': 2.7882336539802036e-05, 'vết': 2.7882336539802036e-05, 'xíu': 5.576467307960407e-05, 'Áo': 5.576467307960407e-05, 'cũng': 2.7882336539802036e-05, 'rất': 5.576467307960407e-05, 'chỗ': 2.7882336539802036e-05, 'rách': 8.364700961940611e-05, 'ở': 5.576467307960407e-05, 'ống': 2.7882336539802036e-05, 'thật': 2.7882336539802036e-05, 'sự': 2.7882336539802036e-05, 'Minhg': 2.7882336539802036e-05, 'Cũng': 2.7882336539802036e-05, 'Ổn': 2.7882336539802036e-05, 'Ngồi': 2.7882336539802036e-05, 'buổi': 8.364700961940611e-05, 'mi': 2.7882336539802036e-05, 'nhon': 2.7882336539802036e-05, 'Méo': 2.7882336539802036e-05, 'vấn_đề': 8.364700961940611e-05, 'thô_lỗ': 2.7882336539802036e-05, 'Xà': 2.7882336539802036e-05, 'phòng': 2.7882336539802036e-05, 'mùi': 2.7882336539802036e-05, 'thoảng': 2.7882336539802036e-05, 'ngửi': 2.7882336539802036e-05, 'kĩ': 5.576467307960407e-05, 'mà': 5.576467307960407e-05, 'lọ': 2.7882336539802036e-05, 'W.': 2.7882336539802036e-05, 'Quai': 2.7882336539802036e-05, '😍': 2.7882336539802036e-05, 'hồi_âm': 2.7882336539802036e-05, 'bà': 5.576467307960407e-05, '61cm': 2.7882336539802036e-05, 'Che_phủ': 2.7882336539802036e-05, 'Kích': 2.7882336539802036e-05, 'thươc': 2.7882336539802036e-05, '44': 8.364700961940611e-05, 'nhanh.không': 2.7882336539802036e-05, 'kí': 0.00011152934615920815, 'hon': 2.7882336539802036e-05, 'pamper': 2.7882336539802036e-05, 'trung': 2.7882336539802036e-05, 'đăng_tải': 2.7882336539802036e-05, 'đứt': 0.00011152934615920815, 'Tưởng': 8.364700961940611e-05, 'vơi': 5.576467307960407e-05, 'Thuốc': 5.576467307960407e-05, 'chảy': 0.00011152934615920815, 'rác': 2.7882336539802036e-05, 'đẹp👍': 2.7882336539802036e-05, 'rời': 5.576467307960407e-05, 'Fb': 2.7882336539802036e-05, 'Phạm_Võ': 2.7882336539802036e-05, 'color': 2.7882336539802036e-05, 'little': 2.7882336539802036e-05, 'dark': 2.7882336539802036e-05, 'pictures': 2.7882336539802036e-05, 'Mừn': 2.7882336539802036e-05, 'dấu': 2.7882336539802036e-05, 'tạm.hơi': 2.7882336539802036e-05, 'Tiền_nào_của_ấy': 2.7882336539802036e-05, 'Cám': 2.7882336539802036e-05, 'gạch': 2.7882336539802036e-05, 'thương': 2.7882336539802036e-05, 'lâu.Thất': 2.7882336539802036e-05, 'vọng': 2.7882336539802036e-05, 'quá_đỗi': 2.7882336539802036e-05, 'Aso': 2.7882336539802036e-05, 'trang': 2.7882336539802036e-05, 'Rát': 2.7882336539802036e-05, 'giản': 2.7882336539802036e-05, 'hương': 5.576467307960407e-05, 'khoa': 2.7882336539802036e-05, 'lowtech': 2.7882336539802036e-05, 'phông': 8.364700961940611e-05, 'fb': 2.7882336539802036e-05, '😌': 5.576467307960407e-05, 'được.tay': 2.7882336539802036e-05, 'ống_tay_áo': 2.7882336539802036e-05, 'lồng': 2.7882336539802036e-05, 'nối.cái': 2.7882336539802036e-05, '35': 2.7882336539802036e-05, 'thiệt': 2.7882336539802036e-05, 'bây': 2.7882336539802036e-05, 'xin': 5.576467307960407e-05, 'địa_chỉ': 2.7882336539802036e-05, '3-4': 2.7882336539802036e-05, 'khoá_kéo': 2.7882336539802036e-05, 'dạng': 5.576467307960407e-05, 'mẩu': 2.7882336539802036e-05, 'tóm': 2.7882336539802036e-05, 'mầm': 2.7882336539802036e-05, 'Gần': 2.7882336539802036e-05, 'nhiu': 2.7882336539802036e-05, 'Tất': 8.364700961940611e-05, 'tăm': 2.7882336539802036e-05, 'Âm': 2.7882336539802036e-05, 'bass': 5.576467307960407e-05, '28': 2.7882336539802036e-05, '💕💕💕': 2.7882336539802036e-05, 'bik': 2.7882336539802036e-05, 'siêu_thị': 2.7882336539802036e-05, '1goi': 2.7882336539802036e-05, '300': 2.7882336539802036e-05, 'thưa': 2.7882336539802036e-05, 'cham': 2.7882336539802036e-05, 'fz': 2.7882336539802036e-05, 'Chân_váy': 8.364700961940611e-05, 'đạt': 2.7882336539802036e-05, 'dể': 2.7882336539802036e-05, 'tham_khảo': 2.7882336539802036e-05, 'óc': 2.7882336539802036e-05, 'chờ_đợi': 2.7882336539802036e-05, 'quê_mùa': 2.7882336539802036e-05, 'bên_ren': 5.576467307960407e-05, 'tỐt': 2.7882336539802036e-05, 'ga': 8.364700961940611e-05, 'giường': 2.7882336539802036e-05, 'shops': 2.7882336539802036e-05, '09': 2.7882336539802036e-05, 'dạ_quang': 5.576467307960407e-05, 'bin': 2.7882336539802036e-05, '4c': 2.7882336539802036e-05, 'Eo': 5.576467307960407e-05, 'luọng': 2.7882336539802036e-05, 'thank': 2.7882336539802036e-05, '👌🏻': 2.7882336539802036e-05, 'đường_không': 2.7882336539802036e-05, 'chuối': 2.7882336539802036e-05, 'vàng_hoe': 2.7882336539802036e-05, 'phát': 2.7882336539802036e-05, 'hỏi_han': 2.7882336539802036e-05, 'quan_trọng': 2.7882336539802036e-05, 'Đang': 2.7882336539802036e-05, 'truyền_hình': 2.7882336539802036e-05, 'cap': 5.576467307960407e-05, 'đè': 2.7882336539802036e-05, 'cạnh': 2.7882336539802036e-05, 'dì': 2.7882336539802036e-05, 'dề': 2.7882336539802036e-05, 'rạch': 0.00011152934615920815, 'Đống': 2.7882336539802036e-05, '1m70': 2.7882336539802036e-05, 'lận': 2.7882336539802036e-05, 'trang_trí': 2.7882336539802036e-05, 'tí.chịu': 2.7882336539802036e-05, 'Trog': 2.7882336539802036e-05, 'cl': 5.576467307960407e-05, 'thuog': 2.7882336539802036e-05, 'đua': 5.576467307960407e-05, 'thủ_tục': 2.7882336539802036e-05, 'fiền': 2.7882336539802036e-05, 'fức': 2.7882336539802036e-05, '43ki': 2.7882336539802036e-05, '1m53': 2.7882336539802036e-05, 'loang': 5.576467307960407e-05, 'dầu': 5.576467307960407e-05, 'tphcm': 2.7882336539802036e-05, 'fí': 2.7882336539802036e-05, '1nửa': 2.7882336539802036e-05, 'mieu': 2.7882336539802036e-05, 'gom': 2.7882336539802036e-05, '😟chất': 2.7882336539802036e-05, 'thường.nói': 2.7882336539802036e-05, 't2': 2.7882336539802036e-05, 'lon': 2.7882336539802036e-05, 'nghiên_cứu': 2.7882336539802036e-05, 'Ốc': 2.7882336539802036e-05, 'vít': 2.7882336539802036e-05, 'quý': 2.7882336539802036e-05, 'Lo': 2.7882336539802036e-05, 'hoá_ra': 2.7882336539802036e-05, '5cm': 2.7882336539802036e-05, 'ghì': 2.7882336539802036e-05, '279k': 2.7882336539802036e-05, '290k': 2.7882336539802036e-05, 'hồi': 2.7882336539802036e-05, 'hột': 5.576467307960407e-05, 'cát': 2.7882336539802036e-05, 'vi': 2.7882336539802036e-05, 'loaii': 2.7882336539802036e-05, 'tã': 2.7882336539802036e-05, 'Ng': 2.7882336539802036e-05, 'Kô': 2.7882336539802036e-05, 'lược': 2.7882336539802036e-05, 'vati': 2.7882336539802036e-05, 'Sọc': 2.7882336539802036e-05, 'âm_thanh': 2.7882336539802036e-05, 'Buôn_bán': 5.576467307960407e-05, 'thái_độ': 2.7882336539802036e-05, 'Công_dụng': 2.7882336539802036e-05, 'hao': 2.7882336539802036e-05, 'hjhj': 2.7882336539802036e-05, 'km': 2.7882336539802036e-05, 'môt': 2.7882336539802036e-05, 'phối': 2.7882336539802036e-05, 'ảo': 2.7882336539802036e-05, '2-3': 2.7882336539802036e-05, 'màu.đặt': 2.7882336539802036e-05, 'gạch.ko': 2.7882336539802036e-05, 'lắm.chất': 2.7882336539802036e-05, 'tủ': 2.7882336539802036e-05, 'quần_áo': 2.7882336539802036e-05, '7,5': 2.7882336539802036e-05, 'chế_biến': 2.7882336539802036e-05, 'rim': 2.7882336539802036e-05, 'phần_ren': 2.7882336539802036e-05, 'Tui': 2.7882336539802036e-05, 'rầu': 2.7882336539802036e-05, '💩💩💩💩💩': 2.7882336539802036e-05, 'Hoa': 2.7882336539802036e-05, 'rời_rạc': 2.7882336539802036e-05, '57kg': 2.7882336539802036e-05, '😍😍😍😍': 2.7882336539802036e-05, 'hình.dep.': 2.7882336539802036e-05, 'Tau': 2.7882336539802036e-05, 'bắp': 2.7882336539802036e-05, 'có_dễ': 2.7882336539802036e-05, 'pu': 2.7882336539802036e-05, 'hop': 2.7882336539802036e-05, 'nguoi': 2.7882336539802036e-05, 'nguc': 2.7882336539802036e-05, 'Northface': 2.7882336539802036e-05, 'fake': 2.7882336539802036e-05, 'dùm': 8.364700961940611e-05, 'đọc': 5.576467307960407e-05, 'hoàn_thiện': 2.7882336539802036e-05, 'nghiêm_trọng': 2.7882336539802036e-05, 'Chị': 2.7882336539802036e-05, 'haha': 2.7882336539802036e-05, 'trẻ': 2.7882336539802036e-05, 'như_ý': 2.7882336539802036e-05, 'thật_thà': 2.7882336539802036e-05, 'đg': 2.7882336539802036e-05, 'lung': 2.7882336539802036e-05, 'được.Tien': 2.7882336539802036e-05, '7kg': 2.7882336539802036e-05, 'cc': 2.7882336539802036e-05, 'delay': 2.7882336539802036e-05, 'nhưnc': 2.7882336539802036e-05, 'Sice': 2.7882336539802036e-05, 'soạn': 2.7882336539802036e-05, 'mệt_nghỉ': 2.7882336539802036e-05, 'luon': 5.576467307960407e-05, 'Size_L': 8.364700961940611e-05, 'Định': 5.576467307960407e-05, 'liên_lạc': 5.576467307960407e-05, 'Mik': 5.576467307960407e-05, '155m': 2.7882336539802036e-05, 'năng': 2.7882336539802036e-05, '9k': 5.576467307960407e-05, 'th': 2.7882336539802036e-05, 'ullzang': 2.7882336539802036e-05, 'iu': 5.576467307960407e-05, 'kèm_son': 2.7882336539802036e-05, 'handmade': 2.7882336539802036e-05, 'Quần_lót': 2.7882336539802036e-05, 'dài_dài': 8.364700961940611e-05, 'Fix': 2.7882336539802036e-05, 'iccid': 2.7882336539802036e-05, 'sóng': 2.7882336539802036e-05, 'Hàg': 5.576467307960407e-05, 'vin': 2.7882336539802036e-05, 'k.m': 2.7882336539802036e-05, 'Dầu_gội': 2.7882336539802036e-05, 'bết': 2.7882336539802036e-05, 'SiZe': 2.7882336539802036e-05, 'quá.k': 2.7882336539802036e-05, 'trắng_tinh': 2.7882336539802036e-05, 'Tế': 2.7882336539802036e-05, 'vấn': 2.7882336539802036e-05, 'hời_hợt': 2.7882336539802036e-05, 'cười': 2.7882336539802036e-05, 'Mặc': 2.7882336539802036e-05, 'sét': 2.7882336539802036e-05, 'Fuc': 2.7882336539802036e-05, 'biển': 2.7882336539802036e-05, 'Nội': 2.7882336539802036e-05, 'mỏng.m': 2.7882336539802036e-05, 'Xài': 2.7882336539802036e-05, 'sac': 2.7882336539802036e-05, 'caia': 2.7882336539802036e-05, 'Dog': 2.7882336539802036e-05, '64-65': 2.7882336539802036e-05, '91': 2.7882336539802036e-05, 'mềm_mại': 2.7882336539802036e-05, 'Thật_ra': 2.7882336539802036e-05, 'ngắm_nghía': 2.7882336539802036e-05, 'quyết_định': 5.576467307960407e-05, 'm68': 2.7882336539802036e-05, 'D': 2.7882336539802036e-05, 'chậm😣': 2.7882336539802036e-05, 'Sine': 2.7882336539802036e-05, 'chết.ko': 2.7882336539802036e-05, 'đc.áo': 2.7882336539802036e-05, 'mỏng.vừa': 2.7882336539802036e-05, 'sổ': 2.7882336539802036e-05, 'Hồnh': 2.7882336539802036e-05, 'MÌNH': 2.7882336539802036e-05, 'CÓ': 2.7882336539802036e-05, 'ẢNH': 2.7882336539802036e-05, 'MÔ_TẢ': 2.7882336539802036e-05, 'làm_việc': 2.7882336539802036e-05, 'lắp_đặt': 2.7882336539802036e-05, 'Sách': 2.7882336539802036e-05, 'gáy': 2.7882336539802036e-05, 'thôi_thì': 2.7882336539802036e-05, 'Ao_Thai': 2.7882336539802036e-05, 'Trung_Quoc': 2.7882336539802036e-05, 'Viet': 2.7882336539802036e-05, '71cm': 2.7882336539802036e-05, 'Cân_nhắc': 2.7882336539802036e-05, 'chân_váy': 2.7882336539802036e-05, 'kỉ': 2.7882336539802036e-05, '☺': 2.7882336539802036e-05, 'bà_già': 2.7882336539802036e-05, 'ipX': 2.7882336539802036e-05, 'áo_mưa': 2.7882336539802036e-05, 'hơp': 2.7882336539802036e-05, 'đầu_đọc': 2.7882336539802036e-05, 'nhận': 2.7882336539802036e-05, 'Dóng': 2.7882336539802036e-05, 'đứng': 5.576467307960407e-05, '32bit': 2.7882336539802036e-05, '64': 2.7882336539802036e-05, 'bit': 2.7882336539802036e-05, 'rẽ': 2.7882336539802036e-05, 'Phân_vân': 2.7882336539802036e-05, 'chiếc': 2.7882336539802036e-05, 'babidon': 2.7882336539802036e-05, 'loi': 2.7882336539802036e-05, 'sục': 2.7882336539802036e-05, 'ồn': 2.7882336539802036e-05, 'chanh': 8.364700961940611e-05, 'oải': 2.7882336539802036e-05, 'sốc': 2.7882336539802036e-05, 'mỏi': 5.576467307960407e-05, 'khô_cứng': 2.7882336539802036e-05, 'Haiza': 2.7882336539802036e-05, 'lố': 2.7882336539802036e-05, 'sầu': 2.7882336539802036e-05, 'teen': 2.7882336539802036e-05, 'phấm': 2.7882336539802036e-05, 'caro': 5.576467307960407e-05, 'vàng_trắng': 2.7882336539802036e-05, 'mềm_mỏng': 2.7882336539802036e-05, 'kiên_nhẫn': 2.7882336539802036e-05, '33k': 2.7882336539802036e-05, 'nhự': 2.7882336539802036e-05, 'gân': 2.7882336539802036e-05, 'đường': 2.7882336539802036e-05, '60%': 2.7882336539802036e-05, 'xang': 2.7882336539802036e-05, 'hom': 5.576467307960407e-05, 'dx': 2.7882336539802036e-05, 'trời': 2.7882336539802036e-05, 'ướt': 2.7882336539802036e-05, 'dây_cáp': 2.7882336539802036e-05, 'cắm': 2.7882336539802036e-05, 'mỏ': 2.7882336539802036e-05, 'ng.n': 2.7882336539802036e-05, 'đk.like': 2.7882336539802036e-05, 'nè😂😂': 2.7882336539802036e-05, 'Toc': 2.7882336539802036e-05, '❤️❤️❤️': 2.7882336539802036e-05, 'hag': 2.7882336539802036e-05, 'lu': 2.7882336539802036e-05, 'bổ': 2.7882336539802036e-05, 'sù': 2.7882336539802036e-05, 'chap': 2.7882336539802036e-05, 'trebe': 2.7882336539802036e-05, 'Tôtd': 2.7882336539802036e-05, 'đat': 2.7882336539802036e-05, 'Xé': 2.7882336539802036e-05, '150k': 2.7882336539802036e-05, 'Balo_Quá_Mỏng': 2.7882336539802036e-05, 'Đóng_Gói': 2.7882336539802036e-05, 'buồn_cười': 2.7882336539802036e-05, 'ms': 2.7882336539802036e-05, 'm53': 2.7882336539802036e-05, 'Goi': 2.7882336539802036e-05, 'cử_động': 2.7882336539802036e-05, 'bai': 2.7882336539802036e-05, 'Thời': 2.7882336539802036e-05, 'gian': 2.7882336539802036e-05, 'đã': 2.7882336539802036e-05, 'nói': 2.7882336539802036e-05, 'thuoc': 5.576467307960407e-05, '3ngày': 2.7882336539802036e-05, 'kg.Vì': 2.7882336539802036e-05, '1ngày': 2.7882336539802036e-05, '1kg': 5.576467307960407e-05, 'ngưng': 2.7882336539802036e-05, 'thuoc.Thuoc': 2.7882336539802036e-05, 'ăn.Còn': 2.7882336539802036e-05, 'vướng': 2.7882336539802036e-05, 'Minh1m58mac': 2.7882336539802036e-05, 'quá_trình': 2.7882336539802036e-05, 'lưu_trữ': 2.7882336539802036e-05, 'lu_mờ': 2.7882336539802036e-05, 'vẻ': 2.7882336539802036e-05, 'Bảo': 2.7882336539802036e-05, 'duoi': 2.7882336539802036e-05, '45ki': 2.7882336539802036e-05, 'đc.Tay': 2.7882336539802036e-05, 'game': 2.7882336539802036e-05, 'xèg': 2.7882336539802036e-05, '🤔🤔': 2.7882336539802036e-05, 'lạy': 2.7882336539802036e-05, 'Doi': 2.7882336539802036e-05, 'haiz': 2.7882336539802036e-05, '1m63': 8.364700961940611e-05, 'chặt_chẽ': 2.7882336539802036e-05, 'Đợt': 2.7882336539802036e-05, 'Dan': 2.7882336539802036e-05, 'gion': 2.7882336539802036e-05, 'luc': 2.7882336539802036e-05, '70-60': 2.7882336539802036e-05, '55': 5.576467307960407e-05, 'Mã': 2.7882336539802036e-05, 'nhập': 2.7882336539802036e-05, 'hụt_hẫng': 2.7882336539802036e-05, 'Tã': 2.7882336539802036e-05, 'bobby': 2.7882336539802036e-05, 'Bình_Tân': 2.7882336539802036e-05, 'Bình_Chánh': 2.7882336539802036e-05, 'lẽ': 2.7882336539802036e-05, 'shope': 2.7882336539802036e-05, 'Mềm': 2.7882336539802036e-05, 'trăm': 2.7882336539802036e-05, 'bốc': 2.7882336539802036e-05, 'tô': 2.7882336539802036e-05, 'ngọc': 2.7882336539802036e-05, 'quá_trời': 2.7882336539802036e-05, '2kg2': 2.7882336539802036e-05, 'od': 2.7882336539802036e-05, 'chia': 5.576467307960407e-05, 'Vừa_mới': 2.7882336539802036e-05, 'lòi': 2.7882336539802036e-05, 'cẩu_thả': 2.7882336539802036e-05, 'người_mẫu': 2.7882336539802036e-05, 'trẻ_trung': 2.7882336539802036e-05, 'ren': 2.7882336539802036e-05, 'on.sai': 2.7882336539802036e-05, 'Thêm': 2.7882336539802036e-05, 'dừ': 2.7882336539802036e-05, 'Cách': 2.7882336539802036e-05, '2km': 2.7882336539802036e-05, 'chà': 2.7882336539802036e-05, 'bá': 2.7882336539802036e-05, 'chuần': 2.7882336539802036e-05, 'Quân': 2.7882336539802036e-05, 'Giá_mà': 2.7882336539802036e-05, 'càng': 2.7882336539802036e-05, 'lực': 2.7882336539802036e-05, 'chế_độ': 2.7882336539802036e-05, 'nháy': 2.7882336539802036e-05, 'mỏng.Tiền': 2.7882336539802036e-05, 'nấy.Giao': 2.7882336539802036e-05, 'dè': 2.7882336539802036e-05, 'trk': 2.7882336539802036e-05, 'Nóng': 2.7882336539802036e-05, 'ok..shop': 2.7882336539802036e-05, 'nhanh.ths': 2.7882336539802036e-05, 'lởm_khởm': 2.7882336539802036e-05, 'thế_là': 2.7882336539802036e-05, 'Căng': 2.7882336539802036e-05, 'Khoá_kéo': 2.7882336539802036e-05, 'từ_từ': 2.7882336539802036e-05, 'jean': 2.7882336539802036e-05, 'giề': 2.7882336539802036e-05, 'tào': 2.7882336539802036e-05, 'lao.đặt': 2.7882336539802036e-05, 'đuong': 2.7882336539802036e-05, 'ở_cữ': 2.7882336539802036e-05, 'kĩ_càng': 2.7882336539802036e-05, 'Mỏng_manh': 2.7882336539802036e-05, 'đóooooo': 2.7882336539802036e-05, 'Cào': 2.7882336539802036e-05, 'qr': 2.7882336539802036e-05, 'tiệm': 2.7882336539802036e-05, 'thái': 2.7882336539802036e-05, 'độ': 2.7882336539802036e-05, 'phục': 2.7882336539802036e-05, 'vụ': 2.7882336539802036e-05, 'tình😍': 2.7882336539802036e-05, '😃': 2.7882336539802036e-05, 'Xin': 2.7882336539802036e-05, 'Dũng': 2.7882336539802036e-05, 'biêt': 2.7882336539802036e-05, 'Okk': 2.7882336539802036e-05, '58kí': 2.7882336539802036e-05, 'Giày_OK': 2.7882336539802036e-05, 'sexy': 2.7882336539802036e-05, 'gi': 2.7882336539802036e-05, 'sát.sp': 2.7882336539802036e-05, 'da_màu': 2.7882336539802036e-05, 'Nhân_viên': 2.7882336539802036e-05, 'tận_tình': 2.7882336539802036e-05, 'hay_là': 2.7882336539802036e-05, 'nấu': 2.7882336539802036e-05, 'cháo': 2.7882336539802036e-05, 'dẹt': 2.7882336539802036e-05, 'm67': 2.7882336539802036e-05, 'gửi': 2.7882336539802036e-05, 'chậm': 2.7882336539802036e-05, 'quá': 2.7882336539802036e-05, '2phut': 2.7882336539802036e-05, 'Artemia': 2.7882336539802036e-05, 'nở': 2.7882336539802036e-05, 'Đầy_đủ': 5.576467307960407e-05, 'ốc': 2.7882336539802036e-05, 'Kể_ra': 2.7882336539802036e-05, 'quá.Shop': 2.7882336539802036e-05, 'phần': 2.7882336539802036e-05, 'nách': 2.7882336539802036e-05, 'chật': 2.7882336539802036e-05, 'Ngọc': 2.7882336539802036e-05, '1.7': 2.7882336539802036e-05, '0.7': 2.7882336539802036e-05, 'số': 2.7882336539802036e-05, 'tí': 2.7882336539802036e-05, 'tơi': 2.7882336539802036e-05, 'quá😅😅😅': 2.7882336539802036e-05, 'liên_tục': 2.7882336539802036e-05, 'ÁO': 2.7882336539802036e-05, 'HƠI': 2.7882336539802036e-05, 'CHẬT': 2.7882336539802036e-05, 'bất_ngờ': 2.7882336539802036e-05, '1m60': 2.7882336539802036e-05, 'rún': 2.7882336539802036e-05, 'xiểu': 2.7882336539802036e-05, '♡': 2.7882336539802036e-05, '75w': 2.7882336539802036e-05, '60w': 2.7882336539802036e-05, 'thanks': 2.7882336539802036e-05, 'phụ': 2.7882336539802036e-05, 'kiẹn': 2.7882336539802036e-05, 'suốt': 2.7882336539802036e-05, 'thâm': 2.7882336539802036e-05, 'mụn': 2.7882336539802036e-05, 'Bo': 2.7882336539802036e-05, 'Vui': 2.7882336539802036e-05, 'kiem': 2.7882336539802036e-05, 'tu': 2.7882336539802036e-05, 'đúnh': 2.7882336539802036e-05, 'hướng': 2.7882336539802036e-05, 'dẫn.Còn': 2.7882336539802036e-05, 'Nghe': 2.7882336539802036e-05, 'bước': 2.7882336539802036e-05, 'PUGB': 2.7882336539802036e-05, 'mic': 2.7882336539802036e-05, 'mới_lạ': 2.7882336539802036e-05, 'Đối_với': 2.7882336539802036e-05, 'đuóc': 2.7882336539802036e-05, 'mu': 2.7882336539802036e-05, 'được.Shop': 2.7882336539802036e-05, 'dù_vậy': 2.7882336539802036e-05, 'croptop': 2.7882336539802036e-05, 'cánh': 2.7882336539802036e-05, 'Tripod': 2.7882336539802036e-05, 'toi': 2.7882336539802036e-05, 'nhieu': 2.7882336539802036e-05, 'vet': 2.7882336539802036e-05, 'gap': 2.7882336539802036e-05, 'puma': 2.7882336539802036e-05, '400k': 2.7882336539802036e-05, 'cới': 2.7882336539802036e-05, 'chỉnh_lý': 2.7882336539802036e-05, 'mỹ_quan': 2.7882336539802036e-05, 'giay': 2.7882336539802036e-05, 'vệ_sinh': 2.7882336539802036e-05, 'pị': 2.7882336539802036e-05, 'thất': 2.7882336539802036e-05, 'vọg': 2.7882336539802036e-05, 'Xuất_xứ': 2.7882336539802036e-05, 'Vòng': 2.7882336539802036e-05, 'clip': 2.7882336539802036e-05, 'quấn': 2.7882336539802036e-05, 'quanh': 2.7882336539802036e-05, 'sữa': 2.7882336539802036e-05, 'gạo': 2.7882336539802036e-05, 'bằng': 2.7882336539802036e-05, 'mấy': 2.7882336539802036e-05, 'miếng': 2.7882336539802036e-05, 'bóng': 2.7882336539802036e-05, 'sạch': 2.7882336539802036e-05, 'an': 2.7882336539802036e-05, 'toàn': 2.7882336539802036e-05, 'thíc': 2.7882336539802036e-05, 'Áo_phông': 2.7882336539802036e-05, 'No': 2.7882336539802036e-05, 'hat': 2.7882336539802036e-05, 'toạc': 2.7882336539802036e-05, '3c': 2.7882336539802036e-05, 'xác_định': 2.7882336539802036e-05, 'Quan': 2.7882336539802036e-05, 'chang': 2.7882336539802036e-05, 'cthe': 2.7882336539802036e-05, 'Ban': 2.7882336539802036e-05, '💝💝💝': 2.7882336539802036e-05, 'Biết': 2.7882336539802036e-05, 'Mg': 2.7882336539802036e-05, 'yen': 2.7882336539802036e-05, 'Tao': 2.7882336539802036e-05, 'tốt.phi': 2.7882336539802036e-05, 'tự_tin': 2.7882336539802036e-05, 'ô_tô': 2.7882336539802036e-05, 'dài_lâu': 2.7882336539802036e-05, 'trải_nghiệm': 2.7882336539802036e-05, 'Bill': 2.7882336539802036e-05, 'gì': 2.7882336539802036e-05, 'Vải_OK': 2.7882336539802036e-05, 'ngon_lành': 2.7882336539802036e-05, 'đẹppp': 2.7882336539802036e-05, '52': 2.7882336539802036e-05, 'tiêu_đề': 2.7882336539802036e-05, '2020': 2.7882336539802036e-05, '2019': 2.7882336539802036e-05, 'Sắm': 2.7882336539802036e-05, 'lung_linh': 2.7882336539802036e-05, '👏🏻👍🏻👍🏻👍🏻': 2.7882336539802036e-05, 'đậm_đà': 2.7882336539802036e-05, 'Hỏi': 2.7882336539802036e-05, 'được.chiều': 2.7882336539802036e-05, 'Cầm': 2.7882336539802036e-05}\n"
          ]
        }
      ]
    },
    {
      "cell_type": "code",
      "source": [
        "print(P_pos, P_neg, P_neu)"
      ],
      "metadata": {
        "colab": {
          "base_uri": "https://localhost:8080/"
        },
        "id": "rscmg_rnnWLw",
        "outputId": "62532848-532f-4fb2-9526-ab1abcbcb095"
      },
      "execution_count": null,
      "outputs": [
        {
          "output_type": "stream",
          "name": "stdout",
          "text": [
            "0.6386840432294978 0.21198347107438018 0.14933248569612206\n"
          ]
        }
      ]
    },
    {
      "cell_type": "code",
      "source": [
        "test = [\"đẹp\", \"đẹp quá\", \"quần không đẹp\", \"quần tạm được\"]"
      ],
      "metadata": {
        "id": "rTjSxi1nYKQh"
      },
      "execution_count": null,
      "outputs": []
    },
    {
      "cell_type": "code",
      "source": [
        "def predict(X):\n",
        "  return np.array([_predict(x) for x in X])\n",
        "def _predict(x):\n",
        "  l = len(x)\n",
        "  str = x.split()\n",
        "  l = len(str)\n",
        "  ans_pos = 0.0\n",
        "  ans_neu = 0.0\n",
        "  ans_neg = 0.0\n",
        "  for i in range(l):\n",
        "    if p_pos.get(str[i]) is None:\n",
        "      ans_pos += np.log(1e-7) \n",
        "    else:\n",
        "      p = p_pos.get(str[i])\n",
        "      ans_pos += np.log(p) \n",
        "\n",
        "    if p_neg.get(str[i]) is None:\n",
        "      ans_neg += np.log(1e-7) \n",
        "    else:\n",
        "      p = p_neg.get(str[i])\n",
        "      ans_neg += np.log(p) \n",
        "\n",
        "    if p_neu.get(str[i]) is None:\n",
        "      ans_neu += np.log(1e-7) \n",
        "    else:\n",
        "      p = p_neu.get(str[i]) \n",
        "      ans_neu += np.log(p) \n",
        "  ans_pos += np.log(P_pos)\n",
        "  ans_neg += np.log(P_neg)\n",
        "  ans_neu += np.log(P_neu)\n",
        "  ave = [ans_pos, ans_neu, ans_neg]\n",
        "  ans = np.argmax(ave)\n",
        "  classes = [\"POS\", \"NEU\", \"NEG\"]\n",
        "  return classes[ans]"
      ],
      "metadata": {
        "id": "QRRCvFTgYKNE"
      },
      "execution_count": null,
      "outputs": []
    },
    {
      "cell_type": "code",
      "source": [
        "y_pred = predict(X_test)\n",
        "print(y_pred)\n",
        "print(len(y_pred))\n",
        "print(len(y_pred[y_pred == \"POS\"]))\n",
        "print(len(y_pred[y_pred == \"NEU\"]))\n",
        "print(len(y_pred[y_pred == \"NEG\"]))"
      ],
      "metadata": {
        "id": "09yl732_YKGS",
        "colab": {
          "base_uri": "https://localhost:8080/"
        },
        "outputId": "ba97559b-4221-4960-c877-eaa2ebcaa8f4"
      },
      "execution_count": null,
      "outputs": [
        {
          "output_type": "stream",
          "name": "stdout",
          "text": [
            "['NEG' 'NEG' 'NEU' ... 'POS' 'POS' 'NEU']\n",
            "3146\n",
            "1973\n",
            "481\n",
            "692\n"
          ]
        }
      ]
    },
    {
      "cell_type": "code",
      "source": [
        "print('accuracy = ', accuracy_score(y_test, y_pred))"
      ],
      "metadata": {
        "colab": {
          "base_uri": "https://localhost:8080/"
        },
        "id": "0OPltsh-AVbU",
        "outputId": "70b9c71e-ff8c-4bbe-8885-18f80fba9289"
      },
      "execution_count": null,
      "outputs": [
        {
          "output_type": "stream",
          "name": "stdout",
          "text": [
            "accuracy =  0.7345835982199619\n"
          ]
        }
      ]
    },
    {
      "cell_type": "markdown",
      "source": [
        "# Nháp"
      ],
      "metadata": {
        "id": "MASAFUqkK_XP"
      }
    },
    {
      "cell_type": "code",
      "source": [
        "{'a': 0, 'b':1, }"
      ],
      "metadata": {
        "id": "x6b59vsdlvyq"
      },
      "execution_count": null,
      "outputs": []
    },
    {
      "cell_type": "code",
      "source": [
        "print(type(vectorizer.vocabulary_))"
      ],
      "metadata": {
        "id": "gPHgu0OvyO5_"
      },
      "execution_count": null,
      "outputs": []
    },
    {
      "cell_type": "code",
      "execution_count": null,
      "metadata": {
        "id": "QYrKyuz1lhE5"
      },
      "outputs": [],
      "source": [
        "total = len(y)\n",
        "y_list = y.tolist()\n",
        "P_pos = y_list.count('POS') / total\n",
        "P_neg = y_list.count('NEG') / total\n",
        "P_neu = y_list.count('NEU') / total"
      ]
    },
    {
      "cell_type": "code",
      "execution_count": null,
      "metadata": {
        "id": "Cgb_HfaNyz4y"
      },
      "outputs": [],
      "source": [
        "print(vector.shape)"
      ]
    },
    {
      "cell_type": "code",
      "execution_count": null,
      "metadata": {
        "id": "4u3jP3FelhBi"
      },
      "outputs": [],
      "source": [
        "n_data, n_dictionary = vector.shape\n",
        "p_pos = np.zeros(n_dictionary, dtype=np.float64) \n",
        "p_neg = np.zeros(n_dictionary, dtype=np.float64) \n",
        "p_neu = np.zeros(n_dictionary, dtype=np.float64)"
      ]
    },
    {
      "cell_type": "code",
      "source": [
        "print(n_data)"
      ],
      "metadata": {
        "id": "MPLpJ_FdGUGz"
      },
      "execution_count": null,
      "outputs": []
    },
    {
      "cell_type": "code",
      "execution_count": null,
      "metadata": {
        "id": "AKpL7G9Clg_F"
      },
      "outputs": [],
      "source": [
        "label = np.unique(y)\n",
        "n_label = len(label)"
      ]
    },
    {
      "cell_type": "code",
      "execution_count": null,
      "metadata": {
        "id": "aUVJki7I6Be1"
      },
      "outputs": [],
      "source": [
        "print(vector[0])"
      ]
    },
    {
      "cell_type": "code",
      "execution_count": null,
      "metadata": {
        "id": "NaeJw8CN6F9w"
      },
      "outputs": [],
      "source": [
        "print(vector[3].indices)\n",
        "print(vector[3].indices[0])"
      ]
    },
    {
      "cell_type": "code",
      "source": [
        "vector_pos = vector[y == 'POS']\n",
        "vector_neg = vector[y == 'NEG']\n",
        "vector_neu = vector[y == 'NEU']\n"
      ],
      "metadata": {
        "id": "vbIlcHW5HjZC"
      },
      "execution_count": null,
      "outputs": []
    },
    {
      "cell_type": "code",
      "source": [
        "for word in range(n_dictionary):\n",
        "  sum_pos = 0\n",
        "  sum_neg = 0\n",
        "  sum_neu = 0\n",
        "  for i in range(n_data):\n",
        "    for j in range(len(vector[i].indices)):\n",
        "      if(vector[i].indices[j] == word):\n"
      ],
      "metadata": {
        "id": "jM_T41jmHzSD"
      },
      "execution_count": null,
      "outputs": []
    },
    {
      "cell_type": "code",
      "execution_count": null,
      "metadata": {
        "id": "ZjtE6pq8lg8v"
      },
      "outputs": [],
      "source": [
        "for word in range(n_dictionary):\n",
        "  sum_pos = 0\n",
        "  sum_neg = 0\n",
        "  sum_neu = 0\n",
        "  for i in range(n_data):\n",
        "    for j in range(len(vector[i].indices)):\n",
        "      if(vector[i].indices[j] == word):\n",
        "        if(y[i] == 'POS'):\n",
        "            sum_pos += vector[i].data[j]\n",
        "        elif ( y[i] == 'NEG'):\n",
        "            sum_neg += vector[i].data[j]\n",
        "        else:\n",
        "            sum_neu += vector[i].data[j]\n",
        "  p_pos[word] = sum_pos/n_dictionary\n",
        "  p_neg[word] = sum_neg/n_dictionary\n",
        "  p_neu[word] = sum_neu/n_dictionary"
      ]
    },
    {
      "cell_type": "code",
      "execution_count": null,
      "metadata": {
        "id": "G_zPWVNBsC2P"
      },
      "outputs": [],
      "source": [
        "X_train, X_test, y_train, y_test = train_test_split(vector_main, y, test_size = 0.1, random_state = 1)\n",
        "print(X_train.shape)\n",
        "print(X_test.shape)\n",
        "print(X_train[0])"
      ]
    },
    {
      "cell_type": "markdown",
      "metadata": {
        "id": "sn85auWesLBW"
      },
      "source": [
        "### Navie bayse"
      ]
    },
    {
      "cell_type": "code",
      "execution_count": null,
      "metadata": {
        "id": "j_LUOXbXnRjE"
      },
      "outputs": [],
      "source": [
        "class NaiveBayes:\n",
        "    def fit(self, X, y):\n",
        "        # n_data: số lượng câu\n",
        "        # n_dictionary: số lượng từ trong từ điển\n",
        "        self.X = X\n",
        "        self.y = y\n",
        "\n",
        "        total = len(y)\n",
        "        y_list = y.tolist()\n",
        "        P_pos = y_list.count('POS') / total\n",
        "        P_neg = y_list.count('NEG') / total\n",
        "        P_neu = y_list.count('NEU') / total\n",
        "\n",
        "        n_data, n_dictionary = X.shape\n",
        "        p_pos = np.zeros(n_dictionary, dtype=np.float64) \n",
        "        p_neg = np.zeros(n_dictionary, dtype=np.float64) \n",
        "        p_neu = np.zeros(n_dictionary, dtype=np.float64) \n",
        "\n",
        "        self._label = np.unique(y)\n",
        "        n_label = len(self._label)\n",
        "        for word in range(n_dictionary):\n",
        "          sum_pos = 0\n",
        "          sum_neg = 0\n",
        "          sum_neu = 0\n",
        "          for i in range(n_data):\n",
        "            if(y[i] == 'POS'):\n",
        "              sum_pos += X[i][word]\n",
        "            elif ( y[i] == 'NEG'):\n",
        "              sum_neg += X[i][word]\n",
        "            else:\n",
        "              sum_neu += X[i][word]\n",
        "          p_pos[word] = sum_pos/n_dictionary\n",
        "          p_neg[word] = sum_neg/n_dictionary\n",
        "          p_neu[word] = sum_neu/n_dictionary\n",
        "        self.p = np.array([p_neg, p_neu, p_pos])\n",
        "        self.P = np.array([P_neg, P_neu, P_pos])\n",
        "        \n",
        "\n",
        "\n",
        "    def predict(self, X):\n",
        "        y_pred = [self._predict(x) for x in X]\n",
        "        return np.array(y_pred)\n",
        "\n",
        "    def _predict(self, x):\n",
        "        posteriors = []\n",
        "        \n",
        "        l = len(x)\n",
        "        \n",
        "        for idx in range(self.n_label):\n",
        "            p = 0;\n",
        "            ans = 0\n",
        "            name_label = self._label[idx]\n",
        "            for word in x:\n",
        "                if vectorizer.vocabulary_.get(word) is None:\n",
        "                    continue\n",
        "                else:\n",
        "                    tmp = vectorizer.vocabulary_.get(word)\n",
        "                    ans = ans + np.log(self.p[idx][tmp])\n",
        "            ans += np.log(self.P[idx])\n",
        "            posteriors.append(ans)\n",
        "\n",
        "        y_pred = np.argmax(posteriors)\n",
        "        return self._label[y_pred]\n",
        "        "
      ]
    },
    {
      "cell_type": "code",
      "execution_count": null,
      "metadata": {
        "id": "qjGSYPtYnRfn"
      },
      "outputs": [],
      "source": [
        ""
      ]
    },
    {
      "cell_type": "code",
      "execution_count": null,
      "metadata": {
        "id": "59677wSunRdV"
      },
      "outputs": [],
      "source": [
        ""
      ]
    },
    {
      "cell_type": "code",
      "execution_count": null,
      "metadata": {
        "id": "-oya2vWRnRbK"
      },
      "outputs": [],
      "source": [
        ""
      ]
    },
    {
      "cell_type": "code",
      "execution_count": null,
      "metadata": {
        "id": "QSxUKX-8nRYd"
      },
      "outputs": [],
      "source": [
        ""
      ]
    },
    {
      "cell_type": "code",
      "execution_count": null,
      "metadata": {
        "id": "oofDoQWUnRWI"
      },
      "outputs": [],
      "source": [
        ""
      ]
    },
    {
      "cell_type": "code",
      "execution_count": null,
      "metadata": {
        "id": "onUx_jQfnRUA"
      },
      "outputs": [],
      "source": [
        ""
      ]
    },
    {
      "cell_type": "code",
      "execution_count": null,
      "metadata": {
        "id": "mCOpjXvTgP75"
      },
      "outputs": [],
      "source": [
        "from sklearn.naive_bayes import MultinomialNB\n",
        "clf = MultinomialNB()\n",
        "clf.fit(X_train, y_train)"
      ]
    },
    {
      "cell_type": "code",
      "execution_count": null,
      "metadata": {
        "id": "BG5dQ_nGgPzS"
      },
      "outputs": [],
      "source": [
        "y_pred = clf.predict(X_test)\n",
        "print(y_pred)"
      ]
    },
    {
      "cell_type": "code",
      "execution_count": null,
      "metadata": {
        "id": "xbudmx3tp5D7"
      },
      "outputs": [],
      "source": [
        "confusion_matrix(y_test, y_pred)"
      ]
    },
    {
      "cell_type": "code",
      "execution_count": null,
      "metadata": {
        "id": "YEYgt2Usp5AR"
      },
      "outputs": [],
      "source": [
        "\n",
        "from sklearn.metrics import accuracy_score\n",
        "print('accuracy = ',accuracy_score(y_test, y_pred))"
      ]
    },
    {
      "cell_type": "code",
      "execution_count": null,
      "metadata": {
        "id": "Ugo8Tpn9p49A"
      },
      "outputs": [],
      "source": [
        ""
      ]
    },
    {
      "cell_type": "markdown",
      "metadata": {
        "id": "ILoTlkOSsf3c"
      },
      "source": [
        "# TEST"
      ]
    },
    {
      "cell_type": "code",
      "execution_count": null,
      "metadata": {
        "id": "75JzshrdSAQy"
      },
      "outputs": [],
      "source": [
        "import unittest"
      ]
    },
    {
      "cell_type": "code",
      "execution_count": null,
      "metadata": {
        "id": "9cPmPozzyyju"
      },
      "outputs": [],
      "source": [
        "from typing import AnyStr\n",
        "class Test(unittest.TestCase):\n",
        "  def test_tach_tu(self):\n",
        "    sentences = 'VTV đồng ý chia sẻ bản quyền World Cup 2018 cho HTV để khai thác. ' \\\n",
        "            'Nhưng cả hai nhà đài đều phải chờ sự đồng ý của FIFA mới thực hiện được điều này.'\n",
        "    test_list = [['VTV', 'đồng_ý', 'chia_sẻ', 'bản_quyền', 'World_Cup', '2018', 'cho', 'HTV', 'để', 'khai_thác', '.'], ['Nhưng', 'cả', 'hai', 'nhà', 'đài', 'đều', 'phải', 'chờ', 'sự', 'đồng_ý', 'của', 'FIFA', 'mới', 'thực_hiện', 'được', 'điều', 'này', '.']]\n",
        "    self.assertListEqual(vncorenlp.tokenize(sentences) , test_list)\n",
        "  def test_n_gram(self):\n",
        "    list = [['Áo', 'bao', 'đẹp', 'ạ', '!'], ['Tuyệt_vời', '!']]\n",
        "    test_main_list = n_gram(list, 2)\n",
        "    tmp = [' Áo bao đẹp ạ Áo_bao bao_đẹp đẹp_ạ','Tuyệt_vời']\n",
        "    self.assertEqual( test_main_list.tolist(), tmp)\n",
        "  def test_probability(self):\n",
        "    test_list = [\"a b c d\",\n",
        "\t\t\t\"A b c d\"]\n",
        "    ans = get_probability(test_list)\n",
        "    self.assertEqual(ans, {'a': 0.125, 'b': 0.25, 'c': 0.25, 'd': 0.25, 'A': 0.125})\n"
      ]
    },
    {
      "cell_type": "code",
      "execution_count": null,
      "metadata": {
        "id": "37OqjyVCSU9a"
      },
      "outputs": [],
      "source": [
        "unittest.main(argv=[''], verbosity=2, exit=False)"
      ]
    }
  ],
  "metadata": {
    "colab": {
      "collapsed_sections": [
        "R4f08nnS0Fq1",
        "znv6HzsFq9Zx",
        "bG73GSs4Cr2f",
        "_W1gJeitLTEk",
        "MASAFUqkK_XP"
      ],
      "name": "Bản sao của Bản sao của main_Sentiment_vietnamese.ipynb",
      "provenance": []
    },
    "kernelspec": {
      "display_name": "Python 3",
      "name": "python3"
    },
    "language_info": {
      "name": "python"
    }
  },
  "nbformat": 4,
  "nbformat_minor": 0
}